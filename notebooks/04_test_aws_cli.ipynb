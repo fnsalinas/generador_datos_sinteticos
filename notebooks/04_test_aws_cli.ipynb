{
 "cells": [
  {
   "cell_type": "code",
   "execution_count": 3,
   "metadata": {},
   "outputs": [],
   "source": [
    "from typing import Dict, List, Tuple, Any\n",
    "import json"
   ]
  },
  {
   "attachments": {},
   "cell_type": "markdown",
   "metadata": {},
   "source": [
    "## AWS EC2 CLI Commands\n",
    "https://docs.aws.amazon.com/cli/latest/reference/ec2/index.html#cli-aws-ec2"
   ]
  },
  {
   "attachments": {},
   "cell_type": "markdown",
   "metadata": {},
   "source": [
    "### Start an EC2 instance\n",
    "https://docs.aws.amazon.com/cli/latest/reference/ec2/start-instances.html"
   ]
  },
  {
   "cell_type": "code",
   "execution_count": null,
   "metadata": {},
   "outputs": [],
   "source": [
    "# run bash command and save the strout printed result in a variable\n",
    "instance_start = !aws ec2 start-instances --instance-ids \"i-0c65e628ef297f1e8\"\n",
    "instance_start: Dict[str, Any] = json.loads(\"\\n\".join(instance_start))"
   ]
  },
  {
   "cell_type": "code",
   "execution_count": null,
   "metadata": {},
   "outputs": [],
   "source": [
    "import os\n",
    "\n",
    "EC2_INSTANCE_ID = \"i-0c65e628ef297f1e8\"\n",
    "COMMAND: str = f\"aws ec2 start-instances --instance-ids {EC2_INSTANCE_ID}\"\n",
    "print(COMMAND)\n",
    "var01 = os.popen(COMMAND).read()\n",
    "var01"
   ]
  },
  {
   "cell_type": "code",
   "execution_count": 1,
   "metadata": {},
   "outputs": [
    {
     "ename": "NameError",
     "evalue": "name 'Dict' is not defined",
     "output_type": "error",
     "traceback": [
      "\u001b[0;31m---------------------------------------------------------------------------\u001b[0m",
      "\u001b[0;31mNameError\u001b[0m                                 Traceback (most recent call last)",
      "Cell \u001b[0;32mIn[1], line 1\u001b[0m\n\u001b[0;32m----> 1\u001b[0m \u001b[39mdef\u001b[39;00m \u001b[39mec2_instance_start\u001b[39m(instance_id: \u001b[39mstr\u001b[39m, max_attempts: \u001b[39mint\u001b[39m \u001b[39m=\u001b[39m \u001b[39m10\u001b[39m) \u001b[39m-\u001b[39m\u001b[39m>\u001b[39m Dict[\u001b[39mstr\u001b[39m, Any]:\n\u001b[1;32m      2\u001b[0m \u001b[39m    \u001b[39m\u001b[39m\"\"\"\u001b[39;00m\n\u001b[1;32m      3\u001b[0m \u001b[39m    Start an EC2 instance\u001b[39;00m\n\u001b[1;32m      4\u001b[0m \u001b[39m    Args:\u001b[39;00m\n\u001b[0;32m   (...)\u001b[0m\n\u001b[1;32m      7\u001b[0m \u001b[39m        Dict[str, Any]: Dictionary with the result of the command\u001b[39;00m\n\u001b[1;32m      8\u001b[0m \u001b[39m    \"\"\"\u001b[39;00m\n\u001b[1;32m      9\u001b[0m     \u001b[39mimport\u001b[39;00m \u001b[39mtime\u001b[39;00m\n",
      "\u001b[0;31mNameError\u001b[0m: name 'Dict' is not defined"
     ]
    }
   ],
   "source": [
    "def ec2_instance_start(instance_id: str, max_attempts: int = 10) -> Dict[str, Any]:\n",
    "    \"\"\"\n",
    "    Start an EC2 instance\n",
    "    Args:\n",
    "        instance_id (str): ID of the EC2 instance\n",
    "    Returns:\n",
    "        Dict[str, Any]: Dictionary with the result of the command\n",
    "    \"\"\"\n",
    "    import time\n",
    "    import json\n",
    "    import os\n",
    "    import logging as log\n",
    "    \n",
    "    # configure logging\n",
    "    format:str = \"%(asctime)s - %(levelname)s - %(filename)s:%(lineno)d - %(funcName)s - [%(message)s]\"\n",
    "    log.basicConfig(level=log.INFO, format=format)\n",
    "\n",
    "    states: Dict[str, str] = {0: \"pending\", 16: \"running\", 32: \"shutting-down\",\n",
    "                              48: \"terminated\", 64: \"stopping\", 80: \"stopped\"}\n",
    "\n",
    "    attempt: int = 0\n",
    "    current_state: str = \"pending\"\n",
    "    while current_state == \"pending\":\n",
    "        log.info(f\"Attempt {attempt} - Current state: {current_state} - Max attempts: {max_attempts} - Instance ID: {instance_id}\")\n",
    "        EC2_INSTANCE_ID: str = instance_id\n",
    "        COMMAND: str = f\"aws ec2 start-instances --instance-ids {EC2_INSTANCE_ID}\"\n",
    "        instance_start: str = os.popen(COMMAND).read()\n",
    "        log.debug(f\"Instance start: {instance_start}\")\n",
    "        instance_start: Dict[str, Any] = json.loads(instance_start)\n",
    "        current_state: str = instance_start[\"StartingInstances\"][0][\"CurrentState\"][\"Name\"]\n",
    "        if current_state == \"running\":\n",
    "            log.debug(f\"Instance {instance_id} started successfully\")\n",
    "        elif attempt == max_attempts:\n",
    "            log.critical(f\"Instance {instance_id} could not be started\")\n",
    "            break\n",
    "        else:\n",
    "            time.sleep(5)\n",
    "            attempt += 1\n",
    "\n",
    "    return instance_start\n"
   ]
  },
  {
   "cell_type": "code",
   "execution_count": 13,
   "metadata": {},
   "outputs": [
    {
     "name": "stderr",
     "output_type": "stream",
     "text": [
      "2023-02-18 11:01:02,182 - INFO - 3098971483.py:24 - start_ec2_instance - [Attempt 0 - Current state: pending - Max attempts: 10 - Instance ID: i-0c65e628ef297f1e8]\n",
      "2023-02-18 11:01:04,311 - DEBUG - 3098971483.py:28 - start_ec2_instance - [Instance start: {\n",
      "    \"StartingInstances\": [\n",
      "        {\n",
      "            \"CurrentState\": {\n",
      "                \"Code\": 0,\n",
      "                \"Name\": \"pending\"\n",
      "            },\n",
      "            \"InstanceId\": \"i-0c65e628ef297f1e8\",\n",
      "            \"PreviousState\": {\n",
      "                \"Code\": 80,\n",
      "                \"Name\": \"stopped\"\n",
      "            }\n",
      "        }\n",
      "    ]\n",
      "}\n",
      "]\n",
      "2023-02-18 11:01:09,316 - INFO - 3098971483.py:24 - start_ec2_instance - [Attempt 1 - Current state: pending - Max attempts: 10 - Instance ID: i-0c65e628ef297f1e8]\n",
      "2023-02-18 11:01:10,937 - DEBUG - 3098971483.py:28 - start_ec2_instance - [Instance start: {\n",
      "    \"StartingInstances\": [\n",
      "        {\n",
      "            \"CurrentState\": {\n",
      "                \"Code\": 0,\n",
      "                \"Name\": \"pending\"\n",
      "            },\n",
      "            \"InstanceId\": \"i-0c65e628ef297f1e8\",\n",
      "            \"PreviousState\": {\n",
      "                \"Code\": 0,\n",
      "                \"Name\": \"pending\"\n",
      "            }\n",
      "        }\n",
      "    ]\n",
      "}\n",
      "]\n",
      "2023-02-18 11:01:15,944 - INFO - 3098971483.py:24 - start_ec2_instance - [Attempt 2 - Current state: pending - Max attempts: 10 - Instance ID: i-0c65e628ef297f1e8]\n",
      "2023-02-18 11:01:17,568 - DEBUG - 3098971483.py:28 - start_ec2_instance - [Instance start: {\n",
      "    \"StartingInstances\": [\n",
      "        {\n",
      "            \"CurrentState\": {\n",
      "                \"Code\": 0,\n",
      "                \"Name\": \"pending\"\n",
      "            },\n",
      "            \"InstanceId\": \"i-0c65e628ef297f1e8\",\n",
      "            \"PreviousState\": {\n",
      "                \"Code\": 0,\n",
      "                \"Name\": \"pending\"\n",
      "            }\n",
      "        }\n",
      "    ]\n",
      "}\n",
      "]\n",
      "2023-02-18 11:01:22,575 - INFO - 3098971483.py:24 - start_ec2_instance - [Attempt 3 - Current state: pending - Max attempts: 10 - Instance ID: i-0c65e628ef297f1e8]\n",
      "2023-02-18 11:01:24,266 - DEBUG - 3098971483.py:28 - start_ec2_instance - [Instance start: {\n",
      "    \"StartingInstances\": [\n",
      "        {\n",
      "            \"CurrentState\": {\n",
      "                \"Code\": 0,\n",
      "                \"Name\": \"pending\"\n",
      "            },\n",
      "            \"InstanceId\": \"i-0c65e628ef297f1e8\",\n",
      "            \"PreviousState\": {\n",
      "                \"Code\": 0,\n",
      "                \"Name\": \"pending\"\n",
      "            }\n",
      "        }\n",
      "    ]\n",
      "}\n",
      "]\n",
      "2023-02-18 11:01:29,273 - INFO - 3098971483.py:24 - start_ec2_instance - [Attempt 4 - Current state: pending - Max attempts: 10 - Instance ID: i-0c65e628ef297f1e8]\n",
      "2023-02-18 11:01:30,864 - DEBUG - 3098971483.py:28 - start_ec2_instance - [Instance start: {\n",
      "    \"StartingInstances\": [\n",
      "        {\n",
      "            \"CurrentState\": {\n",
      "                \"Code\": 16,\n",
      "                \"Name\": \"running\"\n",
      "            },\n",
      "            \"InstanceId\": \"i-0c65e628ef297f1e8\",\n",
      "            \"PreviousState\": {\n",
      "                \"Code\": 16,\n",
      "                \"Name\": \"running\"\n",
      "            }\n",
      "        }\n",
      "    ]\n",
      "}\n",
      "]\n",
      "2023-02-18 11:01:30,866 - DEBUG - 3098971483.py:32 - start_ec2_instance - [Instance i-0c65e628ef297f1e8 started successfully]\n"
     ]
    }
   ],
   "source": [
    "state = ec2_instance_start(instance_id=\"i-0c65e628ef297f1e8\")"
   ]
  },
  {
   "cell_type": "code",
   "execution_count": null,
   "metadata": {},
   "outputs": [],
   "source": [
    "print(json.dumps(instance_start, indent=4))"
   ]
  },
  {
   "attachments": {},
   "cell_type": "markdown",
   "metadata": {},
   "source": [
    "### Stop an EC2 instance\n",
    "https://docs.aws.amazon.com/cli/latest/reference/ec2/stop-instances.html"
   ]
  },
  {
   "cell_type": "code",
   "execution_count": null,
   "metadata": {},
   "outputs": [],
   "source": [
    "EC2_INSTANCE_ID: str = \"i-0c65e628ef297f1e8\"\n",
    "instance_stop = !aws ec2 stop-instances --instance-ids {EC2_INSTANCE_ID}\n",
    "instance_stop: Dict[str, Any] = json.loads(\"\\n\".join(instance_stop))"
   ]
  },
  {
   "cell_type": "code",
   "execution_count": null,
   "metadata": {},
   "outputs": [],
   "source": [
    "instance_stop"
   ]
  },
  {
   "cell_type": "code",
   "execution_count": null,
   "metadata": {},
   "outputs": [],
   "source": [
    "!aws lightsail get-static-ips"
   ]
  },
  {
   "cell_type": "code",
   "execution_count": null,
   "metadata": {},
   "outputs": [],
   "source": [
    "!aws ec2 describe-addresses"
   ]
  },
  {
   "cell_type": "code",
   "execution_count": 4,
   "metadata": {},
   "outputs": [
    {
     "name": "stdout",
     "output_type": "stream",
     "text": [
      "{\n",
      "    \"Reservations\": [\n",
      "        {\n",
      "            \"Groups\": [],\n",
      "            \"Instances\": [\n",
      "                {\n",
      "                    \"AmiLaunchIndex\": 0,\n",
      "                    \"ImageId\": \"ami-00eeedc4036573771\",\n",
      "                    \"InstanceId\": \"i-0c65e628ef297f1e8\",\n",
      "                    \"InstanceType\": \"t2.micro\",\n",
      "                    \"KeyName\": \"ec2_micro_generador_data\",\n",
      "                    \"LaunchTime\": \"2023-02-18T16:01:03+00:00\",\n",
      "                    \"Monitoring\": {\n",
      "                        \"State\": \"disabled\"\n",
      "                    },\n",
      "                    \"Placement\": {\n",
      "                        \"AvailabilityZone\": \"us-east-2c\",\n",
      "                        \"GroupName\": \"\",\n",
      "                        \"Tenancy\": \"default\"\n",
      "                    },\n",
      "                    \"PrivateDnsName\": \"ip-172-31-34-153.us-east-2.compute.internal\",\n",
      "                    \"PrivateIpAddress\": \"172.31.34.153\",\n",
      "                    \"ProductCodes\": [],\n",
      "                    \"PublicDnsName\": \"ec2-3-144-234-222.us-east-2.compute.amazonaws.com\",\n",
      "                    \"PublicIpAddress\": \"3.144.234.222\",\n",
      "                    \"State\": {\n",
      "                        \"Code\": 16,\n",
      "                        \"Name\": \"running\"\n",
      "                    },\n",
      "                    \"StateTransitionReason\": \"\",\n",
      "                    \"SubnetId\": \"subnet-00d675f6409ac1959\",\n",
      "                    \"VpcId\": \"vpc-073a189dcef854018\",\n",
      "                    \"Architecture\": \"x86_64\",\n",
      "                    \"BlockDeviceMappings\": [\n",
      "                        {\n",
      "                            \"DeviceName\": \"/dev/sda1\",\n",
      "                            \"Ebs\": {\n",
      "                                \"AttachTime\": \"2023-02-10T15:59:13+00:00\",\n",
      "                                \"DeleteOnTermination\": true,\n",
      "                                \"Status\": \"attached\",\n",
      "                                \"VolumeId\": \"vol-05316098adf647083\"\n",
      "                            }\n",
      "                        }\n",
      "                    ],\n",
      "                    \"ClientToken\": \"5de75998-ed4e-4e0f-979f-20d833030832\",\n",
      "                    \"EbsOptimized\": false,\n",
      "                    \"EnaSupport\": true,\n",
      "                    \"Hypervisor\": \"xen\",\n",
      "                    \"NetworkInterfaces\": [\n",
      "                        {\n",
      "                            \"Association\": {\n",
      "                                \"IpOwnerId\": \"amazon\",\n",
      "                                \"PublicDnsName\": \"ec2-3-144-234-222.us-east-2.compute.amazonaws.com\",\n",
      "                                \"PublicIp\": \"3.144.234.222\"\n",
      "                            },\n",
      "                            \"Attachment\": {\n",
      "                                \"AttachTime\": \"2023-02-10T15:59:12+00:00\",\n",
      "                                \"AttachmentId\": \"eni-attach-0614e0315d7acede7\",\n",
      "                                \"DeleteOnTermination\": true,\n",
      "                                \"DeviceIndex\": 0,\n",
      "                                \"Status\": \"attached\",\n",
      "                                \"NetworkCardIndex\": 0\n",
      "                            },\n",
      "                            \"Description\": \"\",\n",
      "                            \"Groups\": [\n",
      "                                {\n",
      "                                    \"GroupName\": \"launch-wizard-1\",\n",
      "                                    \"GroupId\": \"sg-05fa80bbc7b08dc92\"\n",
      "                                }\n",
      "                            ],\n",
      "                            \"Ipv6Addresses\": [],\n",
      "                            \"MacAddress\": \"0a:99:d6:55:59:24\",\n",
      "                            \"NetworkInterfaceId\": \"eni-0b77f98f00170a391\",\n",
      "                            \"OwnerId\": \"017120165192\",\n",
      "                            \"PrivateDnsName\": \"ip-172-31-34-153.us-east-2.compute.internal\",\n",
      "                            \"PrivateIpAddress\": \"172.31.34.153\",\n",
      "                            \"PrivateIpAddresses\": [\n",
      "                                {\n",
      "                                    \"Association\": {\n",
      "                                        \"IpOwnerId\": \"amazon\",\n",
      "                                        \"PublicDnsName\": \"ec2-3-144-234-222.us-east-2.compute.amazonaws.com\",\n",
      "                                        \"PublicIp\": \"3.144.234.222\"\n",
      "                                    },\n",
      "                                    \"Primary\": true,\n",
      "                                    \"PrivateDnsName\": \"ip-172-31-34-153.us-east-2.compute.internal\",\n",
      "                                    \"PrivateIpAddress\": \"172.31.34.153\"\n",
      "                                }\n",
      "                            ],\n",
      "                            \"SourceDestCheck\": true,\n",
      "                            \"Status\": \"in-use\",\n",
      "                            \"SubnetId\": \"subnet-00d675f6409ac1959\",\n",
      "                            \"VpcId\": \"vpc-073a189dcef854018\",\n",
      "                            \"InterfaceType\": \"interface\"\n",
      "                        }\n",
      "                    ],\n",
      "                    \"RootDeviceName\": \"/dev/sda1\",\n",
      "                    \"RootDeviceType\": \"ebs\",\n",
      "                    \"SecurityGroups\": [\n",
      "                        {\n",
      "                            \"GroupName\": \"launch-wizard-1\",\n",
      "                            \"GroupId\": \"sg-05fa80bbc7b08dc92\"\n",
      "                        }\n",
      "                    ],\n",
      "                    \"SourceDestCheck\": true,\n",
      "                    \"VirtualizationType\": \"hvm\",\n",
      "                    \"CpuOptions\": {\n",
      "                        \"CoreCount\": 1,\n",
      "                        \"ThreadsPerCore\": 1\n",
      "                    },\n",
      "                    \"CapacityReservationSpecification\": {\n",
      "                        \"CapacityReservationPreference\": \"open\"\n",
      "                    },\n",
      "                    \"HibernationOptions\": {\n",
      "                        \"Configured\": false\n",
      "                    },\n",
      "                    \"MetadataOptions\": {\n",
      "                        \"State\": \"applied\",\n",
      "                        \"HttpTokens\": \"optional\",\n",
      "                        \"HttpPutResponseHopLimit\": 1,\n",
      "                        \"HttpEndpoint\": \"enabled\",\n",
      "                        \"HttpProtocolIpv6\": \"disabled\",\n",
      "                        \"InstanceMetadataTags\": \"disabled\"\n",
      "                    },\n",
      "                    \"EnclaveOptions\": {\n",
      "                        \"Enabled\": false\n",
      "                    },\n",
      "                    \"PlatformDetails\": \"Linux/UNIX\",\n",
      "                    \"UsageOperation\": \"RunInstances\",\n",
      "                    \"UsageOperationUpdateTime\": \"2023-02-10T15:59:12+00:00\",\n",
      "                    \"PrivateDnsNameOptions\": {\n",
      "                        \"HostnameType\": \"ip-name\",\n",
      "                        \"EnableResourceNameDnsARecord\": true,\n",
      "                        \"EnableResourceNameDnsAAAARecord\": false\n",
      "                    },\n",
      "                    \"MaintenanceOptions\": {\n",
      "                        \"AutoRecovery\": \"default\"\n",
      "                    }\n",
      "                }\n",
      "            ],\n",
      "            \"OwnerId\": \"017120165192\",\n",
      "            \"ReservationId\": \"r-00136f6179ff3e415\"\n",
      "        }\n",
      "    ]\n",
      "}\n"
     ]
    }
   ],
   "source": [
    "EC2_INSTANCE_ID: str = \"i-0c65e628ef297f1e8\"\n",
    "!aws ec2 describe-instances \\\n",
    "    --filters \\\n",
    "        \"Name=instance-state-name,Values=running\" \\\n",
    "        \"Name=instance-id,Values={EC2_INSTANCE_ID}\" \\\n",
    "    # --query 'Reservations[*].Instances[*].[PrivateIpAddress, PublicIpAddress]' \\\n",
    "    --output json"
   ]
  },
  {
   "attachments": {},
   "cell_type": "markdown",
   "metadata": {},
   "source": [
    "### Para revisar después: Alocar una dirección IP pública a una instancia EC2 (Elastic IP Address)\n",
    "### Esta IP no cambiará cuando la VM se reinice.\n",
    "https://docs.aws.amazon.com/AWSEC2/latest/UserGuide/elastic-ip-addresses-eip.html"
   ]
  },
  {
   "cell_type": "markdown",
   "metadata": {},
   "source": []
  }
 ],
 "metadata": {
  "kernelspec": {
   "display_name": "generador_datos_sinteticos-Nir3Ushe",
   "language": "python",
   "name": "python3"
  },
  "language_info": {
   "codemirror_mode": {
    "name": "ipython",
    "version": 3
   },
   "file_extension": ".py",
   "mimetype": "text/x-python",
   "name": "python",
   "nbconvert_exporter": "python",
   "pygments_lexer": "ipython3",
   "version": "3.8.10"
  },
  "orig_nbformat": 4,
  "vscode": {
   "interpreter": {
    "hash": "9d722eabd0a3d98b789312024abc085e9cffd7a9ec729d87257a3629761920b9"
   }
  }
 },
 "nbformat": 4,
 "nbformat_minor": 2
}
