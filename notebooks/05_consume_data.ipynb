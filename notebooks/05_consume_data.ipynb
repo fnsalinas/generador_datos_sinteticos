{
 "cells": [
  {
   "cell_type": "code",
   "execution_count": 51,
   "metadata": {},
   "outputs": [
    {
     "name": "stdout",
     "output_type": "stream",
     "text": [
      "Collecting psycopg2-binary\n",
      "  Downloading psycopg2_binary-2.9.6-cp38-cp38-manylinux_2_17_x86_64.manylinux2014_x86_64.whl (3.0 MB)\n",
      "\u001b[2K     \u001b[90m━━━━━━━━━━━━━━━━━━━━━━━━━━━━━━━━━━━━━━━━\u001b[0m \u001b[32m3.0/3.0 MB\u001b[0m \u001b[31m6.2 MB/s\u001b[0m eta \u001b[36m0:00:00\u001b[0m00:01\u001b[0m00:01\u001b[0mm\n",
      "\u001b[?25hInstalling collected packages: psycopg2-binary\n",
      "Successfully installed psycopg2-binary-2.9.6\n",
      "\n",
      "\u001b[1m[\u001b[0m\u001b[34;49mnotice\u001b[0m\u001b[1;39;49m]\u001b[0m\u001b[39;49m A new release of pip is available: \u001b[0m\u001b[31;49m23.0\u001b[0m\u001b[39;49m -> \u001b[0m\u001b[32;49m23.0.1\u001b[0m\n",
      "\u001b[1m[\u001b[0m\u001b[34;49mnotice\u001b[0m\u001b[1;39;49m]\u001b[0m\u001b[39;49m To update, run: \u001b[0m\u001b[32;49mpip install --upgrade pip\u001b[0m\n"
     ]
    }
   ],
   "source": [
    "!pip install psycopg2-binary"
   ]
  },
  {
   "cell_type": "code",
   "execution_count": 7,
   "metadata": {},
   "outputs": [],
   "source": [
    "from typing import List, Tuple, Dict, Any\n",
    "import json\n",
    "import requests\n",
    "import psycopg2\n",
    "from contextlib import closing"
   ]
  },
  {
   "cell_type": "code",
   "execution_count": 8,
   "metadata": {},
   "outputs": [],
   "source": [
    "endopoint = \"http://localhost:8000/get_1_clients\""
   ]
  },
  {
   "cell_type": "code",
   "execution_count": 9,
   "metadata": {},
   "outputs": [
    {
     "name": "stdout",
     "output_type": "stream",
     "text": [
      "client_data\n",
      "user_data\n",
      "product_data\n",
      "category_data\n",
      "order_data\n",
      "invoice_data\n"
     ]
    }
   ],
   "source": [
    "response: requests.Response = requests.get(endopoint)\n",
    "response_json: Dict[str, Any] = json.loads(response.text)[0]\n",
    "_ = [print(key) for key in response_json.keys()]"
   ]
  },
  {
   "cell_type": "code",
   "execution_count": 10,
   "metadata": {},
   "outputs": [],
   "source": [
    "client_data: Dict[str, Any] = response_json.get(\"client_data\")\n",
    "user_data: Dict[str, Any] = response_json.get(\"user_data\")\n",
    "product_data: Dict[str, Any] = response_json.get(\"product_data\")\n",
    "category_data: Dict[str, Any] = response_json.get(\"category_data\")\n",
    "order_data: Dict[str, Any] = response_json.get(\"order_data\")\n",
    "invoice_data: Dict[str, Any] = response_json.get(\"invoice_data\")"
   ]
  },
  {
   "cell_type": "code",
   "execution_count": 48,
   "metadata": {},
   "outputs": [
    {
     "name": "stdout",
     "output_type": "stream",
     "text": [
      "\n",
      "DROP TABLE IF EXISTS gcp_poc.onpremise.invoices;\n",
      "CREATE TABLE gcp_poc.onpremise.invoices (\n",
      "  invoice_id varchar, --257E65DDFECE4C139CC0B4B0EC0B8A12\n",
      "  invoice_customer_id varchar, --93C1B476399A4811831DDBAAA6663260\n",
      "  invoice_order_id varchar, --E3CA997E7BD64583B8897C73ADCF9EE9\n",
      "  invoice_amount varchar, --14409.0\n",
      "  invoice_created_at varchar, --2023-03-31 02:50:15 UTC\n",
      "  invoice_updated_at varchar, --\n",
      ");\n"
     ]
    }
   ],
   "source": [
    "data_list_tuples: List[Tuple[str, str]] = [(col, str(sample).replace(\"\\n\", \"\")) for col, sample in invoice_data.items()]\n",
    "DDL_Columns: str = \"\\n\".join([f\"  {col} varchar, --{sample}\" for col, sample in data_list_tuples])\n",
    "TABLE_NAME: str = \"gcp_poc.onpremise.invoices\"\n",
    "DDl: str = f\"\"\"\n",
    "DROP TABLE IF EXISTS {TABLE_NAME};\n",
    "CREATE TABLE {TABLE_NAME} (\n",
    "{DDL_Columns}\n",
    ");\"\"\"\n",
    "\n",
    "print(DDl)"
   ]
  },
  {
   "cell_type": "code",
   "execution_count": 36,
   "metadata": {},
   "outputs": [
    {
     "name": "stderr",
     "output_type": "stream",
     "text": [
      "2023-04-07 20:09:59,575 - urllib3.connectionpool - DEBUG - Starting new HTTP connection (1): localhost:8000\n",
      "2023-04-07 20:09:59,659 - urllib3.connectionpool - DEBUG - http://localhost:8000 \"GET /get_1_clients HTTP/1.1\" 200 2816\n",
      "2023-04-07 20:09:59,672 - root - INFO - Sleeping for 78 seconds\n",
      "2023-04-07 20:11:17,757 - urllib3.connectionpool - DEBUG - Starting new HTTP connection (1): localhost:8000\n",
      "2023-04-07 20:11:17,825 - urllib3.connectionpool - DEBUG - http://localhost:8000 \"GET /get_1_clients HTTP/1.1\" 200 2783\n",
      "2023-04-07 20:11:17,840 - root - INFO - Sleeping for 41 seconds\n",
      "2023-04-07 20:11:58,904 - urllib3.connectionpool - DEBUG - Starting new HTTP connection (1): localhost:8000\n",
      "2023-04-07 20:11:58,996 - urllib3.connectionpool - DEBUG - http://localhost:8000 \"GET /get_1_clients HTTP/1.1\" 200 2720\n",
      "2023-04-07 20:11:59,008 - root - INFO - Sleeping for 23 seconds\n",
      "2023-04-07 20:12:22,038 - urllib3.connectionpool - DEBUG - Starting new HTTP connection (1): localhost:8000\n",
      "2023-04-07 20:12:22,104 - urllib3.connectionpool - DEBUG - http://localhost:8000 \"GET /get_1_clients HTTP/1.1\" 200 2787\n",
      "2023-04-07 20:12:22,120 - root - INFO - Sleeping for 103 seconds\n"
     ]
    },
    {
     "ename": "KeyboardInterrupt",
     "evalue": "",
     "output_type": "error",
     "traceback": [
      "\u001b[0;31m---------------------------------------------------------------------------\u001b[0m",
      "\u001b[0;31mKeyboardInterrupt\u001b[0m                         Traceback (most recent call last)",
      "Cell \u001b[0;32mIn[36], line 105\u001b[0m\n\u001b[1;32m    103\u001b[0m     logging\u001b[39m.\u001b[39merror(\u001b[39mf\u001b[39m\u001b[39m\"\u001b[39m\u001b[39mError: \u001b[39m\u001b[39m{\u001b[39;00me\u001b[39m}\u001b[39;00m\u001b[39m\"\u001b[39m)\n\u001b[1;32m    104\u001b[0m logging\u001b[39m.\u001b[39minfo(\u001b[39mf\u001b[39m\u001b[39m\"\u001b[39m\u001b[39mSleeping for \u001b[39m\u001b[39m{\u001b[39;00mseconds\u001b[39m}\u001b[39;00m\u001b[39m seconds\u001b[39m\u001b[39m\"\u001b[39m)\n\u001b[0;32m--> 105\u001b[0m time\u001b[39m.\u001b[39;49msleep(seconds)\n",
      "\u001b[0;31mKeyboardInterrupt\u001b[0m: "
     ]
    }
   ],
   "source": [
    "from typing import List, Tuple, Dict, Any\n",
    "import json\n",
    "import requests\n",
    "import psycopg2\n",
    "from contextlib import closing\n",
    "import time\n",
    "import random\n",
    "import logging\n",
    "\n",
    "# configure logging\n",
    "logging.basicConfig(\n",
    "    level=logging.NOTSET,\n",
    "    format=\"%(asctime)s - %(name)s - %(levelname)s - %(message)s\",\n",
    "    handlers=[\n",
    "        logging.FileHandler(\"log_insert_data.log\"),\n",
    "        logging.StreamHandler()\n",
    "    ]\n",
    ")\n",
    "\n",
    "def run_insert_query(query: str, connection: psycopg2.extensions.connection) -> None:\n",
    "    try:\n",
    "        cursor: psycopg2.extensions.cursor = connection.cursor()\n",
    "        cursor.execute(query)\n",
    "        connection.commit()\n",
    "        cursor.close()\n",
    "    except Exception as e:\n",
    "        logging.error(f\"Error: {e}\")\n",
    "        logging.error(f\"Query: {query}\")\n",
    "        connection.rollback()\n",
    "\n",
    "\n",
    "def get_sql_statements(\n",
    "    client_data: Dict[str, Any],\n",
    "    user_data: Dict[str, Any],\n",
    "    product_data: Dict[str, Any],\n",
    "    category_data: Dict[str, Any],\n",
    "    order_data: Dict[str, Any],\n",
    "    invoice_data: Dict[str, Any]\n",
    "    ) -> Tuple[str, str, str, str, str, str]:\n",
    "    client_columns: str = \", \".join([col for col, _ in client_data.items()])\n",
    "    client_values: str = \", \".join([f\"'{str(value)}'\" for _, value in client_data.items()])\n",
    "    SQL_CLIENTS: str = f\"INSERT INTO gcp_poc.onpremise.clients ({client_columns}) VALUES ({client_values});\".replace(\"''\", \"NULL\")\n",
    "\n",
    "    user_columns: str = \", \".join([col for col, _ in user_data.items()])\n",
    "    user_values: str = \", \".join([f\"'{str(value)}'\" for _, value in user_data.items()])\n",
    "    SQL_USERS: str = f\"INSERT INTO gcp_poc.onpremise.users ({user_columns}) VALUES ({user_values});\".replace(\"''\", \"NULL\")\n",
    "\n",
    "    product_columns: str = \", \".join([col for col, _ in product_data.items()])\n",
    "    product_values: str = \", \".join([f\"\"\"'{str(value).replace(\"'\", \"\")}'\"\"\" for _, value in product_data.items()])\n",
    "    SQL_PRODUCT: str = f\"INSERT INTO gcp_poc.onpremise.products ({product_columns}) VALUES ({product_values});\".replace(\"''\", \"NULL\")\n",
    "\n",
    "    categories_columns: str = \", \".join([col for col, _ in category_data.items()])\n",
    "    categories_values: str = \", \".join([f\"\"\"'{str(value).replace(\"'\", \"\")}'\"\"\" for _, value in category_data.items()])\n",
    "    SQL_CATEGORIES: str = f\"INSERT INTO gcp_poc.onpremise.categories ({categories_columns}) VALUES ({categories_values});\".replace(\"''\", \"NULL\")\n",
    "\n",
    "    orders_columns: str = \", \".join([col for col, _ in order_data.items()])\n",
    "    orders_values: str = \", \".join([f\"\"\"'{str(value).replace(\"'\", \"\")}'\"\"\" for _, value in order_data.items()])\n",
    "    SQL_ORDERS: str = f\"INSERT INTO gcp_poc.onpremise.orders ({orders_columns}) VALUES ({orders_values});\".replace(\"''\", \"NULL\")\n",
    "\n",
    "    invoice_columns: str = \", \".join([col for col, _ in invoice_data.items()])\n",
    "    invoice_values: str = \", \".join([f\"\"\"'{str(value).replace(\"'\", \"\")}'\"\"\" for _, value in invoice_data.items()])\n",
    "    SQL_INVOICE: str = f\"INSERT INTO gcp_poc.onpremise.invoices ({invoice_columns}) VALUES ({invoice_values});\".replace(\"''\", \"NULL\")\n",
    "    \n",
    "    return SQL_CLIENTS, SQL_USERS, SQL_PRODUCT, SQL_CATEGORIES, SQL_ORDERS, SQL_INVOICE\n",
    "\n",
    "def run_insert_row():\n",
    "    # db connection\n",
    "    connection: psycopg2.extensions.connection = psycopg2.connect(\n",
    "        host=\"localhost\",\n",
    "        port=5432,\n",
    "        database=\"gcp_poc\",\n",
    "        user=\"fabio\",\n",
    "        password=\"fabio\"\n",
    "    )\n",
    "\n",
    "    with closing(connection) as cn:\n",
    "        \n",
    "        endopoint = \"http://localhost:8000/get_1_clients\"\n",
    "        response: requests.Response = requests.get(endopoint)\n",
    "        response_json: Dict[str, Any] = json.loads(response.text)[0]\n",
    "        \n",
    "        client_data: Dict[str, Any] = response_json.get(\"client_data\")\n",
    "        user_data: Dict[str, Any] = response_json.get(\"user_data\")\n",
    "        product_data: Dict[str, Any] = response_json.get(\"product_data\")\n",
    "        category_data: Dict[str, Any] = response_json.get(\"category_data\")\n",
    "        order_data: Dict[str, Any] = response_json.get(\"order_data\")\n",
    "        invoice_data: Dict[str, Any] = response_json.get(\"invoice_data\")\n",
    "        \n",
    "        SQL_CLIENTS, SQL_USERS, SQL_PRODUCT, SQL_CATEGORIES, SQL_ORDERS, SQL_INVOICE = get_sql_statements(client_data, user_data, product_data, category_data, order_data, invoice_data)\n",
    "        run_insert_query(SQL_CLIENTS, connection)\n",
    "        run_insert_query(SQL_USERS, cn)\n",
    "        run_insert_query(SQL_PRODUCT, cn)\n",
    "        run_insert_query(SQL_CATEGORIES, cn)\n",
    "        run_insert_query(SQL_ORDERS, cn)\n",
    "        run_insert_query(SQL_INVOICE, cn)\n",
    "\n",
    "if __name__ == \"__main__\":\n",
    "    while True:\n",
    "        seconds: int = random.randrange(1, 120)\n",
    "        try:\n",
    "            run_insert_row()\n",
    "        except Exception as e:\n",
    "            logging.error(f\"Error: {e}\")\n",
    "        logging.info(f\"Sleeping for {seconds} seconds\")\n",
    "        time.sleep(seconds)"
   ]
  },
  {
   "cell_type": "code",
   "execution_count": null,
   "metadata": {},
   "outputs": [],
   "source": []
  }
 ],
 "metadata": {
  "kernelspec": {
   "display_name": "generador_datos_sinteticos-Nir3Ushe",
   "language": "python",
   "name": "python3"
  },
  "language_info": {
   "codemirror_mode": {
    "name": "ipython",
    "version": 3
   },
   "file_extension": ".py",
   "mimetype": "text/x-python",
   "name": "python",
   "nbconvert_exporter": "python",
   "pygments_lexer": "ipython3",
   "version": "3.8.10"
  },
  "orig_nbformat": 4
 },
 "nbformat": 4,
 "nbformat_minor": 2
}
