{
 "cells": [
  {
   "attachments": {},
   "cell_type": "markdown",
   "metadata": {},
   "source": [
    "# Testing the package to generate Synthetic Data\n",
    "2023-02-09  \n",
    "**Ref**: [faker](https://github.com/joke2k/faker)"
   ]
  },
  {
   "cell_type": "code",
   "execution_count": 1,
   "metadata": {},
   "outputs": [],
   "source": [
    "from faker import Faker\n",
    "fake = Faker()"
   ]
  },
  {
   "cell_type": "code",
   "execution_count": 2,
   "metadata": {},
   "outputs": [
    {
     "data": {
      "text/plain": [
       "'Kristi Morris'"
      ]
     },
     "execution_count": 2,
     "metadata": {},
     "output_type": "execute_result"
    }
   ],
   "source": [
    "fake.name()"
   ]
  },
  {
   "cell_type": "code",
   "execution_count": 3,
   "metadata": {},
   "outputs": [
    {
     "data": {
      "text/plain": [
       "'22403 Carter Corner\\nSouth Williambury, SD 52084'"
      ]
     },
     "execution_count": 3,
     "metadata": {},
     "output_type": "execute_result"
    }
   ],
   "source": [
    "fake.address()"
   ]
  },
  {
   "cell_type": "code",
   "execution_count": 4,
   "metadata": {},
   "outputs": [
    {
     "data": {
      "text/plain": [
       "'Form factor both international plant allow. President product wide example eat as its. Edge edge floor marriage.\\nIncluding do as. Capital defense state available.'"
      ]
     },
     "execution_count": 4,
     "metadata": {},
     "output_type": "execute_result"
    }
   ],
   "source": [
    "fake.text()"
   ]
  },
  {
   "cell_type": "code",
   "execution_count": 5,
   "metadata": {},
   "outputs": [
    {
     "name": "stdout",
     "output_type": "stream",
     "text": [
      "192.168.214.75\n"
     ]
    }
   ],
   "source": [
    "from faker import Faker\n",
    "from faker.providers import internet\n",
    "\n",
    "fake = Faker()\n",
    "fake.add_provider(internet)\n",
    "\n",
    "print(fake.ipv4_private())"
   ]
  },
  {
   "cell_type": "code",
   "execution_count": 9,
   "metadata": {},
   "outputs": [
    {
     "name": "stdout",
     "output_type": "stream",
     "text": [
      "Cindy Wilson\n",
      "Natividad del Valenzuela\n",
      "Ovidio Martorell Uría\n",
      "Krystal Harris\n",
      "Encarnacion Cano Barbero\n",
      "Michael Johnson\n",
      "Galo Jáuregui Castell\n",
      "Jonathan Watson\n",
      "Seth Mason\n",
      "Pili Chaparro Luque\n"
     ]
    }
   ],
   "source": [
    "from faker import Faker\n",
    "fake = Faker(['es_ES', 'en_US'])\n",
    "for _ in range(10):\n",
    "    print(fake.name())"
   ]
  },
  {
   "cell_type": "code",
   "execution_count": 19,
   "metadata": {},
   "outputs": [
    {
     "data": {
      "text/plain": [
       "'42673 Patel Center Apt. 483\\nVictoriafort, VA 03680'"
      ]
     },
     "execution_count": 19,
     "metadata": {},
     "output_type": "execute_result"
    }
   ],
   "source": [
    "fake.address()"
   ]
  },
  {
   "cell_type": "code",
   "execution_count": 20,
   "metadata": {},
   "outputs": [
    {
     "data": {
      "text/plain": [
       "'Guipúzcoa'"
      ]
     },
     "execution_count": 20,
     "metadata": {},
     "output_type": "execute_result"
    }
   ],
   "source": [
    "fake.administrative_unit()"
   ]
  },
  {
   "cell_type": "code",
   "execution_count": 21,
   "metadata": {},
   "outputs": [
    {
     "data": {
      "text/plain": [
       "'AM'"
      ]
     },
     "execution_count": 21,
     "metadata": {},
     "output_type": "execute_result"
    }
   ],
   "source": [
    "fake.am_pm()"
   ]
  },
  {
   "cell_type": "code",
   "execution_count": 29,
   "metadata": {},
   "outputs": [
    {
     "data": {
      "text/plain": [
       "'Android 4.1.2'"
      ]
     },
     "execution_count": 29,
     "metadata": {},
     "output_type": "execute_result"
    }
   ],
   "source": [
    "fake.android_platform_token()"
   ]
  },
  {
   "cell_type": "code",
   "execution_count": 37,
   "metadata": {},
   "outputs": [
    {
     "data": {
      "text/plain": [
       "'cornejojuana@jover-serna.es'"
      ]
     },
     "execution_count": 37,
     "metadata": {},
     "output_type": "execute_result"
    }
   ],
   "source": [
    "fake.ascii_company_email()"
   ]
  },
  {
   "cell_type": "code",
   "execution_count": 44,
   "metadata": {},
   "outputs": [
    {
     "data": {
      "text/plain": [
       "'william53@yahoo.com'"
      ]
     },
     "execution_count": 44,
     "metadata": {},
     "output_type": "execute_result"
    }
   ],
   "source": [
    "fake.ascii_email()"
   ]
  },
  {
   "cell_type": "code",
   "execution_count": 45,
   "metadata": {},
   "outputs": [
    {
     "data": {
      "text/plain": [
       "'jacksonjennifer@hotmail.com'"
      ]
     },
     "execution_count": 45,
     "metadata": {},
     "output_type": "execute_result"
    }
   ],
   "source": [
    "fake.ascii_free_email()"
   ]
  },
  {
   "cell_type": "code",
   "execution_count": 46,
   "metadata": {},
   "outputs": [
    {
     "data": {
      "text/plain": [
       "'rrichardson@example.com'"
      ]
     },
     "execution_count": 46,
     "metadata": {},
     "output_type": "execute_result"
    }
   ],
   "source": [
    "fake.ascii_safe_email()"
   ]
  },
  {
   "cell_type": "code",
   "execution_count": 47,
   "metadata": {},
   "outputs": [
    {
     "data": {
      "text/plain": [
       "'Comunidad Foral de Navarra'"
      ]
     },
     "execution_count": 47,
     "metadata": {},
     "output_type": "execute_result"
    }
   ],
   "source": [
    "fake.autonomous_community()"
   ]
  },
  {
   "cell_type": "code",
   "execution_count": 52,
   "metadata": {},
   "outputs": [
    {
     "data": {
      "text/plain": [
       "'ES'"
      ]
     },
     "execution_count": 52,
     "metadata": {},
     "output_type": "execute_result"
    }
   ],
   "source": [
    "fake.bank_country()"
   ]
  },
  {
   "cell_type": "code",
   "execution_count": 59,
   "metadata": {},
   "outputs": [
    {
     "data": {
      "text/plain": [
       "'GPKT03991361751624'"
      ]
     },
     "execution_count": 59,
     "metadata": {},
     "output_type": "execute_result"
    }
   ],
   "source": [
    "fake.bban()"
   ]
  },
  {
   "cell_type": "code",
   "execution_count": 63,
   "metadata": {},
   "outputs": [
    {
     "data": {
      "text/plain": [
       "b'^\\x9e\\xfb\\xca% uj\\x9a\\xb6t\\x88\\x9b\\xccT\\xfa(Q\\x90L\\xc2m\\xbd\\x1f\\x18\\r\\xad\\xda\\xdd\\n\\xa82\\x03\\xebz\\xeaI\\xca\\x08\\xe6$\\xd8\\xe4\\xcaBY\\xab\\xb9\\xddu\\x1f\\xd2\\xc2r\\x87Bd\\xdeR\\xd5j\\xd2\\xed\\x8f( \\x1b\\x9e$$\\x99m\\x17\\xc9J\\xbf\\'wzYG\\xa5~B\\x81\\x99\\x80\\x99Im2\"`5\\x89 !\\xbb\\xd5\\x94\\xb2(\\x0fN/\\xf2\\x8f7\\xb6LCo\\xc5Aj\\x142\\xf8\\xbcj\\x82\\'m\\xb4\\\\;\\xbb\\xc5\\xcf\\xeba\\xb3\\xa3\\x8a\\x05%\\xbd\\x9f\\xf11\\xf70erdx^[8\\xd9\\x0b\\xb5M\\xba\\xe5Q\\x16\\x12\\r\\xfb\\xe7(\\xcbCV\\xed\\x82\\xaf\\x90\\xe6\\xa2\\xc2\\x07f\\x03\\x94\\x884;&\\xc6 \\xaf;\\x17\\xbe\\x04\\xce\\x1cn\\x120\\xd3\\x8e\\xcd\\xd2\\xfb\\x14u\\xdb\\xcf\\xab\\x96\\xc2\\x0fXK\\xae+kc;o\\t)\\x0e@\\xa4nR\\xad|8\\x04\\xc1\\xa6\\x07\\xf8=L\\x01\\xc2\\x83\\xfd\\x0cC\\x92rZ\\x8d\\xa1}\\xb6k\\xf8\\x97\\xff\\x98\\xf2L_\\x00\\xab\\xbf\\xe0\\x96\\t\\xa9\\x989\\x07A:\\xc8\\xa2\\x9ec+<x\\x05\\xc1]\\xd0\\x85Y\\x935\\xa7,;~\\xec3`\\xf0\\xf4\\xca\\x91ATC\\x84\\xe8\\x92\\xa2bi\\x0f\\xf9c]\\x11\\n\\xe9\\x89\\xff+v\\xfc\\x1c<\\xed\\x19\\x0em\\x99\\xc8E\\x94Bq\\xce\\x88\\xfbb\\x15cw\\x82\\x1d\\xa08\\xf3\\xd6\\xa1\\'\\xad\\xa04@\\xb7\\xfa\\xc1\\xb0\\x85Qh\\x80\\xb7\\xeb\\xa1\\xeeo\\xfd\\x19/yP\\xed\\xab_\\xa2B\\xa6\\xea\\xdcE\\xf9f\\x1b\\xc1\\xa6\\xd6\\xb1\\xd2\\x93\\xb5|\\xe0\\xed\\xce!d\\x12\\x9b_%\\xdf\\x91\\xe3\\xea\\x93RLv\\xa2\\x8dx\\x99\\x85\\xbd{\\xc9\\x84\\x10\\x02?\\xf1\\xe5\\x9e\\x89o\\xde\\x92\\x82\\xe4\\x01\\xbd\\xeaa\\xbc`\\xbd(\\xf0e\\x9b+\\xe5]\\xe8\\xf4\\xbe\\xb1/\\xc1&\\xd3\\x00\\xf9Q!\\xbe\\xdd@_\\x9a\\xd5\\r\\xd8\\xcc\\x0f\\x99x\\x96vL{\\xc1\\x1b\\x97u\\x0b+\\x18r$\\xfd\\xa0\\xb8\\x1a\\xb5\\x05\\xb1\\xf1\\xe5\\xcf\\x7fs\\xae\\xb0\\x86\\xcf;\\x07b\\xf1\\xefC\\xaa\\xe0\\xe5U\\x17;\\x02\\xff\\x8d5\\xe9N\\xbeSW*\\xc7!k7\\xa9\\x99\\xa7\\x8e\\x08\\xce\\x9d$\\xddQ\\xd1V\\xeaLf\\x83OG\\x12\\x9ev\\x8e(\\x9b\\x03m\\xb9l\\x90\\xb9\\x8d\\t\\x19\\xc3\\xf7\\xe7\\x08\\x1f\\x8b\\xc8\\xdc\\x04\\x83\\x92V\\xbaF\\xbc\\xbf2\\x7f\\x92Z\\xea\\x8f\\x9a_\\x8a\\x08\\xa0\\x93\\xddw\\xa8\\x82/\\r\\x1aH\\xe6\\x0c\\xd7\\xe6)\\xfam\\x84V\\xe41KpVg*\\xc7\\x85\\x82\\xba\\xf4\\x99|I\\xa2\\xacu4\\x11\\xefH\\x96X\\x00x\\x03\\xa4\\x14f\\xf5\\xe0\\x86\\xe3\\x0bO\\'77\\xc9N\\x9e\\x07\\xd5\\x1c<\\xff{d\\xdf#\\x12yW\\x08\\xc9arU[\\xd8_<\\xe5\\xbeY`[|\\xa4\\xa0\\x0e\\xfd\\xc8\\x12uU\\xd2S\\x85\\xba\\xa7\\xe1\\x7f\\x7f+v\\xadF\\xf4<%\\xaa\\xe1\\xcd+9\\xb9\\xec\\x84Z\\x9b\\xc9\\xbb\\x9e\\x16\\n#\\xd8\\\\H\\xf1^\\xd2\\xe5*y\\x87!\\xf2T\\xb9\\x19\\xeb\\xbft\\xfd.\\x8cf\\x97\\xd7\\xbeJ\\xe1S\\xcb\\x83\\x0f\\x93\\xa5\\x07\\xa1 \\x02eG-\\x04S>\\x89\\x9d\\xc1\\xd3e\\x00\\x91|\\xe4\\xa5\\t\\x99&\\x1d\\xc8y\\x00J\"/\\xbd/?\\xa9\\x83\\xe7\\xc9c*\\xf6\\x07|q\\xfd\\xe5\\x99f5\\xf3s\\xf1\\x9e\\xd3\\xde\\xa0O\\x84\\x0f\\xd3)\\x81B\\xc6+\\x93/\\x03\\xf1\\xaa\\x15B\\xcb*3\\xaa\\x93|\\xabHg\\x81\\xf1\\x02t\\x7f\\x93\\xe1\\x89!\\x14dLR4\\xdc\\xfe\\xe10\\xc9}\\x1a\\x88N[\\xee4!\\xa2\\xa2\\x82\\xdd\\xb0Nr\\xc1\\xac\\xc4\\x8b\\x871t\\xf1W\\t\\xa2P\\xd0\\xf0o\\xda\\xf9)\\x0f)\\xf7%\\xc6\\xad{\\x1eM\\x16\\xf8\\x93\\xf9\\xc1f>Y\\xd4\\xf4\\xfc7\\xc0\\x99\\xa5\\xa2\\xb9\\xc9`\\n\\xc3t\\x12\\x13\\x94\\xfe;\\xe1!\\xe1\\xbaB|\\xd1=\\xa6dOt\\xac\\xc3\\x97\\xf1$q\\xd8\\r\\x11|J5\\xc9\\xf9T\\x0f\\xaa{\\x06\\x8c\\xe9D\\xe7\\x9b\\xc7N\\x07Z\\x83\\x8b\\xa3\\xcc\\xd5\\x9e\\xb5\\xfa\\xf97\\xeb\\xff\\x8d\\x02A\\xae\\xf7\\x1c\\x19\\x9cG\\x0f\\xf9x\\x8e\\x86\\x0c\\x90\\x1b\\xb9\\x99\\xf4\\\\\\xe2\\x1c\\xb5\\xa4\\xa9\\xb3&\\xe5c\\x13\\xe6\\x8d\\xd3Fz~\\x9dN\\r\\xd6\\xb9\\x1e\\x14\\xc8:5\\xf5\\x14wM\\xf9w\\x970\\x1c\\xc4\\xeb\\x8a\\xb6\\x82\\xf8\\xcd\\xf1\\x92djv\\x93\\x19-S5S?\\x01;\\x10\\xd5\\xd4`\\x0e\\xc5\\xf2D\\x14b\\xacu\\x8e\\x97\\x13@\\x18\\xa2b\\t\\xe2-\\xe5\\xbdv(\\xad\\xa5\\xba\\x17\\x9bpF\\xc7|\\x1b\\xbb\\xb9$\\xf89\\xa2/\\x1c3\\x7foS0I\\xd1\\xe5\\xad\\xd2)\\xe9\\xdaV\\xcc\\x8c\\n\\xcc\\x1e\\x843\\x87\\xff\\xecx\\x88\\x06\\xabm\\xd2,\\x1f\\x8c\\xeb\\xe3\\\\\\xeb\\xf5\\x1d<\\xcb0\\xd0\\xdcje<\\xd2\\xb1\\xdd\\xd6\\xfd0BD\\x1e\\xd7:@\\x00\\xf8\\x0b\"7\\xf3l\\x8c\\xdfK\\xe8\\xe2~\\x927[\\x8f\\x893B\\xf6Q\\x024\\x97U\\x82\\x9f\\xb6H\\xa7w\\xde\\x06\\'\\x83T\\xb5\\x0f\\xc7\\xd3K\\x1e\\xb3\\xac\\xaf]\\x02\\x03\\xdf\\xa6\\xd95\\x9e\\xcdU\\xcfL\\xe1\\xd7\\x8c\\x0b\\xa5\\x1f\\xdd\\xb3\\x02K\\x18\\\\\\x05\\xa3\\xac\\x12\\xf0<\\xd0\\xb5\\xa2\\x98g\\xae_{\\xdb\\xd0V!k\\x9e\\xe9\\x05\\x0f\\xef\\xcf}\\xd3)\\x80I\\xe6\\xf2\\xeb\\x86\\x92F\\x98\\x95_\\xe6\\xb9\\x9e\\xd7\\xd9\\\\\\xad\\t\\xb2N\\xc1\\xde\\n\\xd32\\x0c\\x02\\x02\\xed\\xad\\xfc\\x9a4{\\xdb\\x83\\xc6\\x87\\x8f\\xe4\\xe8\\xa5\\x91\\xb5\\x9b\\x9e\\x8d-\\x16\\xf5\\x99(E\\x8c\\x13B\\x85\\xe6\\xf2#n\\rV\\xe2\\x12.\\xb3\\xc5\\xf4\\xb2\\x85\\t\\xab\\xc0\\x98\\t\\x99l\\xf7p\\x16g\\xceC\\x08\\x83\\x9f\\xf0 k\\x11\\xd0\\xa9\\xa5\\x05\\xfb\\x075N\\'\\xda\\xbd\\xa5\\x89\\xdc\\x96\\xcc\\x1bIf\\xeck\\xa6\\xa99\\x14\\xe4\\x8f\\xc3omo\\xc7,\\x82\\x14BEN\\r\\xfewR\\x81c\\xc1m[GA\\xa3\\xa3oLL\\x96\\xc4\\x96\\xcf\\x1c\\r+\\xb1]a1#\\xebB\\x99\\x80:\\xf7sJ\\x0f\\x81\\x0c\\x9b&\\xbd\\x1c4d\\x94\\t\\x05a<5YG\\x02\\x06\\xdc\\xf7\\xf2\\xc3U\\xdd\\x8b\\xf7\\x05\\xaf\\xf2,\\x9f@i66\\xef\\x89S\\xa1-\\xd4\\x9e\\xf2\\x98`\\xb8z~[\\xeb\\xd5\\xa6o<\\t\\xfb\\xd3\\x12\\xa0`T\\xb2\\x0fb\\x88\\xe4\\xabQ]\\xa0\\xdf\\x93\\t@+\\x19\\xd5\\xceR\\x87_\\x1d\\xcb\\xeb\\xf7<h\\x07\\x18-\\x04\\xc3}\\xe8\\xa9=\\x0f\\x02\\x81\\x8a\\x10k{iWh\\xa9\\xe3\\x88\\x18ycq\\x1e\\xd4\\xf8\\x95\\xdc\\xdb\\xba`=\\xc0\\x07@\\xd6g\\xacf\\xceqC\\xbe\\x1e\\xaf\\xa5\\xcd\\xe4\\xce\\xde\\xcf\\x88 Y\\xa8\\xb13#\\x04\\x11\\xfe\\xc8\\xc3\\xc3 \\xd7(\\x15\\xeb\\xeb=r\\rZ\\x13\\x8a\\xa0}x\\x8d\\xef&X\\xb3N\\x05\\xe9\\x91\\x82-\\x9f2\\xc6\\xee\\xado\\x05\\xfei\\xefu\\x99\"\\x94\\xbda\\x9c\\xfb\\xe0\\x9f\\x9f\\xcc\\xa9\\x17,F\\xc8\\x7f5(J/(\\xbe\\xcf\\xe7\\x94 \\x9f{\\xeb\\xdbSU\\x05/\\xc1<:v\\x0f\\xe3\\x9d*\\x80\\n\\x92K\\x9bG$\\xd6\\xe9\\x8f\\t\\xf0^\\x81\\xc9\\xb0\\xba\\r\\x0bQ\\xa50BU\\x9a\\x82\\xe7\\xfff\\x9d\\x144`\\xa0\\xfa+\\xf5\\x1b\\xbe\\x99\\x88{W\\x84\\x0c\\xc1\\xbc\\xd3\\xbbB\\xd2\\xb3\\'\\xc5\\xffV\\xfc\\xc6\\x8dM\\x92\\x88\\x0b&\\x97\\xe7\\x1dGS\\xec\\xb1d\\x0e#\\x06@\\xc90\\t\\x9e\\xcc\\xbck\\xb8,\\x89Z\\xcf\\xee\\xca\\x15\\xd5\\x98\\x85\\xa9\\x8d\\xc2\\x14\\xd7\\xd9\\xb7Hs\\xee\\x0f\\x03\\xf1?\\x82\\x15\\xb9\\xd7\\x1d\\x8f\\xdfD\\xa5\\x81v\\xec\\tGr *\\xb9+\\xd5O\\x1c\\xdb\\n\\x10\"p\\x81,\\x05\\x91*7\\x8b\\xbax\\xc7\\xc7)\\x80P\\xa6\\x1a\\x97\\xb6H^\\xcf\\xb2\\xa2\\x18\\xc7\\xce,[o\\xd7\\x80#\\x10\\xc0*\\xfa\\x9d\\xd8Y\\xadIC\\xa5\\xe8\\x93\\x03\\xc1 k\\x92\\xc1\\xe1Q\\x95\\x06Sj\\xfe\\xa1\\xd6x$\\xe2\\xc5\\xe3\\xfe\\xc5?\\x858\\x00\\xbd|bnf\\x0b\\x1a8\\xbbZ\\x85\\xff\\r\\x8b\\x9a(F\\xd5\\xa0\\x98Y\\xfdv\\x1f\\xaf\\xf0\\xdbhsoU=-\\x8a\\xb2\\xd5\\xe0\\x0f\\x90\\x81\\x15\\xc2[r\\xa1\\xbe0UomG#8rSs\\x1f\\x95p!a\\xf5B\\xd0\\x13\\xbe7\\xaf$RD\\x1a\\xb2\\x0b\\xc3\\xceh\\x1a\\xa0\\x0el\\xbe\\x84\\xc6~\\xeb53o\\xb6\\xb5\\x9c\\xfc\\x8f\\xf1\\xb1R0fk\\xd3\\xdc\\xc6R\\xf5\\xef\\x1b^\\xd4\\xae\\xa6\\xd7Z\\xe8\\xa2\\xec\\x81\\x14\\xae\\x1f}\\xfd;#D\\n^\\xf3mp\\xfdhI\\x82\\x14a,\\xa4\\x81\\x81L\\x05\\x92\\x1c\\x05\\xec\\xb6ru\\x9d\\xc2:\\xb2\\x9er\\x1b\\x1c\\x02\\xf6\\xcdx\\x0eoH[\\xc1'"
      ]
     },
     "execution_count": 63,
     "metadata": {},
     "output_type": "execute_result"
    }
   ],
   "source": [
    "bn = fake.binary()\n",
    "bn[:2000]"
   ]
  },
  {
   "cell_type": "code",
   "execution_count": 64,
   "metadata": {},
   "outputs": [
    {
     "data": {
      "text/plain": [
       "False"
      ]
     },
     "execution_count": 64,
     "metadata": {},
     "output_type": "execute_result"
    }
   ],
   "source": [
    "fake.boolean()"
   ]
  },
  {
   "cell_type": "code",
   "execution_count": 69,
   "metadata": {},
   "outputs": [
    {
     "data": {
      "text/plain": [
       "'71 gk'"
      ]
     },
     "execution_count": 69,
     "metadata": {},
     "output_type": "execute_result"
    }
   ],
   "source": [
    "fake.bothify()"
   ]
  },
  {
   "cell_type": "code",
   "execution_count": 82,
   "metadata": {},
   "outputs": [
    {
     "data": {
      "text/plain": [
       "'target efficient info-mediaries'"
      ]
     },
     "execution_count": 82,
     "metadata": {},
     "output_type": "execute_result"
    }
   ],
   "source": [
    "fake.bs()"
   ]
  },
  {
   "cell_type": "code",
   "execution_count": 83,
   "metadata": {},
   "outputs": [
    {
     "data": {
      "text/plain": [
       "'677'"
      ]
     },
     "execution_count": 83,
     "metadata": {},
     "output_type": "execute_result"
    }
   ],
   "source": [
    "fake.building_number()"
   ]
  },
  {
   "cell_type": "code",
   "execution_count": 84,
   "metadata": {},
   "outputs": [
    {
     "ename": "TypeError",
     "evalue": "'re.Pattern' object is not callable",
     "output_type": "error",
     "traceback": [
      "\u001b[0;31m---------------------------------------------------------------------------\u001b[0m",
      "\u001b[0;31mTypeError\u001b[0m                                 Traceback (most recent call last)",
      "Cell \u001b[0;32mIn[84], line 1\u001b[0m\n\u001b[0;32m----> 1\u001b[0m fake\u001b[39m.\u001b[39;49mcache_pattern()\n",
      "\u001b[0;31mTypeError\u001b[0m: 're.Pattern' object is not callable"
     ]
    }
   ],
   "source": [
    "fake.cache_pattern()"
   ]
  },
  {
   "cell_type": "code",
   "execution_count": 85,
   "metadata": {},
   "outputs": [
    {
     "data": {
      "text/plain": [
       "'Face-to-face context-sensitive matrix'"
      ]
     },
     "execution_count": 85,
     "metadata": {},
     "output_type": "execute_result"
    }
   ],
   "source": [
    "fake.catch_phrase()"
   ]
  },
  {
   "cell_type": "code",
   "execution_count": 86,
   "metadata": {},
   "outputs": [
    {
     "data": {
      "text/plain": [
       "'VI'"
      ]
     },
     "execution_count": 86,
     "metadata": {},
     "output_type": "execute_result"
    }
   ],
   "source": [
    "fake.century()"
   ]
  },
  {
   "cell_type": "code",
   "execution_count": 87,
   "metadata": {},
   "outputs": [
    {
     "data": {
      "text/plain": [
       "'Mozilla/5.0 (X11; Linux i686) AppleWebKit/532.0 (KHTML, like Gecko) Chrome/46.0.870.0 Safari/532.0'"
      ]
     },
     "execution_count": 87,
     "metadata": {},
     "output_type": "execute_result"
    }
   ],
   "source": [
    "fake.chrome()"
   ]
  },
  {
   "cell_type": "code",
   "execution_count": 88,
   "metadata": {},
   "outputs": [
    {
     "data": {
      "text/plain": [
       "'R6018418A'"
      ]
     },
     "execution_count": 88,
     "metadata": {},
     "output_type": "execute_result"
    }
   ],
   "source": [
    "fake.cif()"
   ]
  },
  {
   "cell_type": "code",
   "execution_count": 89,
   "metadata": {},
   "outputs": [
    {
     "data": {
      "text/plain": [
       "'Port Brandon'"
      ]
     },
     "execution_count": 89,
     "metadata": {},
     "output_type": "execute_result"
    }
   ],
   "source": [
    "fake.city()"
   ]
  },
  {
   "cell_type": "code",
   "execution_count": 90,
   "metadata": {},
   "outputs": [
    {
     "data": {
      "text/plain": [
       "'East'"
      ]
     },
     "execution_count": 90,
     "metadata": {},
     "output_type": "execute_result"
    }
   ],
   "source": [
    "fake.city_prefix()"
   ]
  },
  {
   "cell_type": "code",
   "execution_count": 91,
   "metadata": {},
   "outputs": [
    {
     "data": {
      "text/plain": [
       "'chester'"
      ]
     },
     "execution_count": 91,
     "metadata": {},
     "output_type": "execute_result"
    }
   ],
   "source": [
    "fake.city_suffix()"
   ]
  },
  {
   "cell_type": "code",
   "execution_count": 92,
   "metadata": {},
   "outputs": [
    {
     "data": {
      "text/plain": [
       "'1974-03-19'"
      ]
     },
     "execution_count": 92,
     "metadata": {},
     "output_type": "execute_result"
    }
   ],
   "source": [
    "fake.date()"
   ]
  },
  {
   "cell_type": "code",
   "execution_count": 93,
   "metadata": {},
   "outputs": [
    {
     "data": {
      "text/plain": [
       "'#f4b7d2'"
      ]
     },
     "execution_count": 93,
     "metadata": {},
     "output_type": "execute_result"
    }
   ],
   "source": [
    "fake.color()"
   ]
  },
  {
   "cell_type": "code",
   "execution_count": 94,
   "metadata": {},
   "outputs": [
    {
     "data": {
      "text/plain": [
       "'Brown'"
      ]
     },
     "execution_count": 94,
     "metadata": {},
     "output_type": "execute_result"
    }
   ],
   "source": [
    "fake.color_name()"
   ]
  },
  {
   "cell_type": "code",
   "execution_count": 95,
   "metadata": {},
   "outputs": [
    {
     "data": {
      "text/plain": [
       "'Company PLC'"
      ]
     },
     "execution_count": 95,
     "metadata": {},
     "output_type": "execute_result"
    }
   ],
   "source": [
    "fake.company()"
   ]
  },
  {
   "cell_type": "code",
   "execution_count": 96,
   "metadata": {},
   "outputs": [
    {
     "data": {
      "text/plain": [
       "'amyshaw@green-walls.com'"
      ]
     },
     "execution_count": 96,
     "metadata": {},
     "output_type": "execute_result"
    }
   ],
   "source": [
    "fake.company_email()"
   ]
  },
  {
   "cell_type": "code",
   "execution_count": 105,
   "metadata": {},
   "outputs": [
    {
     "data": {
      "text/plain": [
       "'LLC'"
      ]
     },
     "execution_count": 105,
     "metadata": {},
     "output_type": "execute_result"
    }
   ],
   "source": [
    "fake.company_suffix()"
   ]
  },
  {
   "cell_type": "code",
   "execution_count": 111,
   "metadata": {},
   "outputs": [
    {
     "data": {
      "text/plain": [
       "Decimal('15.857715')"
      ]
     },
     "execution_count": 111,
     "metadata": {},
     "output_type": "execute_result"
    },
    {
     "name": "stdout",
     "output_type": "stream",
     "text": [
      "\u001b[0;31mSignature:\u001b[0m\n",
      "\u001b[0mfake\u001b[0m\u001b[0;34m.\u001b[0m\u001b[0mcoordinate\u001b[0m\u001b[0;34m(\u001b[0m\u001b[0;34m\u001b[0m\n",
      "\u001b[0;34m\u001b[0m    \u001b[0mcenter\u001b[0m\u001b[0;34m:\u001b[0m \u001b[0mUnion\u001b[0m\u001b[0;34m[\u001b[0m\u001b[0mfloat\u001b[0m\u001b[0;34m,\u001b[0m \u001b[0mNoneType\u001b[0m\u001b[0;34m]\u001b[0m \u001b[0;34m=\u001b[0m \u001b[0;32mNone\u001b[0m\u001b[0;34m,\u001b[0m\u001b[0;34m\u001b[0m\n",
      "\u001b[0;34m\u001b[0m    \u001b[0mradius\u001b[0m\u001b[0;34m:\u001b[0m \u001b[0mUnion\u001b[0m\u001b[0;34m[\u001b[0m\u001b[0mfloat\u001b[0m\u001b[0;34m,\u001b[0m \u001b[0mint\u001b[0m\u001b[0;34m]\u001b[0m \u001b[0;34m=\u001b[0m \u001b[0;36m0.001\u001b[0m\u001b[0;34m,\u001b[0m\u001b[0;34m\u001b[0m\n",
      "\u001b[0;34m\u001b[0m\u001b[0;34m)\u001b[0m \u001b[0;34m->\u001b[0m \u001b[0mdecimal\u001b[0m\u001b[0;34m.\u001b[0m\u001b[0mDecimal\u001b[0m\u001b[0;34m\u001b[0m\u001b[0;34m\u001b[0m\u001b[0m\n",
      "\u001b[0;31mDocstring:\u001b[0m Optionally center the coord and pick a point within radius.\n",
      "\u001b[0;31mFile:\u001b[0m      ~/.local/share/virtualenvs/generador_datos_sinteticos-Nir3Ushe/lib/python3.8/site-packages/faker/providers/geo/__init__.py\n",
      "\u001b[0;31mType:\u001b[0m      method"
     ]
    }
   ],
   "source": [
    "?fake.coordinate\n",
    "fake.coordinate()"
   ]
  },
  {
   "cell_type": "code",
   "execution_count": 112,
   "metadata": {},
   "outputs": [
    {
     "data": {
      "text/plain": [
       "'Cambodia'"
      ]
     },
     "execution_count": 112,
     "metadata": {},
     "output_type": "execute_result"
    }
   ],
   "source": [
    "fake.country()"
   ]
  },
  {
   "cell_type": "code",
   "execution_count": 113,
   "metadata": {},
   "outputs": [
    {
     "data": {
      "text/plain": [
       "'+229'"
      ]
     },
     "execution_count": 113,
     "metadata": {},
     "output_type": "execute_result"
    }
   ],
   "source": [
    "fake.country_calling_code()"
   ]
  },
  {
   "cell_type": "code",
   "execution_count": 114,
   "metadata": {},
   "outputs": [
    {
     "data": {
      "text/plain": [
       "'LY'"
      ]
     },
     "execution_count": 114,
     "metadata": {},
     "output_type": "execute_result"
    }
   ],
   "source": [
    "fake.country_code()"
   ]
  },
  {
   "cell_type": "code",
   "execution_count": 115,
   "metadata": {},
   "outputs": [
    {
     "data": {
      "text/plain": [
       "'12/27'"
      ]
     },
     "execution_count": 115,
     "metadata": {},
     "output_type": "execute_result"
    }
   ],
   "source": [
    "fake.credit_card_expire()"
   ]
  },
  {
   "cell_type": "code",
   "execution_count": 116,
   "metadata": {},
   "outputs": [
    {
     "data": {
      "text/plain": [
       "'VISA 13 digit\\nJoseph Rice\\n4129276235978 04/25\\nCVC: 227\\n'"
      ]
     },
     "execution_count": 116,
     "metadata": {},
     "output_type": "execute_result"
    }
   ],
   "source": [
    "fake.credit_card_full()"
   ]
  },
  {
   "cell_type": "code",
   "execution_count": 117,
   "metadata": {},
   "outputs": [
    {
     "data": {
      "text/plain": [
       "'3500133555962024'"
      ]
     },
     "execution_count": 117,
     "metadata": {},
     "output_type": "execute_result"
    }
   ],
   "source": [
    "fake.credit_card_number()"
   ]
  },
  {
   "cell_type": "code",
   "execution_count": 118,
   "metadata": {},
   "outputs": [
    {
     "data": {
      "text/plain": [
       "'JCB 16 digit'"
      ]
     },
     "execution_count": 118,
     "metadata": {},
     "output_type": "execute_result"
    }
   ],
   "source": [
    "fake.credit_card_provider()"
   ]
  },
  {
   "cell_type": "code",
   "execution_count": 119,
   "metadata": {},
   "outputs": [
    {
     "data": {
      "text/plain": [
       "'058'"
      ]
     },
     "execution_count": 119,
     "metadata": {},
     "output_type": "execute_result"
    }
   ],
   "source": [
    "fake.credit_card_security_code()"
   ]
  },
  {
   "cell_type": "code",
   "execution_count": 120,
   "metadata": {},
   "outputs": [
    {
     "data": {
      "text/plain": [
       "('BURST', 'Burstcoin')"
      ]
     },
     "execution_count": 120,
     "metadata": {},
     "output_type": "execute_result"
    }
   ],
   "source": [
    "fake.cryptocurrency()"
   ]
  },
  {
   "cell_type": "code",
   "execution_count": 121,
   "metadata": {},
   "outputs": [
    {
     "data": {
      "text/plain": [
       "'ZEC'"
      ]
     },
     "execution_count": 121,
     "metadata": {},
     "output_type": "execute_result"
    }
   ],
   "source": [
    "fake.cryptocurrency_code()"
   ]
  },
  {
   "cell_type": "code",
   "execution_count": 122,
   "metadata": {},
   "outputs": [
    {
     "data": {
      "text/plain": [
       "'Zclassic'"
      ]
     },
     "execution_count": 122,
     "metadata": {},
     "output_type": "execute_result"
    }
   ],
   "source": [
    "fake.cryptocurrency_name()"
   ]
  },
  {
   "cell_type": "code",
   "execution_count": 126,
   "metadata": {},
   "outputs": [
    {
     "name": "stdout",
     "output_type": "stream",
     "text": [
      "\"Kevin Wheeler\",\"Unit 4629 Box 4984\n",
      "DPO AA 86569\"\n",
      "\"Glen Carter\",\"5408 Brown Place Suite 739\n",
      "Copelandfort, CT 11547\"\n",
      "\"Alicia Oliver\",\"7232 Victoria Knoll Suite 624\n",
      "East Timothy, HI 37281\"\n",
      "\"Catherine Henderson\",\"509 Montgomery Ferry Apt. 861\n",
      "Ryanside, PR 65730\"\n",
      "\"Jose Mitchell\",\"893 Hayes Prairie Apt. 366\n",
      "Phyllischester, MS 72395\"\n",
      "\"Robin Neal\",\"19822 Lyons Grove\n",
      "Karaborough, WY 22489\"\n",
      "\"Maria Barrera\",\"77657 Julie Pike Suite 897\n",
      "Lake Chase, WV 03205\"\n",
      "\"Richard Smith\",\"119 Jared Islands Apt. 919\n",
      "Danielberg, UT 36261\"\n",
      "\"Holly Allen\",\"61916 Jamie Route\n",
      "Markhaven, WY 03290\"\n",
      "\"Brandon Schmitt\",\"420 Rebecca Manor\n",
      "Jasonview, MI 99521\"\n",
      "\n"
     ]
    },
    {
     "name": "stdout",
     "output_type": "stream",
     "text": [
      "\u001b[0;31mSignature:\u001b[0m\n",
      "\u001b[0mfake\u001b[0m\u001b[0;34m.\u001b[0m\u001b[0mcsv\u001b[0m\u001b[0;34m(\u001b[0m\u001b[0;34m\u001b[0m\n",
      "\u001b[0;34m\u001b[0m    \u001b[0mheader\u001b[0m\u001b[0;34m:\u001b[0m \u001b[0mUnion\u001b[0m\u001b[0;34m[\u001b[0m\u001b[0mSequence\u001b[0m\u001b[0;34m[\u001b[0m\u001b[0mstr\u001b[0m\u001b[0;34m]\u001b[0m\u001b[0;34m,\u001b[0m \u001b[0mNoneType\u001b[0m\u001b[0;34m]\u001b[0m \u001b[0;34m=\u001b[0m \u001b[0;32mNone\u001b[0m\u001b[0;34m,\u001b[0m\u001b[0;34m\u001b[0m\n",
      "\u001b[0;34m\u001b[0m    \u001b[0mdata_columns\u001b[0m\u001b[0;34m:\u001b[0m \u001b[0mTuple\u001b[0m\u001b[0;34m[\u001b[0m\u001b[0mstr\u001b[0m\u001b[0;34m,\u001b[0m \u001b[0mstr\u001b[0m\u001b[0;34m]\u001b[0m \u001b[0;34m=\u001b[0m \u001b[0;34m(\u001b[0m\u001b[0;34m'{{name}}'\u001b[0m\u001b[0;34m,\u001b[0m \u001b[0;34m'{{address}}'\u001b[0m\u001b[0;34m)\u001b[0m\u001b[0;34m,\u001b[0m\u001b[0;34m\u001b[0m\n",
      "\u001b[0;34m\u001b[0m    \u001b[0mnum_rows\u001b[0m\u001b[0;34m:\u001b[0m \u001b[0mint\u001b[0m \u001b[0;34m=\u001b[0m \u001b[0;36m10\u001b[0m\u001b[0;34m,\u001b[0m\u001b[0;34m\u001b[0m\n",
      "\u001b[0;34m\u001b[0m    \u001b[0minclude_row_ids\u001b[0m\u001b[0;34m:\u001b[0m \u001b[0mbool\u001b[0m \u001b[0;34m=\u001b[0m \u001b[0;32mFalse\u001b[0m\u001b[0;34m,\u001b[0m\u001b[0;34m\u001b[0m\n",
      "\u001b[0;34m\u001b[0m\u001b[0;34m)\u001b[0m \u001b[0;34m->\u001b[0m \u001b[0mstr\u001b[0m\u001b[0;34m\u001b[0m\u001b[0;34m\u001b[0m\u001b[0m\n",
      "\u001b[0;31mDocstring:\u001b[0m\n",
      "Generate random comma-separated values.\n",
      "\n",
      "For more information on the different arguments of this method, please refer to\n",
      ":meth:`dsv() <faker.providers.misc.Provider.dsv>` which is used under the hood.\n",
      "\n",
      ":sample: data_columns=('{{name}}', '{{address}}'), num_rows=10, include_row_ids=False\n",
      ":sample: header=('Name', 'Address', 'Favorite Color'),\n",
      "        data_columns=('{{name}}', '{{address}}', '{{safe_color_name}}'),\n",
      "        num_rows=10, include_row_ids=True\n",
      "\u001b[0;31mFile:\u001b[0m      ~/.local/share/virtualenvs/generador_datos_sinteticos-Nir3Ushe/lib/python3.8/site-packages/faker/providers/misc/__init__.py\n",
      "\u001b[0;31mType:\u001b[0m      method"
     ]
    }
   ],
   "source": [
    "?fake.csv\n",
    "print(fake.csv())"
   ]
  },
  {
   "cell_type": "code",
   "execution_count": 140,
   "metadata": {},
   "outputs": [],
   "source": [
    "import os\n",
    "from datetime import datetime\n",
    "\n",
    "DATE: str = datetime.now().strftime(\"%Y%m%d\")\n",
    "MAIN_PATH: str = \"/home/ubuntu/workspace/fsalinas/generador_datos_sinteticos\"\n",
    "DATA_PATH: str = os.path.join(MAIN_PATH, f\"data/fake01/{DATE}\")"
   ]
  },
  {
   "cell_type": "code",
   "execution_count": 144,
   "metadata": {},
   "outputs": [],
   "source": [
    "HEADERS = ['name', 'address', 'cryptocurrency', 'credit_card_number', 'credit_card_expire', 'city', 'chrome']\n",
    "DATA_COLUMNS = ['{{'+x+'}}' for x in HEADERS]\n",
    "\n",
    "fake_data = fake.csv(\n",
    "    header=HEADERS,\n",
    "    data_columns=DATA_COLUMNS,\n",
    "    num_rows=10,\n",
    "    include_row_ids=True\n",
    "    )\n",
    "\n",
    "os.makedirs(DATA_PATH, exist_ok=True)\n",
    "\n",
    "FILE_PATH: str = os.path.join(DATA_PATH, 'fake01.csv')\n",
    "\n",
    "with open(FILE_PATH, '+a') as f:\n",
    "    f.write(fake_data if os.path.exists(FILE_PATH) else fake_data[1:])\n"
   ]
  },
  {
   "cell_type": "code",
   "execution_count": 145,
   "metadata": {},
   "outputs": [],
   "source": [
    "import pandas as pd"
   ]
  },
  {
   "cell_type": "code",
   "execution_count": 146,
   "metadata": {},
   "outputs": [
    {
     "name": "stdout",
     "output_type": "stream",
     "text": [
      "<class 'pandas.core.frame.DataFrame'>\n",
      "RangeIndex: 10 entries, 0 to 9\n",
      "Data columns (total 8 columns):\n",
      " #   Column              Non-Null Count  Dtype \n",
      "---  ------              --------------  ----- \n",
      " 0   ID                  10 non-null     int64 \n",
      " 1   name                10 non-null     object\n",
      " 2   address             10 non-null     object\n",
      " 3   cryptocurrency      10 non-null     object\n",
      " 4   credit_card_number  10 non-null     int64 \n",
      " 5   credit_card_expire  10 non-null     object\n",
      " 6   city                10 non-null     object\n",
      " 7   chrome              10 non-null     object\n",
      "dtypes: int64(2), object(6)\n",
      "memory usage: 768.0+ bytes\n"
     ]
    },
    {
     "data": {
      "text/html": [
       "<div>\n",
       "<style scoped>\n",
       "    .dataframe tbody tr th:only-of-type {\n",
       "        vertical-align: middle;\n",
       "    }\n",
       "\n",
       "    .dataframe tbody tr th {\n",
       "        vertical-align: top;\n",
       "    }\n",
       "\n",
       "    .dataframe thead th {\n",
       "        text-align: right;\n",
       "    }\n",
       "</style>\n",
       "<table border=\"1\" class=\"dataframe\">\n",
       "  <thead>\n",
       "    <tr style=\"text-align: right;\">\n",
       "      <th></th>\n",
       "      <th>ID</th>\n",
       "      <th>name</th>\n",
       "      <th>address</th>\n",
       "      <th>cryptocurrency</th>\n",
       "      <th>credit_card_number</th>\n",
       "      <th>credit_card_expire</th>\n",
       "      <th>city</th>\n",
       "      <th>chrome</th>\n",
       "    </tr>\n",
       "  </thead>\n",
       "  <tbody>\n",
       "    <tr>\n",
       "      <th>0</th>\n",
       "      <td>1</td>\n",
       "      <td>Eligia Bermejo Aragón</td>\n",
       "      <td>Cuesta Wálter Sarabia 20\\nAlmería, 50327</td>\n",
       "      <td>('DOGE', 'Dogecoin')</td>\n",
       "      <td>3549528940162284</td>\n",
       "      <td>01/25</td>\n",
       "      <td>Guipúzcoa</td>\n",
       "      <td>Mozilla/5.0 (iPad; CPU iPad OS 9_3_5 like Mac ...</td>\n",
       "    </tr>\n",
       "    <tr>\n",
       "      <th>1</th>\n",
       "      <td>2</td>\n",
       "      <td>Samuel Benavente Batalla</td>\n",
       "      <td>Ronda de Milagros Leiva 36 Piso 0 \\nTeruel, 01866</td>\n",
       "      <td>('NMC', 'Namecoin')</td>\n",
       "      <td>180083055679391</td>\n",
       "      <td>11/26</td>\n",
       "      <td>Vizcaya</td>\n",
       "      <td>Mozilla/5.0 (iPad; CPU iPad OS 7_1_2 like Mac ...</td>\n",
       "    </tr>\n",
       "    <tr>\n",
       "      <th>2</th>\n",
       "      <td>3</td>\n",
       "      <td>Silvestre Torrents Acosta</td>\n",
       "      <td>Cuesta Pacífica Grau 2 Apt. 24 \\nLleida, 23016</td>\n",
       "      <td>('DOGE', 'Dogecoin')</td>\n",
       "      <td>30528255998555</td>\n",
       "      <td>04/30</td>\n",
       "      <td>Guipúzcoa</td>\n",
       "      <td>Mozilla/5.0 (Macintosh; U; Intel Mac OS X 10_1...</td>\n",
       "    </tr>\n",
       "    <tr>\n",
       "      <th>3</th>\n",
       "      <td>4</td>\n",
       "      <td>Victorino Escalona Martin</td>\n",
       "      <td>Vial Ágata Morán 48 Apt. 42 \\nMadrid, 47501</td>\n",
       "      <td>('ZEC', 'Zcash')</td>\n",
       "      <td>501838644281</td>\n",
       "      <td>03/26</td>\n",
       "      <td>Jaén</td>\n",
       "      <td>Mozilla/5.0 (Windows NT 6.2) AppleWebKit/534.0...</td>\n",
       "    </tr>\n",
       "    <tr>\n",
       "      <th>4</th>\n",
       "      <td>5</td>\n",
       "      <td>Noelia Espejo</td>\n",
       "      <td>Glorieta de Hernando Alberto 97 Piso 2 \\nBurgo...</td>\n",
       "      <td>('XRP', 'Ripple')</td>\n",
       "      <td>5226626476423388</td>\n",
       "      <td>01/31</td>\n",
       "      <td>Jaén</td>\n",
       "      <td>Mozilla/5.0 (Windows NT 5.1) AppleWebKit/535.2...</td>\n",
       "    </tr>\n",
       "  </tbody>\n",
       "</table>\n",
       "</div>"
      ],
      "text/plain": [
       "   ID                       name  \\\n",
       "0   1      Eligia Bermejo Aragón   \n",
       "1   2   Samuel Benavente Batalla   \n",
       "2   3  Silvestre Torrents Acosta   \n",
       "3   4  Victorino Escalona Martin   \n",
       "4   5              Noelia Espejo   \n",
       "\n",
       "                                             address        cryptocurrency  \\\n",
       "0           Cuesta Wálter Sarabia 20\\nAlmería, 50327  ('DOGE', 'Dogecoin')   \n",
       "1  Ronda de Milagros Leiva 36 Piso 0 \\nTeruel, 01866   ('NMC', 'Namecoin')   \n",
       "2     Cuesta Pacífica Grau 2 Apt. 24 \\nLleida, 23016  ('DOGE', 'Dogecoin')   \n",
       "3        Vial Ágata Morán 48 Apt. 42 \\nMadrid, 47501      ('ZEC', 'Zcash')   \n",
       "4  Glorieta de Hernando Alberto 97 Piso 2 \\nBurgo...     ('XRP', 'Ripple')   \n",
       "\n",
       "   credit_card_number credit_card_expire       city  \\\n",
       "0    3549528940162284              01/25  Guipúzcoa   \n",
       "1     180083055679391              11/26    Vizcaya   \n",
       "2      30528255998555              04/30  Guipúzcoa   \n",
       "3        501838644281              03/26       Jaén   \n",
       "4    5226626476423388              01/31       Jaén   \n",
       "\n",
       "                                              chrome  \n",
       "0  Mozilla/5.0 (iPad; CPU iPad OS 9_3_5 like Mac ...  \n",
       "1  Mozilla/5.0 (iPad; CPU iPad OS 7_1_2 like Mac ...  \n",
       "2  Mozilla/5.0 (Macintosh; U; Intel Mac OS X 10_1...  \n",
       "3  Mozilla/5.0 (Windows NT 6.2) AppleWebKit/534.0...  \n",
       "4  Mozilla/5.0 (Windows NT 5.1) AppleWebKit/535.2...  "
      ]
     },
     "execution_count": 146,
     "metadata": {},
     "output_type": "execute_result"
    }
   ],
   "source": [
    "df = pd.read_csv(FILE_PATH)\n",
    "df.info()\n",
    "df.head()"
   ]
  },
  {
   "cell_type": "code",
   "execution_count": null,
   "metadata": {},
   "outputs": [],
   "source": []
  }
 ],
 "metadata": {
  "kernelspec": {
   "display_name": "generador_datos_sinteticos-Nir3Ushe",
   "language": "python",
   "name": "python3"
  },
  "language_info": {
   "codemirror_mode": {
    "name": "ipython",
    "version": 3
   },
   "file_extension": ".py",
   "mimetype": "text/x-python",
   "name": "python",
   "nbconvert_exporter": "python",
   "pygments_lexer": "ipython3",
   "version": "3.8.10"
  },
  "orig_nbformat": 4,
  "vscode": {
   "interpreter": {
    "hash": "9d722eabd0a3d98b789312024abc085e9cffd7a9ec729d87257a3629761920b9"
   }
  }
 },
 "nbformat": 4,
 "nbformat_minor": 2
}
