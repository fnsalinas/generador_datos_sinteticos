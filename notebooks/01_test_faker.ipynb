{
 "cells": [
  {
   "attachments": {},
   "cell_type": "markdown",
   "metadata": {},
   "source": [
    "# Testing the package to generate Synthetic Data\n",
    "2023-02-09  \n",
    "**Ref**: [faker](https://github.com/joke2k/faker)"
   ]
  },
  {
   "cell_type": "code",
   "execution_count": 1,
   "metadata": {},
   "outputs": [],
   "source": [
    "from faker import Faker\n",
    "fake = Faker()"
   ]
  },
  {
   "cell_type": "code",
   "execution_count": 2,
   "metadata": {},
   "outputs": [
    {
     "data": {
      "text/plain": [
       "'Kristi Morris'"
      ]
     },
     "execution_count": 2,
     "metadata": {},
     "output_type": "execute_result"
    }
   ],
   "source": [
    "fake.name()"
   ]
  },
  {
   "cell_type": "code",
   "execution_count": 3,
   "metadata": {},
   "outputs": [
    {
     "data": {
      "text/plain": [
       "'22403 Carter Corner\\nSouth Williambury, SD 52084'"
      ]
     },
     "execution_count": 3,
     "metadata": {},
     "output_type": "execute_result"
    }
   ],
   "source": [
    "fake.address()"
   ]
  },
  {
   "cell_type": "code",
   "execution_count": 4,
   "metadata": {},
   "outputs": [
    {
     "data": {
      "text/plain": [
       "'Form factor both international plant allow. President product wide example eat as its. Edge edge floor marriage.\\nIncluding do as. Capital defense state available.'"
      ]
     },
     "execution_count": 4,
     "metadata": {},
     "output_type": "execute_result"
    }
   ],
   "source": [
    "fake.text()"
   ]
  },
  {
   "cell_type": "code",
   "execution_count": 5,
   "metadata": {},
   "outputs": [
    {
     "name": "stdout",
     "output_type": "stream",
     "text": [
      "192.168.214.75\n"
     ]
    }
   ],
   "source": [
    "from faker import Faker\n",
    "from faker.providers import internet\n",
    "\n",
    "fake = Faker()\n",
    "fake.add_provider(internet)\n",
    "\n",
    "print(fake.ipv4_private())"
   ]
  },
  {
   "cell_type": "code",
   "execution_count": 9,
   "metadata": {},
   "outputs": [
    {
     "name": "stdout",
     "output_type": "stream",
     "text": [
      "Cindy Wilson\n",
      "Natividad del Valenzuela\n",
      "Ovidio Martorell Uría\n",
      "Krystal Harris\n",
      "Encarnacion Cano Barbero\n",
      "Michael Johnson\n",
      "Galo Jáuregui Castell\n",
      "Jonathan Watson\n",
      "Seth Mason\n",
      "Pili Chaparro Luque\n"
     ]
    }
   ],
   "source": [
    "from faker import Faker\n",
    "fake = Faker(['es_ES', 'en_US'])\n",
    "for _ in range(10):\n",
    "    print(fake.name())"
   ]
  },
  {
   "cell_type": "code",
   "execution_count": 19,
   "metadata": {},
   "outputs": [
    {
     "data": {
      "text/plain": [
       "'42673 Patel Center Apt. 483\\nVictoriafort, VA 03680'"
      ]
     },
     "execution_count": 19,
     "metadata": {},
     "output_type": "execute_result"
    }
   ],
   "source": [
    "fake.address()"
   ]
  },
  {
   "cell_type": "code",
   "execution_count": 20,
   "metadata": {},
   "outputs": [
    {
     "data": {
      "text/plain": [
       "'Guipúzcoa'"
      ]
     },
     "execution_count": 20,
     "metadata": {},
     "output_type": "execute_result"
    }
   ],
   "source": [
    "fake.administrative_unit()"
   ]
  },
  {
   "cell_type": "code",
   "execution_count": 21,
   "metadata": {},
   "outputs": [
    {
     "data": {
      "text/plain": [
       "'AM'"
      ]
     },
     "execution_count": 21,
     "metadata": {},
     "output_type": "execute_result"
    }
   ],
   "source": [
    "fake.am_pm()"
   ]
  },
  {
   "cell_type": "code",
   "execution_count": 29,
   "metadata": {},
   "outputs": [
    {
     "data": {
      "text/plain": [
       "'Android 4.1.2'"
      ]
     },
     "execution_count": 29,
     "metadata": {},
     "output_type": "execute_result"
    }
   ],
   "source": [
    "fake.android_platform_token()"
   ]
  },
  {
   "cell_type": "code",
   "execution_count": 37,
   "metadata": {},
   "outputs": [
    {
     "data": {
      "text/plain": [
       "'cornejojuana@jover-serna.es'"
      ]
     },
     "execution_count": 37,
     "metadata": {},
     "output_type": "execute_result"
    }
   ],
   "source": [
    "fake.ascii_company_email()"
   ]
  },
  {
   "cell_type": "code",
   "execution_count": 44,
   "metadata": {},
   "outputs": [
    {
     "data": {
      "text/plain": [
       "'william53@yahoo.com'"
      ]
     },
     "execution_count": 44,
     "metadata": {},
     "output_type": "execute_result"
    }
   ],
   "source": [
    "fake.ascii_email()"
   ]
  },
  {
   "cell_type": "code",
   "execution_count": 45,
   "metadata": {},
   "outputs": [
    {
     "data": {
      "text/plain": [
       "'jacksonjennifer@hotmail.com'"
      ]
     },
     "execution_count": 45,
     "metadata": {},
     "output_type": "execute_result"
    }
   ],
   "source": [
    "fake.ascii_free_email()"
   ]
  },
  {
   "cell_type": "code",
   "execution_count": 46,
   "metadata": {},
   "outputs": [
    {
     "data": {
      "text/plain": [
       "'rrichardson@example.com'"
      ]
     },
     "execution_count": 46,
     "metadata": {},
     "output_type": "execute_result"
    }
   ],
   "source": [
    "fake.ascii_safe_email()"
   ]
  },
  {
   "cell_type": "code",
   "execution_count": 47,
   "metadata": {},
   "outputs": [
    {
     "data": {
      "text/plain": [
       "'Comunidad Foral de Navarra'"
      ]
     },
     "execution_count": 47,
     "metadata": {},
     "output_type": "execute_result"
    }
   ],
   "source": [
    "fake.autonomous_community()"
   ]
  },
  {
   "cell_type": "code",
   "execution_count": 52,
   "metadata": {},
   "outputs": [
    {
     "data": {
      "text/plain": [
       "'ES'"
      ]
     },
     "execution_count": 52,
     "metadata": {},
     "output_type": "execute_result"
    }
   ],
   "source": [
    "fake.bank_country()"
   ]
  },
  {
   "cell_type": "code",
   "execution_count": 59,
   "metadata": {},
   "outputs": [
    {
     "data": {
      "text/plain": [
       "'GPKT03991361751624'"
      ]
     },
     "execution_count": 59,
     "metadata": {},
     "output_type": "execute_result"
    }
   ],
   "source": [
    "fake.bban()"
   ]
  },
  {
   "cell_type": "code",
   "execution_count": 63,
   "metadata": {},
   "outputs": [
    {
     "data": {
      "text/plain": [
       "b'^\\x9e\\xfb\\xca% uj\\x9a\\xb6t\\x88\\x9b\\xccT\\xfa(Q\\x90L\\xc2m\\xbd\\x1f\\x18\\r\\xad\\xda\\xdd\\n\\xa82\\x03\\xebz\\xeaI\\xca\\x08\\xe6$\\xd8\\xe4\\xcaBY\\xab\\xb9\\xddu\\x1f\\xd2\\xc2r\\x87Bd\\xdeR\\xd5j\\xd2\\xed\\x8f( \\x1b\\x9e$$\\x99m\\x17\\xc9J\\xbf\\'wzYG\\xa5~B\\x81\\x99\\x80\\x99Im2\"`5\\x89 !\\xbb\\xd5\\x94\\xb2(\\x0fN/\\xf2\\x8f7\\xb6LCo\\xc5Aj\\x142\\xf8\\xbcj\\x82\\'m\\xb4\\\\;\\xbb\\xc5\\xcf\\xeba\\xb3\\xa3\\x8a\\x05%\\xbd\\x9f\\xf11\\xf70erdx^[8\\xd9\\x0b\\xb5M\\xba\\xe5Q\\x16\\x12\\r\\xfb\\xe7(\\xcbCV\\xed\\x82\\xaf\\x90\\xe6\\xa2\\xc2\\x07f\\x03\\x94\\x884;&\\xc6 \\xaf;\\x17\\xbe\\x04\\xce\\x1cn\\x120\\xd3\\x8e\\xcd\\xd2\\xfb\\x14u\\xdb\\xcf\\xab\\x96\\xc2\\x0fXK\\xae+kc;o\\t)\\x0e@\\xa4nR\\xad|8\\x04\\xc1\\xa6\\x07\\xf8=L\\x01\\xc2\\x83\\xfd\\x0cC\\x92rZ\\x8d\\xa1}\\xb6k\\xf8\\x97\\xff\\x98\\xf2L_\\x00\\xab\\xbf\\xe0\\x96\\t\\xa9\\x989\\x07A:\\xc8\\xa2\\x9ec+<x\\x05\\xc1]\\xd0\\x85Y\\x935\\xa7,;~\\xec3`\\xf0\\xf4\\xca\\x91ATC\\x84\\xe8\\x92\\xa2bi\\x0f\\xf9c]\\x11\\n\\xe9\\x89\\xff+v\\xfc\\x1c<\\xed\\x19\\x0em\\x99\\xc8E\\x94Bq\\xce\\x88\\xfbb\\x15cw\\x82\\x1d\\xa08\\xf3\\xd6\\xa1\\'\\xad\\xa04@\\xb7\\xfa\\xc1\\xb0\\x85Qh\\x80\\xb7\\xeb\\xa1\\xeeo\\xfd\\x19/yP\\xed\\xab_\\xa2B\\xa6\\xea\\xdcE\\xf9f\\x1b\\xc1\\xa6\\xd6\\xb1\\xd2\\x93\\xb5|\\xe0\\xed\\xce!d\\x12\\x9b_%\\xdf\\x91\\xe3\\xea\\x93RLv\\xa2\\x8dx\\x99\\x85\\xbd{\\xc9\\x84\\x10\\x02?\\xf1\\xe5\\x9e\\x89o\\xde\\x92\\x82\\xe4\\x01\\xbd\\xeaa\\xbc`\\xbd(\\xf0e\\x9b+\\xe5]\\xe8\\xf4\\xbe\\xb1/\\xc1&\\xd3\\x00\\xf9Q!\\xbe\\xdd@_\\x9a\\xd5\\r\\xd8\\xcc\\x0f\\x99x\\x96vL{\\xc1\\x1b\\x97u\\x0b+\\x18r$\\xfd\\xa0\\xb8\\x1a\\xb5\\x05\\xb1\\xf1\\xe5\\xcf\\x7fs\\xae\\xb0\\x86\\xcf;\\x07b\\xf1\\xefC\\xaa\\xe0\\xe5U\\x17;\\x02\\xff\\x8d5\\xe9N\\xbeSW*\\xc7!k7\\xa9\\x99\\xa7\\x8e\\x08\\xce\\x9d$\\xddQ\\xd1V\\xeaLf\\x83OG\\x12\\x9ev\\x8e(\\x9b\\x03m\\xb9l\\x90\\xb9\\x8d\\t\\x19\\xc3\\xf7\\xe7\\x08\\x1f\\x8b\\xc8\\xdc\\x04\\x83\\x92V\\xbaF\\xbc\\xbf2\\x7f\\x92Z\\xea\\x8f\\x9a_\\x8a\\x08\\xa0\\x93\\xddw\\xa8\\x82/\\r\\x1aH\\xe6\\x0c\\xd7\\xe6)\\xfam\\x84V\\xe41KpVg*\\xc7\\x85\\x82\\xba\\xf4\\x99|I\\xa2\\xacu4\\x11\\xefH\\x96X\\x00x\\x03\\xa4\\x14f\\xf5\\xe0\\x86\\xe3\\x0bO\\'77\\xc9N\\x9e\\x07\\xd5\\x1c<\\xff{d\\xdf#\\x12yW\\x08\\xc9arU[\\xd8_<\\xe5\\xbeY`[|\\xa4\\xa0\\x0e\\xfd\\xc8\\x12uU\\xd2S\\x85\\xba\\xa7\\xe1\\x7f\\x7f+v\\xadF\\xf4<%\\xaa\\xe1\\xcd+9\\xb9\\xec\\x84Z\\x9b\\xc9\\xbb\\x9e\\x16\\n#\\xd8\\\\H\\xf1^\\xd2\\xe5*y\\x87!\\xf2T\\xb9\\x19\\xeb\\xbft\\xfd.\\x8cf\\x97\\xd7\\xbeJ\\xe1S\\xcb\\x83\\x0f\\x93\\xa5\\x07\\xa1 \\x02eG-\\x04S>\\x89\\x9d\\xc1\\xd3e\\x00\\x91|\\xe4\\xa5\\t\\x99&\\x1d\\xc8y\\x00J\"/\\xbd/?\\xa9\\x83\\xe7\\xc9c*\\xf6\\x07|q\\xfd\\xe5\\x99f5\\xf3s\\xf1\\x9e\\xd3\\xde\\xa0O\\x84\\x0f\\xd3)\\x81B\\xc6+\\x93/\\x03\\xf1\\xaa\\x15B\\xcb*3\\xaa\\x93|\\xabHg\\x81\\xf1\\x02t\\x7f\\x93\\xe1\\x89!\\x14dLR4\\xdc\\xfe\\xe10\\xc9}\\x1a\\x88N[\\xee4!\\xa2\\xa2\\x82\\xdd\\xb0Nr\\xc1\\xac\\xc4\\x8b\\x871t\\xf1W\\t\\xa2P\\xd0\\xf0o\\xda\\xf9)\\x0f)\\xf7%\\xc6\\xad{\\x1eM\\x16\\xf8\\x93\\xf9\\xc1f>Y\\xd4\\xf4\\xfc7\\xc0\\x99\\xa5\\xa2\\xb9\\xc9`\\n\\xc3t\\x12\\x13\\x94\\xfe;\\xe1!\\xe1\\xbaB|\\xd1=\\xa6dOt\\xac\\xc3\\x97\\xf1$q\\xd8\\r\\x11|J5\\xc9\\xf9T\\x0f\\xaa{\\x06\\x8c\\xe9D\\xe7\\x9b\\xc7N\\x07Z\\x83\\x8b\\xa3\\xcc\\xd5\\x9e\\xb5\\xfa\\xf97\\xeb\\xff\\x8d\\x02A\\xae\\xf7\\x1c\\x19\\x9cG\\x0f\\xf9x\\x8e\\x86\\x0c\\x90\\x1b\\xb9\\x99\\xf4\\\\\\xe2\\x1c\\xb5\\xa4\\xa9\\xb3&\\xe5c\\x13\\xe6\\x8d\\xd3Fz~\\x9dN\\r\\xd6\\xb9\\x1e\\x14\\xc8:5\\xf5\\x14wM\\xf9w\\x970\\x1c\\xc4\\xeb\\x8a\\xb6\\x82\\xf8\\xcd\\xf1\\x92djv\\x93\\x19-S5S?\\x01;\\x10\\xd5\\xd4`\\x0e\\xc5\\xf2D\\x14b\\xacu\\x8e\\x97\\x13@\\x18\\xa2b\\t\\xe2-\\xe5\\xbdv(\\xad\\xa5\\xba\\x17\\x9bpF\\xc7|\\x1b\\xbb\\xb9$\\xf89\\xa2/\\x1c3\\x7foS0I\\xd1\\xe5\\xad\\xd2)\\xe9\\xdaV\\xcc\\x8c\\n\\xcc\\x1e\\x843\\x87\\xff\\xecx\\x88\\x06\\xabm\\xd2,\\x1f\\x8c\\xeb\\xe3\\\\\\xeb\\xf5\\x1d<\\xcb0\\xd0\\xdcje<\\xd2\\xb1\\xdd\\xd6\\xfd0BD\\x1e\\xd7:@\\x00\\xf8\\x0b\"7\\xf3l\\x8c\\xdfK\\xe8\\xe2~\\x927[\\x8f\\x893B\\xf6Q\\x024\\x97U\\x82\\x9f\\xb6H\\xa7w\\xde\\x06\\'\\x83T\\xb5\\x0f\\xc7\\xd3K\\x1e\\xb3\\xac\\xaf]\\x02\\x03\\xdf\\xa6\\xd95\\x9e\\xcdU\\xcfL\\xe1\\xd7\\x8c\\x0b\\xa5\\x1f\\xdd\\xb3\\x02K\\x18\\\\\\x05\\xa3\\xac\\x12\\xf0<\\xd0\\xb5\\xa2\\x98g\\xae_{\\xdb\\xd0V!k\\x9e\\xe9\\x05\\x0f\\xef\\xcf}\\xd3)\\x80I\\xe6\\xf2\\xeb\\x86\\x92F\\x98\\x95_\\xe6\\xb9\\x9e\\xd7\\xd9\\\\\\xad\\t\\xb2N\\xc1\\xde\\n\\xd32\\x0c\\x02\\x02\\xed\\xad\\xfc\\x9a4{\\xdb\\x83\\xc6\\x87\\x8f\\xe4\\xe8\\xa5\\x91\\xb5\\x9b\\x9e\\x8d-\\x16\\xf5\\x99(E\\x8c\\x13B\\x85\\xe6\\xf2#n\\rV\\xe2\\x12.\\xb3\\xc5\\xf4\\xb2\\x85\\t\\xab\\xc0\\x98\\t\\x99l\\xf7p\\x16g\\xceC\\x08\\x83\\x9f\\xf0 k\\x11\\xd0\\xa9\\xa5\\x05\\xfb\\x075N\\'\\xda\\xbd\\xa5\\x89\\xdc\\x96\\xcc\\x1bIf\\xeck\\xa6\\xa99\\x14\\xe4\\x8f\\xc3omo\\xc7,\\x82\\x14BEN\\r\\xfewR\\x81c\\xc1m[GA\\xa3\\xa3oLL\\x96\\xc4\\x96\\xcf\\x1c\\r+\\xb1]a1#\\xebB\\x99\\x80:\\xf7sJ\\x0f\\x81\\x0c\\x9b&\\xbd\\x1c4d\\x94\\t\\x05a<5YG\\x02\\x06\\xdc\\xf7\\xf2\\xc3U\\xdd\\x8b\\xf7\\x05\\xaf\\xf2,\\x9f@i66\\xef\\x89S\\xa1-\\xd4\\x9e\\xf2\\x98`\\xb8z~[\\xeb\\xd5\\xa6o<\\t\\xfb\\xd3\\x12\\xa0`T\\xb2\\x0fb\\x88\\xe4\\xabQ]\\xa0\\xdf\\x93\\t@+\\x19\\xd5\\xceR\\x87_\\x1d\\xcb\\xeb\\xf7<h\\x07\\x18-\\x04\\xc3}\\xe8\\xa9=\\x0f\\x02\\x81\\x8a\\x10k{iWh\\xa9\\xe3\\x88\\x18ycq\\x1e\\xd4\\xf8\\x95\\xdc\\xdb\\xba`=\\xc0\\x07@\\xd6g\\xacf\\xceqC\\xbe\\x1e\\xaf\\xa5\\xcd\\xe4\\xce\\xde\\xcf\\x88 Y\\xa8\\xb13#\\x04\\x11\\xfe\\xc8\\xc3\\xc3 \\xd7(\\x15\\xeb\\xeb=r\\rZ\\x13\\x8a\\xa0}x\\x8d\\xef&X\\xb3N\\x05\\xe9\\x91\\x82-\\x9f2\\xc6\\xee\\xado\\x05\\xfei\\xefu\\x99\"\\x94\\xbda\\x9c\\xfb\\xe0\\x9f\\x9f\\xcc\\xa9\\x17,F\\xc8\\x7f5(J/(\\xbe\\xcf\\xe7\\x94 \\x9f{\\xeb\\xdbSU\\x05/\\xc1<:v\\x0f\\xe3\\x9d*\\x80\\n\\x92K\\x9bG$\\xd6\\xe9\\x8f\\t\\xf0^\\x81\\xc9\\xb0\\xba\\r\\x0bQ\\xa50BU\\x9a\\x82\\xe7\\xfff\\x9d\\x144`\\xa0\\xfa+\\xf5\\x1b\\xbe\\x99\\x88{W\\x84\\x0c\\xc1\\xbc\\xd3\\xbbB\\xd2\\xb3\\'\\xc5\\xffV\\xfc\\xc6\\x8dM\\x92\\x88\\x0b&\\x97\\xe7\\x1dGS\\xec\\xb1d\\x0e#\\x06@\\xc90\\t\\x9e\\xcc\\xbck\\xb8,\\x89Z\\xcf\\xee\\xca\\x15\\xd5\\x98\\x85\\xa9\\x8d\\xc2\\x14\\xd7\\xd9\\xb7Hs\\xee\\x0f\\x03\\xf1?\\x82\\x15\\xb9\\xd7\\x1d\\x8f\\xdfD\\xa5\\x81v\\xec\\tGr *\\xb9+\\xd5O\\x1c\\xdb\\n\\x10\"p\\x81,\\x05\\x91*7\\x8b\\xbax\\xc7\\xc7)\\x80P\\xa6\\x1a\\x97\\xb6H^\\xcf\\xb2\\xa2\\x18\\xc7\\xce,[o\\xd7\\x80#\\x10\\xc0*\\xfa\\x9d\\xd8Y\\xadIC\\xa5\\xe8\\x93\\x03\\xc1 k\\x92\\xc1\\xe1Q\\x95\\x06Sj\\xfe\\xa1\\xd6x$\\xe2\\xc5\\xe3\\xfe\\xc5?\\x858\\x00\\xbd|bnf\\x0b\\x1a8\\xbbZ\\x85\\xff\\r\\x8b\\x9a(F\\xd5\\xa0\\x98Y\\xfdv\\x1f\\xaf\\xf0\\xdbhsoU=-\\x8a\\xb2\\xd5\\xe0\\x0f\\x90\\x81\\x15\\xc2[r\\xa1\\xbe0UomG#8rSs\\x1f\\x95p!a\\xf5B\\xd0\\x13\\xbe7\\xaf$RD\\x1a\\xb2\\x0b\\xc3\\xceh\\x1a\\xa0\\x0el\\xbe\\x84\\xc6~\\xeb53o\\xb6\\xb5\\x9c\\xfc\\x8f\\xf1\\xb1R0fk\\xd3\\xdc\\xc6R\\xf5\\xef\\x1b^\\xd4\\xae\\xa6\\xd7Z\\xe8\\xa2\\xec\\x81\\x14\\xae\\x1f}\\xfd;#D\\n^\\xf3mp\\xfdhI\\x82\\x14a,\\xa4\\x81\\x81L\\x05\\x92\\x1c\\x05\\xec\\xb6ru\\x9d\\xc2:\\xb2\\x9er\\x1b\\x1c\\x02\\xf6\\xcdx\\x0eoH[\\xc1'"
      ]
     },
     "execution_count": 63,
     "metadata": {},
     "output_type": "execute_result"
    }
   ],
   "source": [
    "bn = fake.binary()\n",
    "bn[:2000]"
   ]
  },
  {
   "cell_type": "code",
   "execution_count": 64,
   "metadata": {},
   "outputs": [
    {
     "data": {
      "text/plain": [
       "False"
      ]
     },
     "execution_count": 64,
     "metadata": {},
     "output_type": "execute_result"
    }
   ],
   "source": [
    "fake.boolean()"
   ]
  },
  {
   "cell_type": "code",
   "execution_count": 69,
   "metadata": {},
   "outputs": [
    {
     "data": {
      "text/plain": [
       "'71 gk'"
      ]
     },
     "execution_count": 69,
     "metadata": {},
     "output_type": "execute_result"
    }
   ],
   "source": [
    "fake.bothify()"
   ]
  },
  {
   "cell_type": "code",
   "execution_count": 82,
   "metadata": {},
   "outputs": [
    {
     "data": {
      "text/plain": [
       "'target efficient info-mediaries'"
      ]
     },
     "execution_count": 82,
     "metadata": {},
     "output_type": "execute_result"
    }
   ],
   "source": [
    "fake.bs()"
   ]
  },
  {
   "cell_type": "code",
   "execution_count": 83,
   "metadata": {},
   "outputs": [
    {
     "data": {
      "text/plain": [
       "'677'"
      ]
     },
     "execution_count": 83,
     "metadata": {},
     "output_type": "execute_result"
    }
   ],
   "source": [
    "fake.building_number()"
   ]
  },
  {
   "cell_type": "code",
   "execution_count": 84,
   "metadata": {},
   "outputs": [
    {
     "ename": "TypeError",
     "evalue": "'re.Pattern' object is not callable",
     "output_type": "error",
     "traceback": [
      "\u001b[0;31m---------------------------------------------------------------------------\u001b[0m",
      "\u001b[0;31mTypeError\u001b[0m                                 Traceback (most recent call last)",
      "Cell \u001b[0;32mIn[84], line 1\u001b[0m\n\u001b[0;32m----> 1\u001b[0m fake\u001b[39m.\u001b[39;49mcache_pattern()\n",
      "\u001b[0;31mTypeError\u001b[0m: 're.Pattern' object is not callable"
     ]
    }
   ],
   "source": [
    "fake.cache_pattern()"
   ]
  },
  {
   "cell_type": "code",
   "execution_count": 85,
   "metadata": {},
   "outputs": [
    {
     "data": {
      "text/plain": [
       "'Face-to-face context-sensitive matrix'"
      ]
     },
     "execution_count": 85,
     "metadata": {},
     "output_type": "execute_result"
    }
   ],
   "source": [
    "fake.catch_phrase()"
   ]
  },
  {
   "cell_type": "code",
   "execution_count": 86,
   "metadata": {},
   "outputs": [
    {
     "data": {
      "text/plain": [
       "'VI'"
      ]
     },
     "execution_count": 86,
     "metadata": {},
     "output_type": "execute_result"
    }
   ],
   "source": [
    "fake.century()"
   ]
  },
  {
   "cell_type": "code",
   "execution_count": 87,
   "metadata": {},
   "outputs": [
    {
     "data": {
      "text/plain": [
       "'Mozilla/5.0 (X11; Linux i686) AppleWebKit/532.0 (KHTML, like Gecko) Chrome/46.0.870.0 Safari/532.0'"
      ]
     },
     "execution_count": 87,
     "metadata": {},
     "output_type": "execute_result"
    }
   ],
   "source": [
    "fake.chrome()"
   ]
  },
  {
   "cell_type": "code",
   "execution_count": 88,
   "metadata": {},
   "outputs": [
    {
     "data": {
      "text/plain": [
       "'R6018418A'"
      ]
     },
     "execution_count": 88,
     "metadata": {},
     "output_type": "execute_result"
    }
   ],
   "source": [
    "fake.cif()"
   ]
  },
  {
   "cell_type": "code",
   "execution_count": 89,
   "metadata": {},
   "outputs": [
    {
     "data": {
      "text/plain": [
       "'Port Brandon'"
      ]
     },
     "execution_count": 89,
     "metadata": {},
     "output_type": "execute_result"
    }
   ],
   "source": [
    "fake.city()"
   ]
  },
  {
   "cell_type": "code",
   "execution_count": 90,
   "metadata": {},
   "outputs": [
    {
     "data": {
      "text/plain": [
       "'East'"
      ]
     },
     "execution_count": 90,
     "metadata": {},
     "output_type": "execute_result"
    }
   ],
   "source": [
    "fake.city_prefix()"
   ]
  },
  {
   "cell_type": "code",
   "execution_count": 91,
   "metadata": {},
   "outputs": [
    {
     "data": {
      "text/plain": [
       "'chester'"
      ]
     },
     "execution_count": 91,
     "metadata": {},
     "output_type": "execute_result"
    }
   ],
   "source": [
    "fake.city_suffix()"
   ]
  },
  {
   "cell_type": "code",
   "execution_count": 92,
   "metadata": {},
   "outputs": [
    {
     "data": {
      "text/plain": [
       "'1974-03-19'"
      ]
     },
     "execution_count": 92,
     "metadata": {},
     "output_type": "execute_result"
    }
   ],
   "source": [
    "fake.date()"
   ]
  },
  {
   "cell_type": "code",
   "execution_count": 93,
   "metadata": {},
   "outputs": [
    {
     "data": {
      "text/plain": [
       "'#f4b7d2'"
      ]
     },
     "execution_count": 93,
     "metadata": {},
     "output_type": "execute_result"
    }
   ],
   "source": [
    "fake.color()"
   ]
  },
  {
   "cell_type": "code",
   "execution_count": 94,
   "metadata": {},
   "outputs": [
    {
     "data": {
      "text/plain": [
       "'Brown'"
      ]
     },
     "execution_count": 94,
     "metadata": {},
     "output_type": "execute_result"
    }
   ],
   "source": [
    "fake.color_name()"
   ]
  },
  {
   "cell_type": "code",
   "execution_count": 95,
   "metadata": {},
   "outputs": [
    {
     "data": {
      "text/plain": [
       "'Company PLC'"
      ]
     },
     "execution_count": 95,
     "metadata": {},
     "output_type": "execute_result"
    }
   ],
   "source": [
    "fake.company()"
   ]
  },
  {
   "cell_type": "code",
   "execution_count": 96,
   "metadata": {},
   "outputs": [
    {
     "data": {
      "text/plain": [
       "'amyshaw@green-walls.com'"
      ]
     },
     "execution_count": 96,
     "metadata": {},
     "output_type": "execute_result"
    }
   ],
   "source": [
    "fake.company_email()"
   ]
  },
  {
   "cell_type": "code",
   "execution_count": 105,
   "metadata": {},
   "outputs": [
    {
     "data": {
      "text/plain": [
       "'LLC'"
      ]
     },
     "execution_count": 105,
     "metadata": {},
     "output_type": "execute_result"
    }
   ],
   "source": [
    "fake.company_suffix()"
   ]
  },
  {
   "cell_type": "code",
   "execution_count": 111,
   "metadata": {},
   "outputs": [
    {
     "data": {
      "text/plain": [
       "Decimal('15.857715')"
      ]
     },
     "execution_count": 111,
     "metadata": {},
     "output_type": "execute_result"
    },
    {
     "name": "stdout",
     "output_type": "stream",
     "text": [
      "\u001b[0;31mSignature:\u001b[0m\n",
      "\u001b[0mfake\u001b[0m\u001b[0;34m.\u001b[0m\u001b[0mcoordinate\u001b[0m\u001b[0;34m(\u001b[0m\u001b[0;34m\u001b[0m\n",
      "\u001b[0;34m\u001b[0m    \u001b[0mcenter\u001b[0m\u001b[0;34m:\u001b[0m \u001b[0mUnion\u001b[0m\u001b[0;34m[\u001b[0m\u001b[0mfloat\u001b[0m\u001b[0;34m,\u001b[0m \u001b[0mNoneType\u001b[0m\u001b[0;34m]\u001b[0m \u001b[0;34m=\u001b[0m \u001b[0;32mNone\u001b[0m\u001b[0;34m,\u001b[0m\u001b[0;34m\u001b[0m\n",
      "\u001b[0;34m\u001b[0m    \u001b[0mradius\u001b[0m\u001b[0;34m:\u001b[0m \u001b[0mUnion\u001b[0m\u001b[0;34m[\u001b[0m\u001b[0mfloat\u001b[0m\u001b[0;34m,\u001b[0m \u001b[0mint\u001b[0m\u001b[0;34m]\u001b[0m \u001b[0;34m=\u001b[0m \u001b[0;36m0.001\u001b[0m\u001b[0;34m,\u001b[0m\u001b[0;34m\u001b[0m\n",
      "\u001b[0;34m\u001b[0m\u001b[0;34m)\u001b[0m \u001b[0;34m->\u001b[0m \u001b[0mdecimal\u001b[0m\u001b[0;34m.\u001b[0m\u001b[0mDecimal\u001b[0m\u001b[0;34m\u001b[0m\u001b[0;34m\u001b[0m\u001b[0m\n",
      "\u001b[0;31mDocstring:\u001b[0m Optionally center the coord and pick a point within radius.\n",
      "\u001b[0;31mFile:\u001b[0m      ~/.local/share/virtualenvs/generador_datos_sinteticos-Nir3Ushe/lib/python3.8/site-packages/faker/providers/geo/__init__.py\n",
      "\u001b[0;31mType:\u001b[0m      method"
     ]
    }
   ],
   "source": [
    "?fake.coordinate\n",
    "fake.coordinate()"
   ]
  },
  {
   "cell_type": "code",
   "execution_count": 112,
   "metadata": {},
   "outputs": [
    {
     "data": {
      "text/plain": [
       "'Cambodia'"
      ]
     },
     "execution_count": 112,
     "metadata": {},
     "output_type": "execute_result"
    }
   ],
   "source": [
    "fake.country()"
   ]
  },
  {
   "cell_type": "code",
   "execution_count": 113,
   "metadata": {},
   "outputs": [
    {
     "data": {
      "text/plain": [
       "'+229'"
      ]
     },
     "execution_count": 113,
     "metadata": {},
     "output_type": "execute_result"
    }
   ],
   "source": [
    "fake.country_calling_code()"
   ]
  },
  {
   "cell_type": "code",
   "execution_count": 114,
   "metadata": {},
   "outputs": [
    {
     "data": {
      "text/plain": [
       "'LY'"
      ]
     },
     "execution_count": 114,
     "metadata": {},
     "output_type": "execute_result"
    }
   ],
   "source": [
    "fake.country_code()"
   ]
  },
  {
   "cell_type": "code",
   "execution_count": 115,
   "metadata": {},
   "outputs": [
    {
     "data": {
      "text/plain": [
       "'12/27'"
      ]
     },
     "execution_count": 115,
     "metadata": {},
     "output_type": "execute_result"
    }
   ],
   "source": [
    "fake.credit_card_expire()"
   ]
  },
  {
   "cell_type": "code",
   "execution_count": 116,
   "metadata": {},
   "outputs": [
    {
     "data": {
      "text/plain": [
       "'VISA 13 digit\\nJoseph Rice\\n4129276235978 04/25\\nCVC: 227\\n'"
      ]
     },
     "execution_count": 116,
     "metadata": {},
     "output_type": "execute_result"
    }
   ],
   "source": [
    "fake.credit_card_full()"
   ]
  },
  {
   "cell_type": "code",
   "execution_count": 117,
   "metadata": {},
   "outputs": [
    {
     "data": {
      "text/plain": [
       "'3500133555962024'"
      ]
     },
     "execution_count": 117,
     "metadata": {},
     "output_type": "execute_result"
    }
   ],
   "source": [
    "fake.credit_card_number()"
   ]
  },
  {
   "cell_type": "code",
   "execution_count": 118,
   "metadata": {},
   "outputs": [
    {
     "data": {
      "text/plain": [
       "'JCB 16 digit'"
      ]
     },
     "execution_count": 118,
     "metadata": {},
     "output_type": "execute_result"
    }
   ],
   "source": [
    "fake.credit_card_provider()"
   ]
  },
  {
   "cell_type": "code",
   "execution_count": 119,
   "metadata": {},
   "outputs": [
    {
     "data": {
      "text/plain": [
       "'058'"
      ]
     },
     "execution_count": 119,
     "metadata": {},
     "output_type": "execute_result"
    }
   ],
   "source": [
    "fake.credit_card_security_code()"
   ]
  },
  {
   "cell_type": "code",
   "execution_count": 120,
   "metadata": {},
   "outputs": [
    {
     "data": {
      "text/plain": [
       "('BURST', 'Burstcoin')"
      ]
     },
     "execution_count": 120,
     "metadata": {},
     "output_type": "execute_result"
    }
   ],
   "source": [
    "fake.cryptocurrency()"
   ]
  },
  {
   "cell_type": "code",
   "execution_count": 121,
   "metadata": {},
   "outputs": [
    {
     "data": {
      "text/plain": [
       "'ZEC'"
      ]
     },
     "execution_count": 121,
     "metadata": {},
     "output_type": "execute_result"
    }
   ],
   "source": [
    "fake.cryptocurrency_code()"
   ]
  },
  {
   "cell_type": "code",
   "execution_count": 122,
   "metadata": {},
   "outputs": [
    {
     "data": {
      "text/plain": [
       "'Zclassic'"
      ]
     },
     "execution_count": 122,
     "metadata": {},
     "output_type": "execute_result"
    }
   ],
   "source": [
    "fake.cryptocurrency_name()"
   ]
  },
  {
   "cell_type": "code",
   "execution_count": 126,
   "metadata": {},
   "outputs": [
    {
     "name": "stdout",
     "output_type": "stream",
     "text": [
      "\"Kevin Wheeler\",\"Unit 4629 Box 4984\n",
      "DPO AA 86569\"\n",
      "\"Glen Carter\",\"5408 Brown Place Suite 739\n",
      "Copelandfort, CT 11547\"\n",
      "\"Alicia Oliver\",\"7232 Victoria Knoll Suite 624\n",
      "East Timothy, HI 37281\"\n",
      "\"Catherine Henderson\",\"509 Montgomery Ferry Apt. 861\n",
      "Ryanside, PR 65730\"\n",
      "\"Jose Mitchell\",\"893 Hayes Prairie Apt. 366\n",
      "Phyllischester, MS 72395\"\n",
      "\"Robin Neal\",\"19822 Lyons Grove\n",
      "Karaborough, WY 22489\"\n",
      "\"Maria Barrera\",\"77657 Julie Pike Suite 897\n",
      "Lake Chase, WV 03205\"\n",
      "\"Richard Smith\",\"119 Jared Islands Apt. 919\n",
      "Danielberg, UT 36261\"\n",
      "\"Holly Allen\",\"61916 Jamie Route\n",
      "Markhaven, WY 03290\"\n",
      "\"Brandon Schmitt\",\"420 Rebecca Manor\n",
      "Jasonview, MI 99521\"\n",
      "\n"
     ]
    },
    {
     "name": "stdout",
     "output_type": "stream",
     "text": [
      "\u001b[0;31mSignature:\u001b[0m\n",
      "\u001b[0mfake\u001b[0m\u001b[0;34m.\u001b[0m\u001b[0mcsv\u001b[0m\u001b[0;34m(\u001b[0m\u001b[0;34m\u001b[0m\n",
      "\u001b[0;34m\u001b[0m    \u001b[0mheader\u001b[0m\u001b[0;34m:\u001b[0m \u001b[0mUnion\u001b[0m\u001b[0;34m[\u001b[0m\u001b[0mSequence\u001b[0m\u001b[0;34m[\u001b[0m\u001b[0mstr\u001b[0m\u001b[0;34m]\u001b[0m\u001b[0;34m,\u001b[0m \u001b[0mNoneType\u001b[0m\u001b[0;34m]\u001b[0m \u001b[0;34m=\u001b[0m \u001b[0;32mNone\u001b[0m\u001b[0;34m,\u001b[0m\u001b[0;34m\u001b[0m\n",
      "\u001b[0;34m\u001b[0m    \u001b[0mdata_columns\u001b[0m\u001b[0;34m:\u001b[0m \u001b[0mTuple\u001b[0m\u001b[0;34m[\u001b[0m\u001b[0mstr\u001b[0m\u001b[0;34m,\u001b[0m \u001b[0mstr\u001b[0m\u001b[0;34m]\u001b[0m \u001b[0;34m=\u001b[0m \u001b[0;34m(\u001b[0m\u001b[0;34m'{{name}}'\u001b[0m\u001b[0;34m,\u001b[0m \u001b[0;34m'{{address}}'\u001b[0m\u001b[0;34m)\u001b[0m\u001b[0;34m,\u001b[0m\u001b[0;34m\u001b[0m\n",
      "\u001b[0;34m\u001b[0m    \u001b[0mnum_rows\u001b[0m\u001b[0;34m:\u001b[0m \u001b[0mint\u001b[0m \u001b[0;34m=\u001b[0m \u001b[0;36m10\u001b[0m\u001b[0;34m,\u001b[0m\u001b[0;34m\u001b[0m\n",
      "\u001b[0;34m\u001b[0m    \u001b[0minclude_row_ids\u001b[0m\u001b[0;34m:\u001b[0m \u001b[0mbool\u001b[0m \u001b[0;34m=\u001b[0m \u001b[0;32mFalse\u001b[0m\u001b[0;34m,\u001b[0m\u001b[0;34m\u001b[0m\n",
      "\u001b[0;34m\u001b[0m\u001b[0;34m)\u001b[0m \u001b[0;34m->\u001b[0m \u001b[0mstr\u001b[0m\u001b[0;34m\u001b[0m\u001b[0;34m\u001b[0m\u001b[0m\n",
      "\u001b[0;31mDocstring:\u001b[0m\n",
      "Generate random comma-separated values.\n",
      "\n",
      "For more information on the different arguments of this method, please refer to\n",
      ":meth:`dsv() <faker.providers.misc.Provider.dsv>` which is used under the hood.\n",
      "\n",
      ":sample: data_columns=('{{name}}', '{{address}}'), num_rows=10, include_row_ids=False\n",
      ":sample: header=('Name', 'Address', 'Favorite Color'),\n",
      "        data_columns=('{{name}}', '{{address}}', '{{safe_color_name}}'),\n",
      "        num_rows=10, include_row_ids=True\n",
      "\u001b[0;31mFile:\u001b[0m      ~/.local/share/virtualenvs/generador_datos_sinteticos-Nir3Ushe/lib/python3.8/site-packages/faker/providers/misc/__init__.py\n",
      "\u001b[0;31mType:\u001b[0m      method"
     ]
    }
   ],
   "source": [
    "?fake.csv\n",
    "print(fake.csv())"
   ]
  },
  {
   "cell_type": "code",
   "execution_count": 140,
   "metadata": {},
   "outputs": [],
   "source": [
    "import os\n",
    "from datetime import datetime\n",
    "\n",
    "DATE: str = datetime.now().strftime(\"%Y%m%d\")\n",
    "MAIN_PATH: str = \"/home/ubuntu/workspace/fsalinas/generador_datos_sinteticos\"\n",
    "DATA_PATH: str = os.path.join(MAIN_PATH, f\"data/fake01/{DATE}\")"
   ]
  },
  {
   "cell_type": "code",
   "execution_count": 151,
   "metadata": {},
   "outputs": [],
   "source": [
    "import os\n",
    "from datetime import datetime\n",
    "\n",
    "DATE: str = datetime.now().strftime(\"%Y%m%d\")\n",
    "MAIN_PATH: str = \"/home/ubuntu/workspace/fsalinas/generador_datos_sinteticos\"\n",
    "DATA_PATH: str = os.path.join(MAIN_PATH, f\"data/fake01/{DATE}\")\n",
    "\n",
    "HEADERS = ['name', 'address', 'cryptocurrency', 'credit_card_number', 'credit_card_expire', 'country', 'city', 'chrome']\n",
    "DATA_COLUMNS = ['{{'+x+'}}' for x in HEADERS]\n",
    "\n",
    "fake_data = fake.csv(\n",
    "    header=HEADERS,\n",
    "    data_columns=DATA_COLUMNS,\n",
    "    num_rows=10,\n",
    "    include_row_ids=True\n",
    "    )\n",
    "\n",
    "os.makedirs(DATA_PATH, exist_ok=True)\n",
    "\n",
    "FILE_PATH: str = os.path.join(DATA_PATH, 'fake01.csv')\n",
    "\n",
    "with open(FILE_PATH, '+a') as f:\n",
    "    f.write(fake_data if os.path.exists(FILE_PATH) else fake_data[1:])\n"
   ]
  },
  {
   "cell_type": "code",
   "execution_count": 152,
   "metadata": {},
   "outputs": [],
   "source": [
    "import pandas as pd\n"
   ]
  },
  {
   "cell_type": "code",
   "execution_count": 153,
   "metadata": {},
   "outputs": [
    {
     "name": "stdout",
     "output_type": "stream",
     "text": [
      "<class 'pandas.core.frame.DataFrame'>\n",
      "RangeIndex: 10 entries, 0 to 9\n",
      "Data columns (total 9 columns):\n",
      " #   Column              Non-Null Count  Dtype \n",
      "---  ------              --------------  ----- \n",
      " 0   ID                  10 non-null     object\n",
      " 1   name                10 non-null     object\n",
      " 2   address             10 non-null     object\n",
      " 3   cryptocurrency      10 non-null     object\n",
      " 4   credit_card_number  10 non-null     object\n",
      " 5   credit_card_expire  10 non-null     object\n",
      " 6   country             10 non-null     object\n",
      " 7   city                10 non-null     object\n",
      " 8   chrome              10 non-null     object\n",
      "dtypes: object(9)\n",
      "memory usage: 848.0+ bytes\n"
     ]
    },
    {
     "data": {
      "text/html": [
       "<div>\n",
       "<style scoped>\n",
       "    .dataframe tbody tr th:only-of-type {\n",
       "        vertical-align: middle;\n",
       "    }\n",
       "\n",
       "    .dataframe tbody tr th {\n",
       "        vertical-align: top;\n",
       "    }\n",
       "\n",
       "    .dataframe thead th {\n",
       "        text-align: right;\n",
       "    }\n",
       "</style>\n",
       "<table border=\"1\" class=\"dataframe\">\n",
       "  <thead>\n",
       "    <tr style=\"text-align: right;\">\n",
       "      <th></th>\n",
       "      <th>ID</th>\n",
       "      <th>name</th>\n",
       "      <th>address</th>\n",
       "      <th>cryptocurrency</th>\n",
       "      <th>credit_card_number</th>\n",
       "      <th>credit_card_expire</th>\n",
       "      <th>country</th>\n",
       "      <th>city</th>\n",
       "      <th>chrome</th>\n",
       "    </tr>\n",
       "  </thead>\n",
       "  <tbody>\n",
       "    <tr>\n",
       "      <th>0</th>\n",
       "      <td>1</td>\n",
       "      <td>Trevor Stanley</td>\n",
       "      <td>05769 Gay Plaza\\nHughesburgh, MD 09141</td>\n",
       "      <td>('GRC', 'Gridcoin')</td>\n",
       "      <td>213190233275520</td>\n",
       "      <td>02/26</td>\n",
       "      <td>Chad</td>\n",
       "      <td>Port Katherine</td>\n",
       "      <td>Mozilla/5.0 (Macintosh; PPC Mac OS X 10_10_3) ...</td>\n",
       "    </tr>\n",
       "    <tr>\n",
       "      <th>1</th>\n",
       "      <td>2</td>\n",
       "      <td>Lisa Scott</td>\n",
       "      <td>4389 Jamie Ford Apt. 743\\nNew Zacharychester, ...</td>\n",
       "      <td>('ZCL', 'Zclassic')</td>\n",
       "      <td>6598841351263167</td>\n",
       "      <td>07/28</td>\n",
       "      <td>Poland</td>\n",
       "      <td>Morrishaven</td>\n",
       "      <td>Mozilla/5.0 (Macintosh; U; Intel Mac OS X 10_7...</td>\n",
       "    </tr>\n",
       "    <tr>\n",
       "      <th>2</th>\n",
       "      <td>3</td>\n",
       "      <td>Christopher Larson</td>\n",
       "      <td>796 Andersen Avenue Apt. 809\\nBookertown, IA 6...</td>\n",
       "      <td>('IOTA', 'IOTA')</td>\n",
       "      <td>6518855338779530</td>\n",
       "      <td>10/28</td>\n",
       "      <td>Syrian Arab Republic</td>\n",
       "      <td>Perkinsmouth</td>\n",
       "      <td>Mozilla/5.0 (iPhone; CPU iPhone OS 10_3_4 like...</td>\n",
       "    </tr>\n",
       "    <tr>\n",
       "      <th>3</th>\n",
       "      <td>4</td>\n",
       "      <td>Troy Jacobs</td>\n",
       "      <td>Unit 9062 Box 1380\\nDPO AP 66128</td>\n",
       "      <td>('BTC', 'Bitcoin')</td>\n",
       "      <td>180085842930722</td>\n",
       "      <td>06/31</td>\n",
       "      <td>Norfolk Island</td>\n",
       "      <td>Meghanmouth</td>\n",
       "      <td>Mozilla/5.0 (Macintosh; U; PPC Mac OS X 10_9_8...</td>\n",
       "    </tr>\n",
       "    <tr>\n",
       "      <th>4</th>\n",
       "      <td>5</td>\n",
       "      <td>Jay Miller</td>\n",
       "      <td>39627 Robinson Centers Apt. 603\\nNew Terryside...</td>\n",
       "      <td>('AMP', 'AMP')</td>\n",
       "      <td>4833787429625343</td>\n",
       "      <td>01/33</td>\n",
       "      <td>Senegal</td>\n",
       "      <td>Evansstad</td>\n",
       "      <td>Mozilla/5.0 (Macintosh; U; Intel Mac OS X 10_7...</td>\n",
       "    </tr>\n",
       "  </tbody>\n",
       "</table>\n",
       "</div>"
      ],
      "text/plain": [
       "  ID                name                                            address  \\\n",
       "0  1      Trevor Stanley             05769 Gay Plaza\\nHughesburgh, MD 09141   \n",
       "1  2          Lisa Scott  4389 Jamie Ford Apt. 743\\nNew Zacharychester, ...   \n",
       "2  3  Christopher Larson  796 Andersen Avenue Apt. 809\\nBookertown, IA 6...   \n",
       "3  4         Troy Jacobs                   Unit 9062 Box 1380\\nDPO AP 66128   \n",
       "4  5          Jay Miller  39627 Robinson Centers Apt. 603\\nNew Terryside...   \n",
       "\n",
       "        cryptocurrency credit_card_number credit_card_expire  \\\n",
       "0  ('GRC', 'Gridcoin')    213190233275520              02/26   \n",
       "1  ('ZCL', 'Zclassic')   6598841351263167              07/28   \n",
       "2     ('IOTA', 'IOTA')   6518855338779530              10/28   \n",
       "3   ('BTC', 'Bitcoin')    180085842930722              06/31   \n",
       "4       ('AMP', 'AMP')   4833787429625343              01/33   \n",
       "\n",
       "                country            city  \\\n",
       "0                  Chad  Port Katherine   \n",
       "1                Poland     Morrishaven   \n",
       "2  Syrian Arab Republic    Perkinsmouth   \n",
       "3        Norfolk Island     Meghanmouth   \n",
       "4               Senegal       Evansstad   \n",
       "\n",
       "                                              chrome  \n",
       "0  Mozilla/5.0 (Macintosh; PPC Mac OS X 10_10_3) ...  \n",
       "1  Mozilla/5.0 (Macintosh; U; Intel Mac OS X 10_7...  \n",
       "2  Mozilla/5.0 (iPhone; CPU iPhone OS 10_3_4 like...  \n",
       "3  Mozilla/5.0 (Macintosh; U; PPC Mac OS X 10_9_8...  \n",
       "4  Mozilla/5.0 (Macintosh; U; Intel Mac OS X 10_7...  "
      ]
     },
     "execution_count": 153,
     "metadata": {},
     "output_type": "execute_result"
    }
   ],
   "source": [
    "df = pd.read_csv(FILE_PATH, dtype=str)\n",
    "df.info()\n",
    "df.head()"
   ]
  },
  {
   "cell_type": "code",
   "execution_count": 165,
   "metadata": {},
   "outputs": [
    {
     "data": {
      "text/plain": [
       "datetime.date(2022, 11, 25)"
      ]
     },
     "execution_count": 165,
     "metadata": {},
     "output_type": "execute_result"
    },
    {
     "name": "stdout",
     "output_type": "stream",
     "text": [
      "\u001b[0;31mSignature:\u001b[0m\n",
      "\u001b[0mfake\u001b[0m\u001b[0;34m.\u001b[0m\u001b[0mdate_between\u001b[0m\u001b[0;34m(\u001b[0m\u001b[0;34m\u001b[0m\n",
      "\u001b[0;34m\u001b[0m    \u001b[0mstart_date\u001b[0m\u001b[0;34m:\u001b[0m \u001b[0mUnion\u001b[0m\u001b[0;34m[\u001b[0m\u001b[0mdatetime\u001b[0m\u001b[0;34m.\u001b[0m\u001b[0mdate\u001b[0m\u001b[0;34m,\u001b[0m \u001b[0mdatetime\u001b[0m\u001b[0;34m.\u001b[0m\u001b[0mdatetime\u001b[0m\u001b[0;34m,\u001b[0m \u001b[0mdatetime\u001b[0m\u001b[0;34m.\u001b[0m\u001b[0mtimedelta\u001b[0m\u001b[0;34m,\u001b[0m \u001b[0mstr\u001b[0m\u001b[0;34m,\u001b[0m \u001b[0mint\u001b[0m\u001b[0;34m]\u001b[0m \u001b[0;34m=\u001b[0m \u001b[0;34m'-30y'\u001b[0m\u001b[0;34m,\u001b[0m\u001b[0;34m\u001b[0m\n",
      "\u001b[0;34m\u001b[0m    \u001b[0mend_date\u001b[0m\u001b[0;34m:\u001b[0m \u001b[0mUnion\u001b[0m\u001b[0;34m[\u001b[0m\u001b[0mdatetime\u001b[0m\u001b[0;34m.\u001b[0m\u001b[0mdate\u001b[0m\u001b[0;34m,\u001b[0m \u001b[0mdatetime\u001b[0m\u001b[0;34m.\u001b[0m\u001b[0mdatetime\u001b[0m\u001b[0;34m,\u001b[0m \u001b[0mdatetime\u001b[0m\u001b[0;34m.\u001b[0m\u001b[0mtimedelta\u001b[0m\u001b[0;34m,\u001b[0m \u001b[0mstr\u001b[0m\u001b[0;34m,\u001b[0m \u001b[0mint\u001b[0m\u001b[0;34m]\u001b[0m \u001b[0;34m=\u001b[0m \u001b[0;34m'today'\u001b[0m\u001b[0;34m,\u001b[0m\u001b[0;34m\u001b[0m\n",
      "\u001b[0;34m\u001b[0m\u001b[0;34m)\u001b[0m \u001b[0;34m->\u001b[0m \u001b[0mdatetime\u001b[0m\u001b[0;34m.\u001b[0m\u001b[0mdate\u001b[0m\u001b[0;34m\u001b[0m\u001b[0;34m\u001b[0m\u001b[0m\n",
      "\u001b[0;31mDocstring:\u001b[0m\n",
      "Get a Date object based on a random date between two given dates.\n",
      "Accepts date strings that can be recognized by strtotime().\n",
      "\n",
      ":param start_date: Defaults to 30 years ago\n",
      ":param end_date: Defaults to \"today\"\n",
      ":example: Date('1999-02-02')\n",
      ":return: Date\n",
      "\u001b[0;31mFile:\u001b[0m      ~/.local/share/virtualenvs/generador_datos_sinteticos-Nir3Ushe/lib/python3.8/site-packages/faker/providers/date_time/__init__.py\n",
      "\u001b[0;31mType:\u001b[0m      method"
     ]
    }
   ],
   "source": [
    "?fake.date_between\n",
    "from datetime import datetime\n",
    "\n",
    "fake.date_between(start_date=datetime(2019, 1, 1), end_date='today')"
   ]
  },
  {
   "cell_type": "code",
   "execution_count": 174,
   "metadata": {},
   "outputs": [
    {
     "data": {
      "text/plain": [
       "datetime.date(2022, 7, 12)"
      ]
     },
     "execution_count": 174,
     "metadata": {},
     "output_type": "execute_result"
    },
    {
     "name": "stdout",
     "output_type": "stream",
     "text": [
      "\u001b[0;31mSignature:\u001b[0m\n",
      "\u001b[0mfake\u001b[0m\u001b[0;34m.\u001b[0m\u001b[0mdate_between_dates\u001b[0m\u001b[0;34m(\u001b[0m\u001b[0;34m\u001b[0m\n",
      "\u001b[0;34m\u001b[0m    \u001b[0mdate_start\u001b[0m\u001b[0;34m:\u001b[0m \u001b[0mUnion\u001b[0m\u001b[0;34m[\u001b[0m\u001b[0mdatetime\u001b[0m\u001b[0;34m.\u001b[0m\u001b[0mdate\u001b[0m\u001b[0;34m,\u001b[0m \u001b[0mdatetime\u001b[0m\u001b[0;34m.\u001b[0m\u001b[0mdatetime\u001b[0m\u001b[0;34m,\u001b[0m \u001b[0mdatetime\u001b[0m\u001b[0;34m.\u001b[0m\u001b[0mtimedelta\u001b[0m\u001b[0;34m,\u001b[0m \u001b[0mstr\u001b[0m\u001b[0;34m,\u001b[0m \u001b[0mint\u001b[0m\u001b[0;34m,\u001b[0m \u001b[0mNoneType\u001b[0m\u001b[0;34m]\u001b[0m \u001b[0;34m=\u001b[0m \u001b[0;32mNone\u001b[0m\u001b[0;34m,\u001b[0m\u001b[0;34m\u001b[0m\n",
      "\u001b[0;34m\u001b[0m    \u001b[0mdate_end\u001b[0m\u001b[0;34m:\u001b[0m \u001b[0mUnion\u001b[0m\u001b[0;34m[\u001b[0m\u001b[0mdatetime\u001b[0m\u001b[0;34m.\u001b[0m\u001b[0mdate\u001b[0m\u001b[0;34m,\u001b[0m \u001b[0mdatetime\u001b[0m\u001b[0;34m.\u001b[0m\u001b[0mdatetime\u001b[0m\u001b[0;34m,\u001b[0m \u001b[0mdatetime\u001b[0m\u001b[0;34m.\u001b[0m\u001b[0mtimedelta\u001b[0m\u001b[0;34m,\u001b[0m \u001b[0mstr\u001b[0m\u001b[0;34m,\u001b[0m \u001b[0mint\u001b[0m\u001b[0;34m,\u001b[0m \u001b[0mNoneType\u001b[0m\u001b[0;34m]\u001b[0m \u001b[0;34m=\u001b[0m \u001b[0;32mNone\u001b[0m\u001b[0;34m,\u001b[0m\u001b[0;34m\u001b[0m\n",
      "\u001b[0;34m\u001b[0m\u001b[0;34m)\u001b[0m \u001b[0;34m->\u001b[0m \u001b[0mdatetime\u001b[0m\u001b[0;34m.\u001b[0m\u001b[0mdate\u001b[0m\u001b[0;34m\u001b[0m\u001b[0;34m\u001b[0m\u001b[0m\n",
      "\u001b[0;31mDocstring:\u001b[0m\n",
      "Takes two Date objects and returns a random date between the two given dates.\n",
      "Accepts Date or datetime objects\n",
      "\n",
      ":param date_start: Date\n",
      ":param date_end: Date\n",
      ":return: Date\n",
      "\u001b[0;31mFile:\u001b[0m      ~/.local/share/virtualenvs/generador_datos_sinteticos-Nir3Ushe/lib/python3.8/site-packages/faker/providers/date_time/__init__.py\n",
      "\u001b[0;31mType:\u001b[0m      method"
     ]
    }
   ],
   "source": [
    "?fake.date_between_dates\n",
    "\n",
    "fake.date_between_dates(date_start=datetime(2019, 1, 1), date_end=datetime.today())"
   ]
  },
  {
   "cell_type": "code",
   "execution_count": 182,
   "metadata": {},
   "outputs": [
    {
     "data": {
      "text/plain": [
       "datetime.date(1999, 4, 14)"
      ]
     },
     "execution_count": 182,
     "metadata": {},
     "output_type": "execute_result"
    }
   ],
   "source": [
    "fake.date_object()"
   ]
  },
  {
   "cell_type": "code",
   "execution_count": 195,
   "metadata": {},
   "outputs": [
    {
     "data": {
      "text/plain": [
       "datetime.date(1925, 11, 15)"
      ]
     },
     "execution_count": 195,
     "metadata": {},
     "output_type": "execute_result"
    }
   ],
   "source": [
    "fake.date_of_birth()"
   ]
  },
  {
   "cell_type": "code",
   "execution_count": 212,
   "metadata": {},
   "outputs": [
    {
     "data": {
      "text/plain": [
       "datetime.date(2021, 9, 28)"
      ]
     },
     "execution_count": 212,
     "metadata": {},
     "output_type": "execute_result"
    }
   ],
   "source": [
    "fake.date_this_century()"
   ]
  },
  {
   "cell_type": "code",
   "execution_count": 214,
   "metadata": {},
   "outputs": [
    {
     "data": {
      "text/plain": [
       "datetime.date(2022, 10, 2)"
      ]
     },
     "execution_count": 214,
     "metadata": {},
     "output_type": "execute_result"
    }
   ],
   "source": [
    "fake.date_this_decade()"
   ]
  },
  {
   "cell_type": "code",
   "execution_count": 215,
   "metadata": {},
   "outputs": [
    {
     "data": {
      "text/plain": [
       "datetime.date(2023, 2, 3)"
      ]
     },
     "execution_count": 215,
     "metadata": {},
     "output_type": "execute_result"
    }
   ],
   "source": [
    "fake.date_this_month()"
   ]
  },
  {
   "cell_type": "code",
   "execution_count": 216,
   "metadata": {},
   "outputs": [
    {
     "data": {
      "text/plain": [
       "datetime.date(2023, 1, 15)"
      ]
     },
     "execution_count": 216,
     "metadata": {},
     "output_type": "execute_result"
    }
   ],
   "source": [
    "fake.date_this_year()"
   ]
  },
  {
   "cell_type": "code",
   "execution_count": 217,
   "metadata": {},
   "outputs": [
    {
     "data": {
      "text/plain": [
       "datetime.datetime(1978, 7, 27, 8, 44, 19)"
      ]
     },
     "execution_count": 217,
     "metadata": {},
     "output_type": "execute_result"
    }
   ],
   "source": [
    "fake.date_time()"
   ]
  },
  {
   "cell_type": "code",
   "execution_count": 232,
   "metadata": {},
   "outputs": [
    {
     "data": {
      "text/plain": [
       "datetime.datetime(326, 12, 27, 11, 44, 19)"
      ]
     },
     "execution_count": 232,
     "metadata": {},
     "output_type": "execute_result"
    },
    {
     "name": "stdout",
     "output_type": "stream",
     "text": [
      "\u001b[0;31mSignature:\u001b[0m\n",
      "\u001b[0mfake\u001b[0m\u001b[0;34m.\u001b[0m\u001b[0mdate_time_ad\u001b[0m\u001b[0;34m(\u001b[0m\u001b[0;34m\u001b[0m\n",
      "\u001b[0;34m\u001b[0m    \u001b[0mtzinfo\u001b[0m\u001b[0;34m:\u001b[0m \u001b[0mUnion\u001b[0m\u001b[0;34m[\u001b[0m\u001b[0mdatetime\u001b[0m\u001b[0;34m.\u001b[0m\u001b[0mtzinfo\u001b[0m\u001b[0;34m,\u001b[0m \u001b[0mNoneType\u001b[0m\u001b[0;34m]\u001b[0m \u001b[0;34m=\u001b[0m \u001b[0;32mNone\u001b[0m\u001b[0;34m,\u001b[0m\u001b[0;34m\u001b[0m\n",
      "\u001b[0;34m\u001b[0m    \u001b[0mend_datetime\u001b[0m\u001b[0;34m:\u001b[0m \u001b[0mUnion\u001b[0m\u001b[0;34m[\u001b[0m\u001b[0mdatetime\u001b[0m\u001b[0;34m.\u001b[0m\u001b[0mdate\u001b[0m\u001b[0;34m,\u001b[0m \u001b[0mdatetime\u001b[0m\u001b[0;34m.\u001b[0m\u001b[0mdatetime\u001b[0m\u001b[0;34m,\u001b[0m \u001b[0mdatetime\u001b[0m\u001b[0;34m.\u001b[0m\u001b[0mtimedelta\u001b[0m\u001b[0;34m,\u001b[0m \u001b[0mstr\u001b[0m\u001b[0;34m,\u001b[0m \u001b[0mint\u001b[0m\u001b[0;34m,\u001b[0m \u001b[0mNoneType\u001b[0m\u001b[0;34m]\u001b[0m \u001b[0;34m=\u001b[0m \u001b[0;32mNone\u001b[0m\u001b[0;34m,\u001b[0m\u001b[0;34m\u001b[0m\n",
      "\u001b[0;34m\u001b[0m    \u001b[0mstart_datetime\u001b[0m\u001b[0;34m:\u001b[0m \u001b[0mUnion\u001b[0m\u001b[0;34m[\u001b[0m\u001b[0mdatetime\u001b[0m\u001b[0;34m.\u001b[0m\u001b[0mdate\u001b[0m\u001b[0;34m,\u001b[0m \u001b[0mdatetime\u001b[0m\u001b[0;34m.\u001b[0m\u001b[0mdatetime\u001b[0m\u001b[0;34m,\u001b[0m \u001b[0mdatetime\u001b[0m\u001b[0;34m.\u001b[0m\u001b[0mtimedelta\u001b[0m\u001b[0;34m,\u001b[0m \u001b[0mstr\u001b[0m\u001b[0;34m,\u001b[0m \u001b[0mint\u001b[0m\u001b[0;34m,\u001b[0m \u001b[0mNoneType\u001b[0m\u001b[0;34m]\u001b[0m \u001b[0;34m=\u001b[0m \u001b[0;32mNone\u001b[0m\u001b[0;34m,\u001b[0m\u001b[0;34m\u001b[0m\n",
      "\u001b[0;34m\u001b[0m\u001b[0;34m)\u001b[0m \u001b[0;34m->\u001b[0m \u001b[0mdatetime\u001b[0m\u001b[0;34m.\u001b[0m\u001b[0mdatetime\u001b[0m\u001b[0;34m\u001b[0m\u001b[0;34m\u001b[0m\u001b[0m\n",
      "\u001b[0;31mDocstring:\u001b[0m\n",
      "Get a datetime object for a date between January 1, 001 and now\n",
      ":param tzinfo: timezone, instance of datetime.tzinfo subclass\n",
      ":example: datetime('1265-03-22 21:15:52')\n",
      ":return: datetime\n",
      "\u001b[0;31mFile:\u001b[0m      ~/.local/share/virtualenvs/generador_datos_sinteticos-Nir3Ushe/lib/python3.8/site-packages/faker/providers/date_time/__init__.py\n",
      "\u001b[0;31mType:\u001b[0m      method"
     ]
    }
   ],
   "source": [
    "?fake.date_time_ad\n",
    "\n",
    "fake.date_time_ad()"
   ]
  },
  {
   "cell_type": "code",
   "execution_count": 223,
   "metadata": {},
   "outputs": [
    {
     "data": {
      "text/plain": [
       "datetime.datetime(2019, 12, 15, 20, 26, 56)"
      ]
     },
     "execution_count": 223,
     "metadata": {},
     "output_type": "execute_result"
    },
    {
     "name": "stdout",
     "output_type": "stream",
     "text": [
      "\u001b[0;31mSignature:\u001b[0m\n",
      "\u001b[0mfake\u001b[0m\u001b[0;34m.\u001b[0m\u001b[0mdate_time_between\u001b[0m\u001b[0;34m(\u001b[0m\u001b[0;34m\u001b[0m\n",
      "\u001b[0;34m\u001b[0m    \u001b[0mstart_date\u001b[0m\u001b[0;34m:\u001b[0m \u001b[0mUnion\u001b[0m\u001b[0;34m[\u001b[0m\u001b[0mdatetime\u001b[0m\u001b[0;34m.\u001b[0m\u001b[0mdate\u001b[0m\u001b[0;34m,\u001b[0m \u001b[0mdatetime\u001b[0m\u001b[0;34m.\u001b[0m\u001b[0mdatetime\u001b[0m\u001b[0;34m,\u001b[0m \u001b[0mdatetime\u001b[0m\u001b[0;34m.\u001b[0m\u001b[0mtimedelta\u001b[0m\u001b[0;34m,\u001b[0m \u001b[0mstr\u001b[0m\u001b[0;34m,\u001b[0m \u001b[0mint\u001b[0m\u001b[0;34m]\u001b[0m \u001b[0;34m=\u001b[0m \u001b[0;34m'-30y'\u001b[0m\u001b[0;34m,\u001b[0m\u001b[0;34m\u001b[0m\n",
      "\u001b[0;34m\u001b[0m    \u001b[0mend_date\u001b[0m\u001b[0;34m:\u001b[0m \u001b[0mUnion\u001b[0m\u001b[0;34m[\u001b[0m\u001b[0mdatetime\u001b[0m\u001b[0;34m.\u001b[0m\u001b[0mdate\u001b[0m\u001b[0;34m,\u001b[0m \u001b[0mdatetime\u001b[0m\u001b[0;34m.\u001b[0m\u001b[0mdatetime\u001b[0m\u001b[0;34m,\u001b[0m \u001b[0mdatetime\u001b[0m\u001b[0;34m.\u001b[0m\u001b[0mtimedelta\u001b[0m\u001b[0;34m,\u001b[0m \u001b[0mstr\u001b[0m\u001b[0;34m,\u001b[0m \u001b[0mint\u001b[0m\u001b[0;34m]\u001b[0m \u001b[0;34m=\u001b[0m \u001b[0;34m'now'\u001b[0m\u001b[0;34m,\u001b[0m\u001b[0;34m\u001b[0m\n",
      "\u001b[0;34m\u001b[0m    \u001b[0mtzinfo\u001b[0m\u001b[0;34m:\u001b[0m \u001b[0mUnion\u001b[0m\u001b[0;34m[\u001b[0m\u001b[0mdatetime\u001b[0m\u001b[0;34m.\u001b[0m\u001b[0mtzinfo\u001b[0m\u001b[0;34m,\u001b[0m \u001b[0mNoneType\u001b[0m\u001b[0;34m]\u001b[0m \u001b[0;34m=\u001b[0m \u001b[0;32mNone\u001b[0m\u001b[0;34m,\u001b[0m\u001b[0;34m\u001b[0m\n",
      "\u001b[0;34m\u001b[0m\u001b[0;34m)\u001b[0m \u001b[0;34m->\u001b[0m \u001b[0mdatetime\u001b[0m\u001b[0;34m.\u001b[0m\u001b[0mdatetime\u001b[0m\u001b[0;34m\u001b[0m\u001b[0;34m\u001b[0m\u001b[0m\n",
      "\u001b[0;31mDocstring:\u001b[0m\n",
      "Get a datetime object based on a random date between two given dates.\n",
      "Accepts date strings that can be recognized by strtotime().\n",
      "\n",
      ":param start_date: Defaults to 30 years ago\n",
      ":param end_date: Defaults to \"now\"\n",
      ":param tzinfo: timezone, instance of datetime.tzinfo subclass\n",
      ":example: datetime('1999-02-02 11:42:52')\n",
      ":return: datetime\n",
      "\u001b[0;31mFile:\u001b[0m      ~/.local/share/virtualenvs/generador_datos_sinteticos-Nir3Ushe/lib/python3.8/site-packages/faker/providers/date_time/__init__.py\n",
      "\u001b[0;31mType:\u001b[0m      method"
     ]
    }
   ],
   "source": [
    "?fake.date_time_between\n",
    "\n",
    "fake.date_time_between(start_date=datetime(2019, 1, 1), end_date=datetime.now())"
   ]
  },
  {
   "cell_type": "code",
   "execution_count": 233,
   "metadata": {},
   "outputs": [
    {
     "data": {
      "text/plain": [
       "datetime.datetime(2021, 6, 20, 19, 24, 12)"
      ]
     },
     "execution_count": 233,
     "metadata": {},
     "output_type": "execute_result"
    }
   ],
   "source": [
    "fake.date_time_between_dates(datetime_start=datetime(2019, 1, 1), datetime_end=datetime.now())"
   ]
  },
  {
   "cell_type": "code",
   "execution_count": 234,
   "metadata": {},
   "outputs": [
    {
     "data": {
      "text/plain": [
       "datetime.datetime(2017, 4, 14, 16, 56, 1)"
      ]
     },
     "execution_count": 234,
     "metadata": {},
     "output_type": "execute_result"
    }
   ],
   "source": [
    "fake.date_time_this_century()"
   ]
  },
  {
   "cell_type": "code",
   "execution_count": 235,
   "metadata": {},
   "outputs": [
    {
     "data": {
      "text/plain": [
       "datetime.datetime(2020, 1, 28, 5, 38, 55)"
      ]
     },
     "execution_count": 235,
     "metadata": {},
     "output_type": "execute_result"
    }
   ],
   "source": [
    "fake.date_time_this_decade()"
   ]
  },
  {
   "cell_type": "code",
   "execution_count": 236,
   "metadata": {},
   "outputs": [
    {
     "data": {
      "text/plain": [
       "datetime.datetime(2023, 2, 4, 14, 12, 7)"
      ]
     },
     "execution_count": 236,
     "metadata": {},
     "output_type": "execute_result"
    }
   ],
   "source": [
    "fake.date_time_this_month()"
   ]
  },
  {
   "cell_type": "code",
   "execution_count": 238,
   "metadata": {},
   "outputs": [
    {
     "data": {
      "text/plain": [
       "datetime.datetime(2023, 1, 22, 8, 41, 47)"
      ]
     },
     "execution_count": 238,
     "metadata": {},
     "output_type": "execute_result"
    }
   ],
   "source": [
    "fake.date_time_this_year()"
   ]
  },
  {
   "cell_type": "code",
   "execution_count": 263,
   "metadata": {},
   "outputs": [
    {
     "data": {
      "text/plain": [
       "'19'"
      ]
     },
     "execution_count": 263,
     "metadata": {},
     "output_type": "execute_result"
    }
   ],
   "source": [
    "fake.day_of_month()"
   ]
  },
  {
   "cell_type": "code",
   "execution_count": 265,
   "metadata": {},
   "outputs": [
    {
     "data": {
      "text/plain": [
       "'Thursday'"
      ]
     },
     "execution_count": 265,
     "metadata": {},
     "output_type": "execute_result"
    }
   ],
   "source": [
    "fake.day_of_week()"
   ]
  },
  {
   "cell_type": "code",
   "execution_count": 266,
   "metadata": {},
   "outputs": [
    {
     "ename": "NotImplementedError",
     "evalue": "Proxying calls to `del_arguments` is not implemented in multiple locale mode.",
     "output_type": "error",
     "traceback": [
      "\u001b[0;31m---------------------------------------------------------------------------\u001b[0m",
      "\u001b[0;31mNotImplementedError\u001b[0m                       Traceback (most recent call last)",
      "Cell \u001b[0;32mIn[266], line 1\u001b[0m\n\u001b[0;32m----> 1\u001b[0m fake\u001b[39m.\u001b[39;49mdel_arguments()\n",
      "File \u001b[0;32m~/.local/share/virtualenvs/generador_datos_sinteticos-Nir3Ushe/lib/python3.8/site-packages/faker/proxy.py:114\u001b[0m, in \u001b[0;36mFaker.__getattr__\u001b[0;34m(self, attr)\u001b[0m\n\u001b[1;32m    112\u001b[0m \u001b[39melif\u001b[39;00m attr \u001b[39min\u001b[39;00m \u001b[39mself\u001b[39m\u001b[39m.\u001b[39mgenerator_attrs:\n\u001b[1;32m    113\u001b[0m     msg \u001b[39m=\u001b[39m \u001b[39m\"\u001b[39m\u001b[39mProxying calls to `\u001b[39m\u001b[39m%s\u001b[39;00m\u001b[39m` is not implemented in multiple locale mode.\u001b[39m\u001b[39m\"\u001b[39m \u001b[39m%\u001b[39m attr\n\u001b[0;32m--> 114\u001b[0m     \u001b[39mraise\u001b[39;00m \u001b[39mNotImplementedError\u001b[39;00m(msg)\n\u001b[1;32m    115\u001b[0m \u001b[39melif\u001b[39;00m \u001b[39mself\u001b[39m\u001b[39m.\u001b[39mcache_pattern\u001b[39m.\u001b[39mmatch(attr):\n\u001b[1;32m    116\u001b[0m     msg \u001b[39m=\u001b[39m \u001b[39m\"\u001b[39m\u001b[39mCached attribute `\u001b[39m\u001b[39m%s\u001b[39;00m\u001b[39m` does not exist\u001b[39m\u001b[39m\"\u001b[39m \u001b[39m%\u001b[39m attr\n",
      "\u001b[0;31mNotImplementedError\u001b[0m: Proxying calls to `del_arguments` is not implemented in multiple locale mode."
     ]
    }
   ],
   "source": [
    "fake.del_arguments()"
   ]
  },
  {
   "cell_type": "code",
   "execution_count": 268,
   "metadata": {},
   "outputs": [
    {
     "data": {
      "text/plain": [
       "'utwobnpvllorpihwan.com'"
      ]
     },
     "execution_count": 268,
     "metadata": {},
     "output_type": "execute_result"
    }
   ],
   "source": [
    "fake.dga()"
   ]
  },
  {
   "cell_type": "code",
   "execution_count": 270,
   "metadata": {},
   "outputs": [
    {
     "data": {
      "text/plain": [
       "'21849095S'"
      ]
     },
     "execution_count": 270,
     "metadata": {},
     "output_type": "execute_result"
    }
   ],
   "source": [
    "fake.doi()"
   ]
  },
  {
   "cell_type": "code",
   "execution_count": 279,
   "metadata": {},
   "outputs": [
    {
     "data": {
      "text/plain": [
       "'lee.com'"
      ]
     },
     "execution_count": 279,
     "metadata": {},
     "output_type": "execute_result"
    }
   ],
   "source": [
    "fake.domain_name()"
   ]
  },
  {
   "cell_type": "code",
   "execution_count": 280,
   "metadata": {},
   "outputs": [
    {
     "data": {
      "text/plain": [
       "'hidalgo-ferrer'"
      ]
     },
     "execution_count": 280,
     "metadata": {},
     "output_type": "execute_result"
    }
   ],
   "source": [
    "fake.domain_word()"
   ]
  },
  {
   "cell_type": "code",
   "execution_count": 282,
   "metadata": {},
   "outputs": [
    {
     "name": "stdout",
     "output_type": "stream",
     "text": [
      "\"Cintia Gutierrez Ibarra\",\"Calle Hugo Lamas 19 Apt. 69 \n",
      "Teruel, 08990\"\n",
      "\"Blas Garrido-Comas\",\"Callejón de Fabricio Perales 1 Puerta 5 \n",
      "Pontevedra, 06500\"\n",
      "\"Nieves Teresa España Pedro\",\"C. María Pilar Pardo 258 Piso 4 \n",
      "Cáceres, 28945\"\n",
      "\"Mohamed Camps Calatayud\",\"Alameda Perla Lloret 19 Piso 8 \n",
      "Baleares, 48417\"\n",
      "\"Mario Escudero\",\"Ronda de Hernán Ortiz 39 Piso 0 \n",
      "Sevilla, 43783\"\n",
      "\"Anacleto Riba Cid\",\"Paseo Ricarda Enríquez 4 Apt. 82 \n",
      "Cantabria, 21519\"\n",
      "\"Tania Fabra Corominas\",\"Rambla de Carmina Llorens 10 Piso 1 \n",
      "Palencia, 11731\"\n",
      "\"Mónica Maricruz Segovia Ortiz\",\"Pasadizo Clementina Bustamante 45\n",
      "Badajoz, 13394\"\n",
      "\"Fermín Pol Farré\",\"Pasaje de Aureliano Palacios 65 Apt. 21 \n",
      "La Rioja, 01661\"\n",
      "\"Aurelia de Bernat\",\"Calle Galo Escamilla 584 Piso 0 \n",
      "Girona, 27724\"\n",
      "\n"
     ]
    }
   ],
   "source": [
    "print(fake.dsv())"
   ]
  },
  {
   "cell_type": "code",
   "execution_count": 283,
   "metadata": {},
   "outputs": [
    {
     "data": {
      "text/plain": [
       "'#b8bbfa'"
      ]
     },
     "execution_count": 283,
     "metadata": {},
     "output_type": "execute_result"
    }
   ],
   "source": [
    "fake.hex_color()"
   ]
  },
  {
   "cell_type": "code",
   "execution_count": 284,
   "metadata": {},
   "outputs": [
    {
     "data": {
      "text/plain": [
       "'5185077235892'"
      ]
     },
     "execution_count": 284,
     "metadata": {},
     "output_type": "execute_result"
    }
   ],
   "source": [
    "fake.ean13()"
   ]
  },
  {
   "cell_type": "code",
   "execution_count": 285,
   "metadata": {},
   "outputs": [
    {
     "data": {
      "text/plain": [
       "'16524453'"
      ]
     },
     "execution_count": 285,
     "metadata": {},
     "output_type": "execute_result"
    }
   ],
   "source": [
    "fake.ean8()"
   ]
  },
  {
   "cell_type": "code",
   "execution_count": 286,
   "metadata": {},
   "outputs": [
    {
     "data": {
      "text/plain": [
       "'22-1684938'"
      ]
     },
     "execution_count": 286,
     "metadata": {},
     "output_type": "execute_result"
    }
   ],
   "source": [
    "fake.ein()"
   ]
  },
  {
   "cell_type": "code",
   "execution_count": 298,
   "metadata": {},
   "outputs": [
    {
     "data": {
      "text/plain": [
       "'eugene66@example.org'"
      ]
     },
     "execution_count": 298,
     "metadata": {},
     "output_type": "execute_result"
    }
   ],
   "source": [
    "fake.email()"
   ]
  },
  {
   "cell_type": "code",
   "execution_count": 300,
   "metadata": {},
   "outputs": [
    {
     "name": "stdout",
     "output_type": "stream",
     "text": [
      "\u001b[0;31mSignature:\u001b[0m \u001b[0mfake\u001b[0m\u001b[0;34m.\u001b[0m\u001b[0menum\u001b[0m\u001b[0;34m(\u001b[0m\u001b[0menum_cls\u001b[0m\u001b[0;34m:\u001b[0m \u001b[0mType\u001b[0m\u001b[0;34m[\u001b[0m\u001b[0;34m~\u001b[0m\u001b[0mTEnum\u001b[0m\u001b[0;34m]\u001b[0m\u001b[0;34m)\u001b[0m \u001b[0;34m->\u001b[0m \u001b[0;34m~\u001b[0m\u001b[0mTEnum\u001b[0m\u001b[0;34m\u001b[0m\u001b[0;34m\u001b[0m\u001b[0m\n",
      "\u001b[0;31mDocstring:\u001b[0m\n",
      "Returns a random enum of the provided input `Enum` type.\n",
      "\n",
      ":param enum_cls: The `Enum` type to produce the value for.\n",
      ":returns: A randomly selected enum value.\n",
      "\u001b[0;31mFile:\u001b[0m      ~/.local/share/virtualenvs/generador_datos_sinteticos-Nir3Ushe/lib/python3.8/site-packages/faker/providers/python/__init__.py\n",
      "\u001b[0;31mType:\u001b[0m      method"
     ]
    }
   ],
   "source": [
    "?fake.enum"
   ]
  },
  {
   "cell_type": "code",
   "execution_count": 305,
   "metadata": {},
   "outputs": [
    {
     "ename": "AttributeError",
     "evalue": "'Generator' object has no attribute 'factories'",
     "output_type": "error",
     "traceback": [
      "\u001b[0;31m---------------------------------------------------------------------------\u001b[0m",
      "\u001b[0;31mAttributeError\u001b[0m                            Traceback (most recent call last)",
      "Cell \u001b[0;32mIn[305], line 1\u001b[0m\n\u001b[0;32m----> 1\u001b[0m fake\u001b[39m.\u001b[39;49mfactories[\u001b[39m0\u001b[39;49m]\u001b[39m.\u001b[39;49mfactories\n",
      "\u001b[0;31mAttributeError\u001b[0m: 'Generator' object has no attribute 'factories'"
     ]
    }
   ],
   "source": [
    "fake.factories[0]"
   ]
  },
  {
   "cell_type": "code",
   "execution_count": 322,
   "metadata": {},
   "outputs": [
    {
     "data": {
      "text/plain": [
       "'json'"
      ]
     },
     "execution_count": 322,
     "metadata": {},
     "output_type": "execute_result"
    }
   ],
   "source": [
    "fake.file_extension()"
   ]
  },
  {
   "cell_type": "code",
   "execution_count": 375,
   "metadata": {},
   "outputs": [
    {
     "data": {
      "text/plain": [
       "'omnis.csv'"
      ]
     },
     "execution_count": 375,
     "metadata": {},
     "output_type": "execute_result"
    },
    {
     "name": "stdout",
     "output_type": "stream",
     "text": [
      "\u001b[0;31mSignature:\u001b[0m\n",
      "\u001b[0mfake\u001b[0m\u001b[0;34m.\u001b[0m\u001b[0mfile_name\u001b[0m\u001b[0;34m(\u001b[0m\u001b[0;34m\u001b[0m\n",
      "\u001b[0;34m\u001b[0m    \u001b[0mcategory\u001b[0m\u001b[0;34m:\u001b[0m \u001b[0mUnion\u001b[0m\u001b[0;34m[\u001b[0m\u001b[0mstr\u001b[0m\u001b[0;34m,\u001b[0m \u001b[0mNoneType\u001b[0m\u001b[0;34m]\u001b[0m \u001b[0;34m=\u001b[0m \u001b[0;32mNone\u001b[0m\u001b[0;34m,\u001b[0m\u001b[0;34m\u001b[0m\n",
      "\u001b[0;34m\u001b[0m    \u001b[0mextension\u001b[0m\u001b[0;34m:\u001b[0m \u001b[0mUnion\u001b[0m\u001b[0;34m[\u001b[0m\u001b[0mstr\u001b[0m\u001b[0;34m,\u001b[0m \u001b[0mNoneType\u001b[0m\u001b[0;34m]\u001b[0m \u001b[0;34m=\u001b[0m \u001b[0;32mNone\u001b[0m\u001b[0;34m,\u001b[0m\u001b[0;34m\u001b[0m\n",
      "\u001b[0;34m\u001b[0m\u001b[0;34m)\u001b[0m \u001b[0;34m->\u001b[0m \u001b[0mstr\u001b[0m\u001b[0;34m\u001b[0m\u001b[0;34m\u001b[0m\u001b[0m\n",
      "\u001b[0;31mDocstring:\u001b[0m\n",
      "Generate a random file name with extension.\n",
      "\n",
      "If ``extension`` is ``None``, a random extension will be created under\n",
      "the hood using |file_extension| with the specified ``category``. If a\n",
      "value for ``extension`` is provided, the value will be used instead,\n",
      "and ``category`` will be ignored. The actual name part itself is\n",
      "generated using |word|.\n",
      "\n",
      ":sample: size=10\n",
      ":sample: category='audio'\n",
      ":sample: extension='abcdef'\n",
      ":sample: category='audio', extension='abcdef'\n",
      "\u001b[0;31mFile:\u001b[0m      ~/.local/share/virtualenvs/generador_datos_sinteticos-Nir3Ushe/lib/python3.8/site-packages/faker/providers/file/__init__.py\n",
      "\u001b[0;31mType:\u001b[0m      method"
     ]
    }
   ],
   "source": [
    "?fake.file_name\n",
    "fake.file_name(extension='csv')"
   ]
  },
  {
   "cell_type": "code",
   "execution_count": 373,
   "metadata": {},
   "outputs": [
    {
     "data": {
      "text/plain": [
       "'/between/structure/human/tax/pretty.csv'"
      ]
     },
     "execution_count": 373,
     "metadata": {},
     "output_type": "execute_result"
    },
    {
     "name": "stdout",
     "output_type": "stream",
     "text": [
      "\u001b[0;31mSignature:\u001b[0m\n",
      "\u001b[0mfake\u001b[0m\u001b[0;34m.\u001b[0m\u001b[0mfile_path\u001b[0m\u001b[0;34m(\u001b[0m\u001b[0;34m\u001b[0m\n",
      "\u001b[0;34m\u001b[0m    \u001b[0mdepth\u001b[0m\u001b[0;34m:\u001b[0m \u001b[0mint\u001b[0m \u001b[0;34m=\u001b[0m \u001b[0;36m1\u001b[0m\u001b[0;34m,\u001b[0m\u001b[0;34m\u001b[0m\n",
      "\u001b[0;34m\u001b[0m    \u001b[0mcategory\u001b[0m\u001b[0;34m:\u001b[0m \u001b[0mUnion\u001b[0m\u001b[0;34m[\u001b[0m\u001b[0mstr\u001b[0m\u001b[0;34m,\u001b[0m \u001b[0mNoneType\u001b[0m\u001b[0;34m]\u001b[0m \u001b[0;34m=\u001b[0m \u001b[0;32mNone\u001b[0m\u001b[0;34m,\u001b[0m\u001b[0;34m\u001b[0m\n",
      "\u001b[0;34m\u001b[0m    \u001b[0mextension\u001b[0m\u001b[0;34m:\u001b[0m \u001b[0mUnion\u001b[0m\u001b[0;34m[\u001b[0m\u001b[0mstr\u001b[0m\u001b[0;34m,\u001b[0m \u001b[0mNoneType\u001b[0m\u001b[0;34m]\u001b[0m \u001b[0;34m=\u001b[0m \u001b[0;32mNone\u001b[0m\u001b[0;34m,\u001b[0m\u001b[0;34m\u001b[0m\n",
      "\u001b[0;34m\u001b[0m    \u001b[0mabsolute\u001b[0m\u001b[0;34m:\u001b[0m \u001b[0mUnion\u001b[0m\u001b[0;34m[\u001b[0m\u001b[0mbool\u001b[0m\u001b[0;34m,\u001b[0m \u001b[0mNoneType\u001b[0m\u001b[0;34m]\u001b[0m \u001b[0;34m=\u001b[0m \u001b[0;32mTrue\u001b[0m\u001b[0;34m,\u001b[0m\u001b[0;34m\u001b[0m\n",
      "\u001b[0;34m\u001b[0m\u001b[0;34m)\u001b[0m \u001b[0;34m->\u001b[0m \u001b[0mstr\u001b[0m\u001b[0;34m\u001b[0m\u001b[0;34m\u001b[0m\u001b[0m\n",
      "\u001b[0;31mDocstring:\u001b[0m\n",
      "Generate an pathname to a file.\n",
      "\n",
      "This method uses |file_name| under the hood to generate the file name\n",
      "itself, and ``depth`` controls the depth of the directory path, and\n",
      "|word| is used under the hood to generate the different directory names.\n",
      "\n",
      "If ``absolute`` is ``True`` (default), the generated path starts with\n",
      "``/`` and is absolute. Otherwise, the generated path is relative.\n",
      "\n",
      ":sample: size=10\n",
      ":sample: depth=3\n",
      ":sample: depth=5, category='video'\n",
      ":sample: depth=5, category='video', extension='abcdef'\n",
      "\u001b[0;31mFile:\u001b[0m      ~/.local/share/virtualenvs/generador_datos_sinteticos-Nir3Ushe/lib/python3.8/site-packages/faker/providers/file/__init__.py\n",
      "\u001b[0;31mType:\u001b[0m      method"
     ]
    }
   ],
   "source": [
    "?fake.file_path\n",
    "\n",
    "fake.file_path(depth=4, absolute=True, extension='csv')"
   ]
  },
  {
   "cell_type": "code",
   "execution_count": 377,
   "metadata": {},
   "outputs": [
    {
     "data": {
      "text/plain": [
       "'Mozilla/5.0 (X11; Linux i686; rv:1.9.7.20) Gecko/3889-04-10 00:06:44 Firefox/11.0'"
      ]
     },
     "execution_count": 377,
     "metadata": {},
     "output_type": "execute_result"
    },
    {
     "name": "stdout",
     "output_type": "stream",
     "text": [
      "\u001b[0;31mSignature:\u001b[0m \u001b[0mfake\u001b[0m\u001b[0;34m.\u001b[0m\u001b[0mfirefox\u001b[0m\u001b[0;34m(\u001b[0m\u001b[0;34m)\u001b[0m \u001b[0;34m->\u001b[0m \u001b[0mstr\u001b[0m\u001b[0;34m\u001b[0m\u001b[0;34m\u001b[0m\u001b[0m\n",
      "\u001b[0;31mDocstring:\u001b[0m Generate a Mozilla Firefox web browser user agent string.\n",
      "\u001b[0;31mFile:\u001b[0m      ~/.local/share/virtualenvs/generador_datos_sinteticos-Nir3Ushe/lib/python3.8/site-packages/faker/providers/user_agent/__init__.py\n",
      "\u001b[0;31mType:\u001b[0m      method"
     ]
    }
   ],
   "source": [
    "?fake.firefox\n",
    "fake.firefox()"
   ]
  },
  {
   "cell_type": "code",
   "execution_count": 379,
   "metadata": {},
   "outputs": [
    {
     "data": {
      "text/plain": [
       "'Victoria'"
      ]
     },
     "execution_count": 379,
     "metadata": {},
     "output_type": "execute_result"
    },
    {
     "name": "stdout",
     "output_type": "stream",
     "text": [
      "\u001b[0;31mSignature:\u001b[0m \u001b[0mfake\u001b[0m\u001b[0;34m.\u001b[0m\u001b[0mfirst_name\u001b[0m\u001b[0;34m(\u001b[0m\u001b[0;34m)\u001b[0m \u001b[0;34m->\u001b[0m \u001b[0mstr\u001b[0m\u001b[0;34m\u001b[0m\u001b[0;34m\u001b[0m\u001b[0m\n",
      "\u001b[0;31mDocstring:\u001b[0m <no docstring>\n",
      "\u001b[0;31mFile:\u001b[0m      ~/.local/share/virtualenvs/generador_datos_sinteticos-Nir3Ushe/lib/python3.8/site-packages/faker/providers/person/__init__.py\n",
      "\u001b[0;31mType:\u001b[0m      method"
     ]
    }
   ],
   "source": [
    "?fake.first_name\n",
    "\n",
    "fake.first_name()"
   ]
  },
  {
   "cell_type": "code",
   "execution_count": 381,
   "metadata": {},
   "outputs": [
    {
     "data": {
      "text/plain": [
       "'Misty'"
      ]
     },
     "execution_count": 381,
     "metadata": {},
     "output_type": "execute_result"
    }
   ],
   "source": [
    "fake.first_name_female()"
   ]
  },
  {
   "cell_type": "code",
   "execution_count": 382,
   "metadata": {},
   "outputs": [
    {
     "data": {
      "text/plain": [
       "'Guiomar'"
      ]
     },
     "execution_count": 382,
     "metadata": {},
     "output_type": "execute_result"
    }
   ],
   "source": [
    "fake.first_name_male()"
   ]
  },
  {
   "cell_type": "code",
   "execution_count": 383,
   "metadata": {},
   "outputs": [
    {
     "data": {
      "text/plain": [
       "'Kevin'"
      ]
     },
     "execution_count": 383,
     "metadata": {},
     "output_type": "execute_result"
    }
   ],
   "source": [
    "fake.first_name_nonbinary()"
   ]
  },
  {
   "cell_type": "code",
   "execution_count": 385,
   "metadata": {},
   "outputs": [
    {
     "name": "stdout",
     "output_type": "stream",
     "text": [
      "Gracia Esther Porcel17 \n",
      "Baltasar Mendez Pera6  \n",
      "Claudio Posada Cuadr0  \n",
      "Rosario Iñiguez Vice18 \n",
      "Rafael Villa Corbach17 \n",
      "Ildefonso Escudero-B1  \n",
      "Onofre Montaña      15 \n",
      "Sonia Costa Grau    11 \n",
      "Flavia Orozco Muro  9  \n",
      "Agustín Prats Barba 12 \n"
     ]
    }
   ],
   "source": [
    "print(fake.fixed_width())"
   ]
  },
  {
   "cell_type": "code",
   "execution_count": 386,
   "metadata": {},
   "outputs": [
    {
     "ename": "NotImplementedError",
     "evalue": "Proxying calls to `format` is not implemented in multiple locale mode.",
     "output_type": "error",
     "traceback": [
      "\u001b[0;31m---------------------------------------------------------------------------\u001b[0m",
      "\u001b[0;31mNotImplementedError\u001b[0m                       Traceback (most recent call last)",
      "Cell \u001b[0;32mIn[386], line 1\u001b[0m\n\u001b[0;32m----> 1\u001b[0m fake\u001b[39m.\u001b[39;49mformat()\n",
      "File \u001b[0;32m~/.local/share/virtualenvs/generador_datos_sinteticos-Nir3Ushe/lib/python3.8/site-packages/faker/proxy.py:114\u001b[0m, in \u001b[0;36mFaker.__getattr__\u001b[0;34m(self, attr)\u001b[0m\n\u001b[1;32m    112\u001b[0m \u001b[39melif\u001b[39;00m attr \u001b[39min\u001b[39;00m \u001b[39mself\u001b[39m\u001b[39m.\u001b[39mgenerator_attrs:\n\u001b[1;32m    113\u001b[0m     msg \u001b[39m=\u001b[39m \u001b[39m\"\u001b[39m\u001b[39mProxying calls to `\u001b[39m\u001b[39m%s\u001b[39;00m\u001b[39m` is not implemented in multiple locale mode.\u001b[39m\u001b[39m\"\u001b[39m \u001b[39m%\u001b[39m attr\n\u001b[0;32m--> 114\u001b[0m     \u001b[39mraise\u001b[39;00m \u001b[39mNotImplementedError\u001b[39;00m(msg)\n\u001b[1;32m    115\u001b[0m \u001b[39melif\u001b[39;00m \u001b[39mself\u001b[39m\u001b[39m.\u001b[39mcache_pattern\u001b[39m.\u001b[39mmatch(attr):\n\u001b[1;32m    116\u001b[0m     msg \u001b[39m=\u001b[39m \u001b[39m\"\u001b[39m\u001b[39mCached attribute `\u001b[39m\u001b[39m%s\u001b[39;00m\u001b[39m` does not exist\u001b[39m\u001b[39m\"\u001b[39m \u001b[39m%\u001b[39m attr\n",
      "\u001b[0;31mNotImplementedError\u001b[0m: Proxying calls to `format` is not implemented in multiple locale mode."
     ]
    }
   ],
   "source": [
    "fake.format()"
   ]
  },
  {
   "cell_type": "code",
   "execution_count": 388,
   "metadata": {},
   "outputs": [
    {
     "data": {
      "text/plain": [
       "'henry44@yahoo.com'"
      ]
     },
     "execution_count": 388,
     "metadata": {},
     "output_type": "execute_result"
    },
    {
     "name": "stdout",
     "output_type": "stream",
     "text": [
      "\u001b[0;31mSignature:\u001b[0m \u001b[0mfake\u001b[0m\u001b[0;34m.\u001b[0m\u001b[0mfree_email\u001b[0m\u001b[0;34m(\u001b[0m\u001b[0;34m)\u001b[0m \u001b[0;34m->\u001b[0m \u001b[0mstr\u001b[0m\u001b[0;34m\u001b[0m\u001b[0;34m\u001b[0m\u001b[0m\n",
      "\u001b[0;31mDocstring:\u001b[0m <no docstring>\n",
      "\u001b[0;31mFile:\u001b[0m      ~/.local/share/virtualenvs/generador_datos_sinteticos-Nir3Ushe/lib/python3.8/site-packages/faker/providers/internet/__init__.py\n",
      "\u001b[0;31mType:\u001b[0m      method"
     ]
    }
   ],
   "source": [
    "?fake.free_email\n",
    "\n",
    "fake.free_email()"
   ]
  },
  {
   "cell_type": "code",
   "execution_count": 389,
   "metadata": {},
   "outputs": [
    {
     "data": {
      "text/plain": [
       "'hotmail.com'"
      ]
     },
     "execution_count": 389,
     "metadata": {},
     "output_type": "execute_result"
    }
   ],
   "source": [
    "fake.free_email_domain()"
   ]
  },
  {
   "cell_type": "code",
   "execution_count": 396,
   "metadata": {},
   "outputs": [
    {
     "data": {
      "text/plain": [
       "datetime.date(2023, 5, 3)"
      ]
     },
     "execution_count": 396,
     "metadata": {},
     "output_type": "execute_result"
    },
    {
     "name": "stdout",
     "output_type": "stream",
     "text": [
      "\u001b[0;31mSignature:\u001b[0m\n",
      "\u001b[0mfake\u001b[0m\u001b[0;34m.\u001b[0m\u001b[0mfuture_date\u001b[0m\u001b[0;34m(\u001b[0m\u001b[0;34m\u001b[0m\n",
      "\u001b[0;34m\u001b[0m    \u001b[0mend_date\u001b[0m\u001b[0;34m:\u001b[0m \u001b[0mUnion\u001b[0m\u001b[0;34m[\u001b[0m\u001b[0mdatetime\u001b[0m\u001b[0;34m.\u001b[0m\u001b[0mdate\u001b[0m\u001b[0;34m,\u001b[0m \u001b[0mdatetime\u001b[0m\u001b[0;34m.\u001b[0m\u001b[0mdatetime\u001b[0m\u001b[0;34m,\u001b[0m \u001b[0mdatetime\u001b[0m\u001b[0;34m.\u001b[0m\u001b[0mtimedelta\u001b[0m\u001b[0;34m,\u001b[0m \u001b[0mstr\u001b[0m\u001b[0;34m,\u001b[0m \u001b[0mint\u001b[0m\u001b[0;34m]\u001b[0m \u001b[0;34m=\u001b[0m \u001b[0;34m'+30d'\u001b[0m\u001b[0;34m,\u001b[0m\u001b[0;34m\u001b[0m\n",
      "\u001b[0;34m\u001b[0m    \u001b[0mtzinfo\u001b[0m\u001b[0;34m:\u001b[0m \u001b[0mUnion\u001b[0m\u001b[0;34m[\u001b[0m\u001b[0mdatetime\u001b[0m\u001b[0;34m.\u001b[0m\u001b[0mtzinfo\u001b[0m\u001b[0;34m,\u001b[0m \u001b[0mNoneType\u001b[0m\u001b[0;34m]\u001b[0m \u001b[0;34m=\u001b[0m \u001b[0;32mNone\u001b[0m\u001b[0;34m,\u001b[0m\u001b[0;34m\u001b[0m\n",
      "\u001b[0;34m\u001b[0m\u001b[0;34m)\u001b[0m \u001b[0;34m->\u001b[0m \u001b[0mdatetime\u001b[0m\u001b[0;34m.\u001b[0m\u001b[0mdate\u001b[0m\u001b[0;34m\u001b[0m\u001b[0;34m\u001b[0m\u001b[0m\n",
      "\u001b[0;31mDocstring:\u001b[0m\n",
      "Get a Date object based on a random date between 1 day from now and a\n",
      "given date.\n",
      "Accepts date strings that can be recognized by strtotime().\n",
      "\n",
      ":param end_date: Defaults to \"+30d\"\n",
      ":param tzinfo: timezone, instance of datetime.tzinfo subclass\n",
      ":example: dtdate('2030-01-01')\n",
      ":return: dtdate\n",
      "\u001b[0;31mFile:\u001b[0m      ~/.local/share/virtualenvs/generador_datos_sinteticos-Nir3Ushe/lib/python3.8/site-packages/faker/providers/date_time/__init__.py\n",
      "\u001b[0;31mType:\u001b[0m      method"
     ]
    }
   ],
   "source": [
    "from datetime import timedelta\n",
    "?fake.future_date\n",
    "\n",
    "fake.future_date(end_date=timedelta(days=365))"
   ]
  },
  {
   "cell_type": "code",
   "execution_count": 398,
   "metadata": {},
   "outputs": [
    {
     "data": {
      "text/plain": [
       "datetime.datetime(2023, 4, 22, 5, 7, 56)"
      ]
     },
     "execution_count": 398,
     "metadata": {},
     "output_type": "execute_result"
    },
    {
     "name": "stdout",
     "output_type": "stream",
     "text": [
      "\u001b[0;31mSignature:\u001b[0m\n",
      "\u001b[0mfake\u001b[0m\u001b[0;34m.\u001b[0m\u001b[0mfuture_datetime\u001b[0m\u001b[0;34m(\u001b[0m\u001b[0;34m\u001b[0m\n",
      "\u001b[0;34m\u001b[0m    \u001b[0mend_date\u001b[0m\u001b[0;34m:\u001b[0m \u001b[0mUnion\u001b[0m\u001b[0;34m[\u001b[0m\u001b[0mdatetime\u001b[0m\u001b[0;34m.\u001b[0m\u001b[0mdate\u001b[0m\u001b[0;34m,\u001b[0m \u001b[0mdatetime\u001b[0m\u001b[0;34m.\u001b[0m\u001b[0mdatetime\u001b[0m\u001b[0;34m,\u001b[0m \u001b[0mdatetime\u001b[0m\u001b[0;34m.\u001b[0m\u001b[0mtimedelta\u001b[0m\u001b[0;34m,\u001b[0m \u001b[0mstr\u001b[0m\u001b[0;34m,\u001b[0m \u001b[0mint\u001b[0m\u001b[0;34m]\u001b[0m \u001b[0;34m=\u001b[0m \u001b[0;34m'+30d'\u001b[0m\u001b[0;34m,\u001b[0m\u001b[0;34m\u001b[0m\n",
      "\u001b[0;34m\u001b[0m    \u001b[0mtzinfo\u001b[0m\u001b[0;34m:\u001b[0m \u001b[0mUnion\u001b[0m\u001b[0;34m[\u001b[0m\u001b[0mdatetime\u001b[0m\u001b[0;34m.\u001b[0m\u001b[0mtzinfo\u001b[0m\u001b[0;34m,\u001b[0m \u001b[0mNoneType\u001b[0m\u001b[0;34m]\u001b[0m \u001b[0;34m=\u001b[0m \u001b[0;32mNone\u001b[0m\u001b[0;34m,\u001b[0m\u001b[0;34m\u001b[0m\n",
      "\u001b[0;34m\u001b[0m\u001b[0;34m)\u001b[0m \u001b[0;34m->\u001b[0m \u001b[0mdatetime\u001b[0m\u001b[0;34m.\u001b[0m\u001b[0mdatetime\u001b[0m\u001b[0;34m\u001b[0m\u001b[0;34m\u001b[0m\u001b[0m\n",
      "\u001b[0;31mDocstring:\u001b[0m\n",
      "Get a datetime object based on a random date between 1 second form now\n",
      "and a given date.\n",
      "Accepts date strings that can be recognized by strtotime().\n",
      "\n",
      ":param end_date: Defaults to \"+30d\"\n",
      ":param tzinfo: timezone, instance of datetime.tzinfo subclass\n",
      ":example: datetime('1999-02-02 11:42:52')\n",
      ":return: datetime\n",
      "\u001b[0;31mFile:\u001b[0m      ~/.local/share/virtualenvs/generador_datos_sinteticos-Nir3Ushe/lib/python3.8/site-packages/faker/providers/date_time/__init__.py\n",
      "\u001b[0;31mType:\u001b[0m      method"
     ]
    }
   ],
   "source": [
    "?fake.future_datetime\n",
    "\n",
    "fake.future_datetime(end_date=timedelta(days=365))"
   ]
  },
  {
   "cell_type": "code",
   "execution_count": 402,
   "metadata": {},
   "outputs": [
    {
     "ename": "TypeError",
     "evalue": "'list' object is not callable",
     "output_type": "error",
     "traceback": [
      "\u001b[0;31m---------------------------------------------------------------------------\u001b[0m",
      "\u001b[0;31mTypeError\u001b[0m                                 Traceback (most recent call last)",
      "Cell \u001b[0;32mIn[402], line 3\u001b[0m\n\u001b[1;32m      1\u001b[0m get_ipython()\u001b[39m.\u001b[39mrun_line_magic(\u001b[39m'\u001b[39m\u001b[39mpinfo\u001b[39m\u001b[39m'\u001b[39m, \u001b[39m'\u001b[39m\u001b[39mfake.generator_attrs\u001b[39m\u001b[39m'\u001b[39m)\n\u001b[0;32m----> 3\u001b[0m fake\u001b[39m.\u001b[39;49mgenerator_attrs([\u001b[39m\"\u001b[39;49m\u001b[39memail\u001b[39;49m\u001b[39m\"\u001b[39;49m, \u001b[39m\"\u001b[39;49m\u001b[39mdomain_name\u001b[39;49m\u001b[39m\"\u001b[39;49m])\n",
      "\u001b[0;31mTypeError\u001b[0m: 'list' object is not callable"
     ]
    },
    {
     "name": "stdout",
     "output_type": "stream",
     "text": [
      "\u001b[0;31mType:\u001b[0m        list\n",
      "\u001b[0;31mString form:\u001b[0m ['_Generator__config', '_Generator__format_token', '_global_seed', '_is_seeded', 'add_provider',  <...> uments', 'get_formatter', 'get_providers', 'parse', 'provider', 'set_arguments', 'set_formatter']\n",
      "\u001b[0;31mLength:\u001b[0m      14\n",
      "\u001b[0;31mDocstring:\u001b[0m  \n",
      "Built-in mutable sequence.\n",
      "\n",
      "If no argument is given, the constructor creates a new empty list.\n",
      "The argument must be an iterable if specified."
     ]
    }
   ],
   "source": [
    "?fake.generator_attrs\n",
    "\n",
    "fake.generator_attrs([\"email\", \"domain_name\"])"
   ]
  },
  {
   "cell_type": "code",
   "execution_count": 403,
   "metadata": {},
   "outputs": [
    {
     "ename": "NotImplementedError",
     "evalue": "Proxying calls to `get_arguments` is not implemented in multiple locale mode.",
     "output_type": "error",
     "traceback": [
      "\u001b[0;31m---------------------------------------------------------------------------\u001b[0m",
      "\u001b[0;31mNotImplementedError\u001b[0m                       Traceback (most recent call last)",
      "Cell \u001b[0;32mIn[403], line 1\u001b[0m\n\u001b[0;32m----> 1\u001b[0m fake\u001b[39m.\u001b[39;49mget_arguments()\n",
      "File \u001b[0;32m~/.local/share/virtualenvs/generador_datos_sinteticos-Nir3Ushe/lib/python3.8/site-packages/faker/proxy.py:114\u001b[0m, in \u001b[0;36mFaker.__getattr__\u001b[0;34m(self, attr)\u001b[0m\n\u001b[1;32m    112\u001b[0m \u001b[39melif\u001b[39;00m attr \u001b[39min\u001b[39;00m \u001b[39mself\u001b[39m\u001b[39m.\u001b[39mgenerator_attrs:\n\u001b[1;32m    113\u001b[0m     msg \u001b[39m=\u001b[39m \u001b[39m\"\u001b[39m\u001b[39mProxying calls to `\u001b[39m\u001b[39m%s\u001b[39;00m\u001b[39m` is not implemented in multiple locale mode.\u001b[39m\u001b[39m\"\u001b[39m \u001b[39m%\u001b[39m attr\n\u001b[0;32m--> 114\u001b[0m     \u001b[39mraise\u001b[39;00m \u001b[39mNotImplementedError\u001b[39;00m(msg)\n\u001b[1;32m    115\u001b[0m \u001b[39melif\u001b[39;00m \u001b[39mself\u001b[39m\u001b[39m.\u001b[39mcache_pattern\u001b[39m.\u001b[39mmatch(attr):\n\u001b[1;32m    116\u001b[0m     msg \u001b[39m=\u001b[39m \u001b[39m\"\u001b[39m\u001b[39mCached attribute `\u001b[39m\u001b[39m%s\u001b[39;00m\u001b[39m` does not exist\u001b[39m\u001b[39m\"\u001b[39m \u001b[39m%\u001b[39m attr\n",
      "\u001b[0;31mNotImplementedError\u001b[0m: Proxying calls to `get_arguments` is not implemented in multiple locale mode."
     ]
    }
   ],
   "source": [
    "fake.get_arguments()"
   ]
  },
  {
   "cell_type": "code",
   "execution_count": 404,
   "metadata": {},
   "outputs": [
    {
     "ename": "NotImplementedError",
     "evalue": "Proxying calls to `get_formatter` is not implemented in multiple locale mode.",
     "output_type": "error",
     "traceback": [
      "\u001b[0;31m---------------------------------------------------------------------------\u001b[0m",
      "\u001b[0;31mNotImplementedError\u001b[0m                       Traceback (most recent call last)",
      "Cell \u001b[0;32mIn[404], line 1\u001b[0m\n\u001b[0;32m----> 1\u001b[0m fake\u001b[39m.\u001b[39;49mget_formatter()\n",
      "File \u001b[0;32m~/.local/share/virtualenvs/generador_datos_sinteticos-Nir3Ushe/lib/python3.8/site-packages/faker/proxy.py:114\u001b[0m, in \u001b[0;36mFaker.__getattr__\u001b[0;34m(self, attr)\u001b[0m\n\u001b[1;32m    112\u001b[0m \u001b[39melif\u001b[39;00m attr \u001b[39min\u001b[39;00m \u001b[39mself\u001b[39m\u001b[39m.\u001b[39mgenerator_attrs:\n\u001b[1;32m    113\u001b[0m     msg \u001b[39m=\u001b[39m \u001b[39m\"\u001b[39m\u001b[39mProxying calls to `\u001b[39m\u001b[39m%s\u001b[39;00m\u001b[39m` is not implemented in multiple locale mode.\u001b[39m\u001b[39m\"\u001b[39m \u001b[39m%\u001b[39m attr\n\u001b[0;32m--> 114\u001b[0m     \u001b[39mraise\u001b[39;00m \u001b[39mNotImplementedError\u001b[39;00m(msg)\n\u001b[1;32m    115\u001b[0m \u001b[39melif\u001b[39;00m \u001b[39mself\u001b[39m\u001b[39m.\u001b[39mcache_pattern\u001b[39m.\u001b[39mmatch(attr):\n\u001b[1;32m    116\u001b[0m     msg \u001b[39m=\u001b[39m \u001b[39m\"\u001b[39m\u001b[39mCached attribute `\u001b[39m\u001b[39m%s\u001b[39;00m\u001b[39m` does not exist\u001b[39m\u001b[39m\"\u001b[39m \u001b[39m%\u001b[39m attr\n",
      "\u001b[0;31mNotImplementedError\u001b[0m: Proxying calls to `get_formatter` is not implemented in multiple locale mode."
     ]
    }
   ],
   "source": [
    "fake.get_formatter()"
   ]
  },
  {
   "cell_type": "code",
   "execution_count": 405,
   "metadata": {},
   "outputs": [
    {
     "ename": "NotImplementedError",
     "evalue": "Proxying calls to `get_providers` is not implemented in multiple locale mode.",
     "output_type": "error",
     "traceback": [
      "\u001b[0;31m---------------------------------------------------------------------------\u001b[0m",
      "\u001b[0;31mNotImplementedError\u001b[0m                       Traceback (most recent call last)",
      "Cell \u001b[0;32mIn[405], line 1\u001b[0m\n\u001b[0;32m----> 1\u001b[0m fake\u001b[39m.\u001b[39;49mget_providers()\n",
      "File \u001b[0;32m~/.local/share/virtualenvs/generador_datos_sinteticos-Nir3Ushe/lib/python3.8/site-packages/faker/proxy.py:114\u001b[0m, in \u001b[0;36mFaker.__getattr__\u001b[0;34m(self, attr)\u001b[0m\n\u001b[1;32m    112\u001b[0m \u001b[39melif\u001b[39;00m attr \u001b[39min\u001b[39;00m \u001b[39mself\u001b[39m\u001b[39m.\u001b[39mgenerator_attrs:\n\u001b[1;32m    113\u001b[0m     msg \u001b[39m=\u001b[39m \u001b[39m\"\u001b[39m\u001b[39mProxying calls to `\u001b[39m\u001b[39m%s\u001b[39;00m\u001b[39m` is not implemented in multiple locale mode.\u001b[39m\u001b[39m\"\u001b[39m \u001b[39m%\u001b[39m attr\n\u001b[0;32m--> 114\u001b[0m     \u001b[39mraise\u001b[39;00m \u001b[39mNotImplementedError\u001b[39;00m(msg)\n\u001b[1;32m    115\u001b[0m \u001b[39melif\u001b[39;00m \u001b[39mself\u001b[39m\u001b[39m.\u001b[39mcache_pattern\u001b[39m.\u001b[39mmatch(attr):\n\u001b[1;32m    116\u001b[0m     msg \u001b[39m=\u001b[39m \u001b[39m\"\u001b[39m\u001b[39mCached attribute `\u001b[39m\u001b[39m%s\u001b[39;00m\u001b[39m` does not exist\u001b[39m\u001b[39m\"\u001b[39m \u001b[39m%\u001b[39m attr\n",
      "\u001b[0;31mNotImplementedError\u001b[0m: Proxying calls to `get_providers` is not implemented in multiple locale mode."
     ]
    }
   ],
   "source": [
    "fake.get_providers()"
   ]
  },
  {
   "cell_type": "code",
   "execution_count": 410,
   "metadata": {},
   "outputs": [
    {
     "data": {
      "text/plain": [
       "'Tahitiano'"
      ]
     },
     "execution_count": 410,
     "metadata": {},
     "output_type": "execute_result"
    },
    {
     "name": "stdout",
     "output_type": "stream",
     "text": [
      "\u001b[0;31mSignature:\u001b[0m \u001b[0mfake\u001b[0m\u001b[0;34m.\u001b[0m\u001b[0mlanguage_name\u001b[0m\u001b[0;34m(\u001b[0m\u001b[0;34m)\u001b[0m \u001b[0;34m->\u001b[0m \u001b[0mstr\u001b[0m\u001b[0;34m\u001b[0m\u001b[0;34m\u001b[0m\u001b[0m\n",
      "\u001b[0;31mDocstring:\u001b[0m Generate a random i18n language name (e.g. English).\n",
      "\u001b[0;31mFile:\u001b[0m      ~/.local/share/virtualenvs/generador_datos_sinteticos-Nir3Ushe/lib/python3.8/site-packages/faker/providers/person/__init__.py\n",
      "\u001b[0;31mType:\u001b[0m      method"
     ]
    }
   ],
   "source": [
    "?fake.language_name\n",
    "\n",
    "fake.language_name()"
   ]
  },
  {
   "cell_type": "code",
   "execution_count": 412,
   "metadata": {},
   "outputs": [
    {
     "data": {
      "text/plain": [
       "'5785'"
      ]
     },
     "execution_count": 412,
     "metadata": {},
     "output_type": "execute_result"
    },
    {
     "name": "stdout",
     "output_type": "stream",
     "text": [
      "\u001b[0;31mSignature:\u001b[0m \u001b[0mfake\u001b[0m\u001b[0;34m.\u001b[0m\u001b[0mhexify\u001b[0m\u001b[0;34m(\u001b[0m\u001b[0mtext\u001b[0m\u001b[0;34m:\u001b[0m \u001b[0mstr\u001b[0m \u001b[0;34m=\u001b[0m \u001b[0;34m'^^^^'\u001b[0m\u001b[0;34m,\u001b[0m \u001b[0mupper\u001b[0m\u001b[0;34m:\u001b[0m \u001b[0mbool\u001b[0m \u001b[0;34m=\u001b[0m \u001b[0;32mFalse\u001b[0m\u001b[0;34m)\u001b[0m \u001b[0;34m->\u001b[0m \u001b[0mstr\u001b[0m\u001b[0;34m\u001b[0m\u001b[0;34m\u001b[0m\u001b[0m\n",
      "\u001b[0;31mDocstring:\u001b[0m\n",
      "Generate a string with each circumflex ('^') in ``text``\n",
      "replaced with a random hexadecimal character.\n",
      "\n",
      "By default, ``upper`` is set to False. If set to ``True``, output\n",
      "will be formatted using uppercase hexadecimal characters.\n",
      "\n",
      ":sample: text='MAC Address: ^^:^^:^^:^^:^^:^^'\n",
      ":sample: text='MAC Address: ^^:^^:^^:^^:^^:^^', upper=True\n",
      "\u001b[0;31mFile:\u001b[0m      ~/.local/share/virtualenvs/generador_datos_sinteticos-Nir3Ushe/lib/python3.8/site-packages/faker/providers/__init__.py\n",
      "\u001b[0;31mType:\u001b[0m      method"
     ]
    }
   ],
   "source": [
    "?fake.hexify\n",
    "\n",
    "fake.hexify()"
   ]
  },
  {
   "cell_type": "code",
   "execution_count": 415,
   "metadata": {},
   "outputs": [
    {
     "data": {
      "text/plain": [
       "'laptop-42.rozas-pino.alcaraz.morante-antunez.com'"
      ]
     },
     "execution_count": 415,
     "metadata": {},
     "output_type": "execute_result"
    },
    {
     "name": "stdout",
     "output_type": "stream",
     "text": [
      "\u001b[0;31mSignature:\u001b[0m \u001b[0mfake\u001b[0m\u001b[0;34m.\u001b[0m\u001b[0mhostname\u001b[0m\u001b[0;34m(\u001b[0m\u001b[0mlevels\u001b[0m\u001b[0;34m:\u001b[0m \u001b[0mint\u001b[0m \u001b[0;34m=\u001b[0m \u001b[0;36m1\u001b[0m\u001b[0;34m)\u001b[0m \u001b[0;34m->\u001b[0m \u001b[0mstr\u001b[0m\u001b[0;34m\u001b[0m\u001b[0;34m\u001b[0m\u001b[0m\n",
      "\u001b[0;31mDocstring:\u001b[0m\n",
      "Produce a hostname with specified number of subdomain levels.\n",
      "\n",
      ">>> hostname()\n",
      "db-01.nichols-phillips.com\n",
      ">>> hostname(0)\n",
      "laptop-56\n",
      ">>> hostname(2)\n",
      "web-12.williamson-hopkins.jackson.com\n",
      "\u001b[0;31mFile:\u001b[0m      ~/.local/share/virtualenvs/generador_datos_sinteticos-Nir3Ushe/lib/python3.8/site-packages/faker/providers/internet/__init__.py\n",
      "\u001b[0;31mType:\u001b[0m      method"
     ]
    }
   ],
   "source": [
    "?fake.hostname\n",
    "\n",
    "fake.hostname(levels=3)"
   ]
  },
  {
   "cell_type": "code",
   "execution_count": 440,
   "metadata": {},
   "outputs": [
    {
     "data": {
      "text/plain": [
       "'CONNECT'"
      ]
     },
     "execution_count": 440,
     "metadata": {},
     "output_type": "execute_result"
    },
    {
     "name": "stdout",
     "output_type": "stream",
     "text": [
      "\u001b[0;31mSignature:\u001b[0m \u001b[0mfake\u001b[0m\u001b[0;34m.\u001b[0m\u001b[0mhttp_method\u001b[0m\u001b[0;34m(\u001b[0m\u001b[0;34m)\u001b[0m \u001b[0;34m->\u001b[0m \u001b[0mstr\u001b[0m\u001b[0;34m\u001b[0m\u001b[0;34m\u001b[0m\u001b[0m\n",
      "\u001b[0;31mDocstring:\u001b[0m\n",
      "Returns random HTTP method\n",
      "https://developer.mozilla.org/en-US/docs/Web/HTTP/Methods\n",
      "\n",
      ":rtype: str\n",
      "\u001b[0;31mFile:\u001b[0m      ~/.local/share/virtualenvs/generador_datos_sinteticos-Nir3Ushe/lib/python3.8/site-packages/faker/providers/internet/__init__.py\n",
      "\u001b[0;31mType:\u001b[0m      method"
     ]
    }
   ],
   "source": [
    "?fake.http_method\n",
    "\n",
    "fake.http_method()"
   ]
  },
  {
   "cell_type": "code",
   "execution_count": 442,
   "metadata": {},
   "outputs": [
    {
     "data": {
      "text/plain": [
       "'2368855'"
      ]
     },
     "execution_count": 442,
     "metadata": {},
     "output_type": "execute_result"
    },
    {
     "name": "stdout",
     "output_type": "stream",
     "text": [
      "\u001b[0;31mSignature:\u001b[0m \u001b[0mfake\u001b[0m\u001b[0;34m.\u001b[0m\u001b[0miana_id\u001b[0m\u001b[0;34m(\u001b[0m\u001b[0;34m)\u001b[0m \u001b[0;34m->\u001b[0m \u001b[0mstr\u001b[0m\u001b[0;34m\u001b[0m\u001b[0;34m\u001b[0m\u001b[0m\n",
      "\u001b[0;31mDocstring:\u001b[0m\n",
      "Returns IANA Registrar ID\n",
      "https://www.iana.org/assignments/registrar-ids/registrar-ids.xhtml\n",
      "\n",
      ":rtype: str\n",
      "\u001b[0;31mFile:\u001b[0m      ~/.local/share/virtualenvs/generador_datos_sinteticos-Nir3Ushe/lib/python3.8/site-packages/faker/providers/internet/__init__.py\n",
      "\u001b[0;31mType:\u001b[0m      method"
     ]
    }
   ],
   "source": [
    "?fake.iana_id\n",
    "\n",
    "fake.iana_id()"
   ]
  },
  {
   "cell_type": "code",
   "execution_count": 444,
   "metadata": {},
   "outputs": [
    {
     "data": {
      "text/plain": [
       "'GB63ZROH01329655393214'"
      ]
     },
     "execution_count": 444,
     "metadata": {},
     "output_type": "execute_result"
    },
    {
     "name": "stdout",
     "output_type": "stream",
     "text": [
      "\u001b[0;31mSignature:\u001b[0m \u001b[0mfake\u001b[0m\u001b[0;34m.\u001b[0m\u001b[0miban\u001b[0m\u001b[0;34m(\u001b[0m\u001b[0;34m)\u001b[0m \u001b[0;34m->\u001b[0m \u001b[0mstr\u001b[0m\u001b[0;34m\u001b[0m\u001b[0;34m\u001b[0m\u001b[0m\n",
      "\u001b[0;31mDocstring:\u001b[0m Generate an International Bank Account Number (IBAN).\n",
      "\u001b[0;31mFile:\u001b[0m      ~/.local/share/virtualenvs/generador_datos_sinteticos-Nir3Ushe/lib/python3.8/site-packages/faker/providers/bank/__init__.py\n",
      "\u001b[0;31mType:\u001b[0m      method"
     ]
    }
   ],
   "source": [
    "?fake.iban\n",
    "\n",
    "fake.iban()"
   ]
  },
  {
   "cell_type": "code",
   "execution_count": 447,
   "metadata": {},
   "outputs": [
    {
     "data": {
      "text/plain": [
       "b'\\x89PNG\\r\\n\\x1a\\n\\x00\\x00\\x00\\rIHDR\\x00\\x00\\x01\\x00\\x00\\x00\\x01\\x00\\x08\\x02\\x00\\x00\\x00\\xd3\\x10?1\\x00\\x00\\x04\\xbdIDATx\\x9c\\xed\\xdb\\xbfq\\x1dU\\x1c\\x86\\xe1\\x85\\x81\\x1a\\x9c(\\xf2\\xb8\\x03z\\xa0\\x01\\xb7A\\x05\\xa4\\xcc\\xa8\\x1b5\\xe0\\x1e\\xc8\\t4\\x8eH\\\\\\x03\\t\\x81@\\xb6d\\xfd\\xbb\\xd2\\xdd=g\\xf7}\\x9e\\n6y\\xc7\\xbf\\xef\\xe8\\xfa\\x87\\xbf\\xfe\\xf8m\\x81\\xaa\\x1fG\\x7f\\x00/uq}\\xf9\\xee\\xfd\\xc7\\xd1_q4\\x02\\xd8\\x93/\\x9f\\xafF\\x7f\\xc2\\xd1\\x08`\\x1f.\\xae/\\xff\\xfe\\xf0\\xfb\\xe8\\xaf8 \\x01\\x90&\\x00\\xd2\\x04\\xb0\\x03\\x17\\xd7\\x97\\xa3?\\xe1\\xb0\\x04\\xb0\\x0f\\x06\\xc0J\\x04@\\x9a\\x00f\\xe7\\xfeY\\x95\\x00H\\x13\\xc0\\x0e\\x18\\x00\\xeb\\x11\\xc0\\xd4\\xdc?k\\x13\\x00i\\x02 M\\x00\\xf3\\xba\\xb9\\x7f\\x0c\\x80U\\t\\x804\\x01\\x90&\\x80I]\\\\_\\xfe\\xf3\\xeb\\x9f\\xa3\\xbf\\xe2\\xf8\\x040\\xaf\\x9f?\\xfdb\\x00\\xacM\\x00\\xa4\\t`F\\xee\\x9f\\xcd\\x08\\x804\\x01L\\xca\\x00\\xd8\\x86\\x00\\xa6\\xe3\\xfe\\xd9\\x92\\x00H\\x13\\xc0\\x8c\\xdc?\\x9b\\x11\\xc0\\\\\\xdc?\\x1b\\x13\\x00i\\x02 M\\x00\\x13\\xb9\\xb9\\x7f\\x0c\\x80-\\t\\x804\\x01\\x90&\\x80Yx\\xff\\x19B\\x00s1\\x006&\\x00\\xd2\\x040\\x05\\xf7\\xcf(\\x02 M\\x00\\x131\\x00\\xb6\\'\\x80\\xf1\\xdc?\\x03\\t\\x804\\x01\\x90&\\x80\\xc1n\\xef\\x1f\\x03`\\x08\\x01\\x90&\\x00\\xd2\\x040\\x92\\xf7\\x9f\\xe1\\x040\\x05\\x03`\\x14\\x01\\x90&\\x80a\\xdc?3\\x10\\x00i\\x02\\x18\\xcf\\x00\\x18H\\x00c\\xb8\\x7f&!\\x00\\xd2\\x040\\x98\\xfbg,\\x01\\x0c\\xe0\\xfe\\x99\\x87\\x00H\\x13\\x00i\\x02\\xd8\\xda\\xb7\\xf7\\x8f\\x010\\x9c\\x00H\\x13\\x00i\\x02\\xd8\\x94\\xf7\\x9f\\xd9\\x08`\\x18\\x03`\\x06\\x02 M\\x00\\xdbq\\xffLH\\x00\\xa4\\t`\\x0c\\x03`\\x12\\x02\\xd8\\x88\\xfbgN\\x02 M\\x00\\xa4\\t`\\x0b\\xf7\\xee\\x1f\\x03`\\x1e\\x02 M\\x00\\xa4\\t`u\\xde\\x7ff&\\x80\\xad\\x19\\x00S\\x11\\x00i\\x02X\\x97\\xfbgr\\x02\\xd8\\x94\\xfbg6\\x02 M\\x00+r\\xff\\xccO\\x00\\xa4\\t`;\\x06\\xc0\\x84\\x04\\xb0\\x16\\xf7\\xcf.\\x08\\x804\\x01\\x90&\\x80U|\\x7f\\xff\\x18\\x00s\\x12\\x00i\\x02 M\\x00\\xe7\\xe7\\xfdgG\\x04\\xb0\\x05\\x03`Z\\x02 M\\x00g\\xe6\\xfe\\xd9\\x17\\x01\\x90&\\x80\\xd5\\x19\\x003\\x13\\xc09\\xb9\\x7fvG\\x00\\xa4\\t\\x804\\x01\\x9c\\xcd\\x83\\xf7\\x8f\\x0109\\x01\\x90&\\x00\\xd2\\x04p\\x1e\\xee\\x9f\\x9d\\x12\\x00i\\x02 M\\x00g\\xe0\\xef_\\xfb%\\x80\\xb5\\x18\\x00\\xbb \\x00\\xd2\\x04\\xf0V\\xee\\x9f]\\x13\\x00i\\x02X\\x85\\x01\\xb0\\x17\\x02x\\x13\\xf7\\xcf\\xde\\t\\x804\\x01\\x90&\\x80\\xd7{\\xec\\xfe1\\x00vD\\x00\\xa4\\t\\x804\\x01\\xbc\\x92\\xf7\\x9fc\\x10\\xc0\\x99\\x19\\x00\\xfb\"\\x00\\xd2\\x04\\xf0\\x1a\\xee\\x9f\\xc3\\x10\\x00i\\x028\\'\\x03`w\\x04p2\\xf7\\xcf\\x91\\x08\\x804\\x01\\x90&\\x80\\xd3<q\\xff\\x18\\x00{$\\x00\\xd2\\x04@\\x9a\\x00N\\xe0\\xfe9\\x1e\\x01\\x90&\\x00\\xd2\\x04\\xf0R\\xfe\\xfeuH\\x028\\x03\\x03`\\xbf\\x04@\\x9a\\x00^\\xc4\\xfdsT\\x02 M\\x00oe\\x00\\xec\\x9a\\x00H\\x13\\xc0\\xf3\\x0c\\x80\\x03\\x13\\x00i\\x02x\\x13\\x03`\\xef\\x04@\\x9a\\x00H\\x13\\x00i\\x02x\\x86\\xff\\x03pl\\x02 M\\x00\\xa4\\t\\x804\\x01\\xbc\\x92\\x01p\\x0c\\x02 M\\x00O\\xf1+\\xa0\\xc3\\x13\\xc0k\\xb8\\x7f\\x0eC\\x00\\xa4\\t\\x804\\x01\\x90&\\x80\\x93\\x19\\x00G\"\\x80Gy\\x02*\\x10\\x00i\\x02 M\\x00\\xa71\\x00\\x0eF\\x00\\xa4\\t\\x804\\x01<\\xcc\\x13P\\x84\\x00N`\\x00\\x1c\\x8f\\x00H\\x13\\x00i\\x02 M\\x00\\x0fxp\\x01\\x1b\\x00\\x87$\\x00\\xd2\\x04@\\x9a\\x00H\\x13\\xc0\\x8b\\x18\\x00G%\\x00\\xd2\\x04p\\x9f\\x1fA\\xa4\\x08\\xe0y\\xee\\x9f\\x03\\x13\\x00i\\x02 M\\x00\\xa4\\t\\xe0\\x19\\x06\\xc0\\xb1\\t\\xe0\\x0eO@5\\x02 M\\x00\\xa4\\t\\xe0)\\x06\\xc0\\xe1\\t\\x804\\x01\\x90&\\x80\\xaf<\\x01\\x05\\t\\xe0Q\\x06@\\x81\\x00H\\x13\\x00i\\x02 M\\x00\\xff\\xb9\\xb7\\x80\\r\\x80\\x08\\x01\\x90&\\x00\\xd2\\x04@\\x9a\\x00\\x1e`\\x00t\\x08\\x804\\x01,\\x8b\\x1fA\\x84\\t\\xe0>\\xf7O\\x8a\\x00H\\x13\\x00i\\x02 M\\x00w\\x18\\x005\\x02\\xf0\\x04\\x94&\\x00\\xd2\\x04@\\x9a\\x00\\xbe2\\x00\\x82\\x04@\\x9a\\x00H\\xab\\x07\\xe0\\t(\\xae\\x1e\\xc0-\\x03\\xa0I\\x00\\xa4\\t\\x804\\x01\\x90&\\x80e1\\x00\\xc2\\xd2\\x01x\\x02\"\\x1d\\x00\\x08\\x804\\x01\\x18\\x00i\\x02 \\xad\\x1b\\x80\\x05\\xccR\\x0e\\x00\\x16\\x01\\x18\\x00q\\xf5\\x00\\x88\\x13\\x00i\\xe9\\x00\\xdc?D\\x03\\xf0\\x04\\xc4\\x8dh\\x00pC\\x00\\xa4u\\x030\\x00X\\xca\\x01\\xc0\"\\x00\\xe2\\x8a\\x01x\\x02\\xe2V1\\x80\\xc5\\x00\\xe0\\x7f\\xd1\\x00\\xe0\\x86\\x00H\\x13\\x00i\\xd1\\x00\\x0c\\x00n\\xe4\\x02\\xb8\\xb8\\xbe\\x1c\\xfd\\tL$\\x17\\x00|K\\x00\\xa4\\x15\\x030\\x00\\xb8U\\x0c\\x00n\\t\\x80\\xb4V\\x00\\x9e\\x80\\xb8\\xa7\\x15\\xc0b\\x00pW(\\x80w\\xef?\\x8e\\xfe\\x04\\xa6\\xf3\\xd3\\xe8\\x0f\\xd8\\xce\\x97\\xcfW\\xcb\\x87\\xab\\xd1_\\xc1\\\\B\\xff\\x02\\xc0\\xf7\\x04@\\x9a\\x00H\\x13\\x00i\\x02 M\\x00\\xa4\\t\\x804\\x01\\x90&\\x00\\xd2\\x04@\\x9a\\x00H\\xfb\\x17>1q\\'\\xeb\\xf3\\xa5\\xc1\\x00\\x00\\x00\\x00IEND\\xaeB`\\x82'"
      ]
     },
     "execution_count": 447,
     "metadata": {},
     "output_type": "execute_result"
    },
    {
     "name": "stdout",
     "output_type": "stream",
     "text": [
      "\u001b[0;31mSignature:\u001b[0m\n",
      "\u001b[0mfake\u001b[0m\u001b[0;34m.\u001b[0m\u001b[0mimage\u001b[0m\u001b[0;34m(\u001b[0m\u001b[0;34m\u001b[0m\n",
      "\u001b[0;34m\u001b[0m    \u001b[0msize\u001b[0m\u001b[0;34m:\u001b[0m \u001b[0mTuple\u001b[0m\u001b[0;34m[\u001b[0m\u001b[0mint\u001b[0m\u001b[0;34m,\u001b[0m \u001b[0mint\u001b[0m\u001b[0;34m]\u001b[0m \u001b[0;34m=\u001b[0m \u001b[0;34m(\u001b[0m\u001b[0;36m256\u001b[0m\u001b[0;34m,\u001b[0m \u001b[0;36m256\u001b[0m\u001b[0;34m)\u001b[0m\u001b[0;34m,\u001b[0m\u001b[0;34m\u001b[0m\n",
      "\u001b[0;34m\u001b[0m    \u001b[0mimage_format\u001b[0m\u001b[0;34m:\u001b[0m \u001b[0mstr\u001b[0m \u001b[0;34m=\u001b[0m \u001b[0;34m'png'\u001b[0m\u001b[0;34m,\u001b[0m\u001b[0;34m\u001b[0m\n",
      "\u001b[0;34m\u001b[0m    \u001b[0mhue\u001b[0m\u001b[0;34m:\u001b[0m \u001b[0mUnion\u001b[0m\u001b[0;34m[\u001b[0m\u001b[0mint\u001b[0m\u001b[0;34m,\u001b[0m \u001b[0mSequence\u001b[0m\u001b[0;34m[\u001b[0m\u001b[0mint\u001b[0m\u001b[0;34m]\u001b[0m\u001b[0;34m,\u001b[0m \u001b[0mstr\u001b[0m\u001b[0;34m,\u001b[0m \u001b[0mNoneType\u001b[0m\u001b[0;34m]\u001b[0m \u001b[0;34m=\u001b[0m \u001b[0;32mNone\u001b[0m\u001b[0;34m,\u001b[0m\u001b[0;34m\u001b[0m\n",
      "\u001b[0;34m\u001b[0m    \u001b[0mluminosity\u001b[0m\u001b[0;34m:\u001b[0m \u001b[0mUnion\u001b[0m\u001b[0;34m[\u001b[0m\u001b[0mstr\u001b[0m\u001b[0;34m,\u001b[0m \u001b[0mNoneType\u001b[0m\u001b[0;34m]\u001b[0m \u001b[0;34m=\u001b[0m \u001b[0;32mNone\u001b[0m\u001b[0;34m,\u001b[0m\u001b[0;34m\u001b[0m\n",
      "\u001b[0;34m\u001b[0m\u001b[0;34m)\u001b[0m \u001b[0;34m->\u001b[0m \u001b[0mbytes\u001b[0m\u001b[0;34m\u001b[0m\u001b[0;34m\u001b[0m\u001b[0m\n",
      "\u001b[0;31mDocstring:\u001b[0m\n",
      "Generate an image and draw a random polygon on it using the Python Image Library.\n",
      "Without it installed, this provider won't be functional. Returns the bytes representing\n",
      "the image in a given format.\n",
      "\n",
      "The argument ``size`` must be a 2-tuple containing (width, height) in pixels. Defaults to 256x256.\n",
      "\n",
      "The argument ``image_format`` can be any valid format to the underlying library like ``'tiff'``,\n",
      "``'jpeg'``, ``'pdf'`` or ``'png'`` (default). Note that some formats need present system libraries\n",
      "prior to building the Python Image Library.\n",
      "Refer to https://pillow.readthedocs.io/en/stable/handbook/image-file-formats.html for details.\n",
      "\n",
      "The arguments ``hue`` and ``luminosity`` are the same as in the color provider and are simply forwarded to\n",
      "it to generate both the background and the shape colors. Therefore, you can ask for a \"dark blue\" image, etc.\n",
      "\n",
      ":sample: size=(2, 2), hue='purple', luminosity='bright', image_format='pdf'\n",
      ":sample: size=(16, 16), hue=[90,270], image_format='ico'\n",
      "\u001b[0;31mFile:\u001b[0m      ~/.local/share/virtualenvs/generador_datos_sinteticos-Nir3Ushe/lib/python3.8/site-packages/faker/providers/misc/__init__.py\n",
      "\u001b[0;31mType:\u001b[0m      method"
     ]
    }
   ],
   "source": [
    "?fake.image\n",
    "\n",
    "fake.image(size=(256,256), image_format='png')"
   ]
  },
  {
   "cell_type": "code",
   "execution_count": 460,
   "metadata": {},
   "outputs": [
    {
     "data": {
      "text/plain": [
       "'https://placekitten.com/263/601'"
      ]
     },
     "execution_count": 460,
     "metadata": {},
     "output_type": "execute_result"
    }
   ],
   "source": [
    "fake.image_url()"
   ]
  },
  {
   "cell_type": "code",
   "execution_count": 461,
   "metadata": {},
   "outputs": [
    {
     "data": {
      "text/plain": [
       "'Mozilla/5.0 (compatible; MSIE 8.0; Windows NT 6.1; Trident/5.1)'"
      ]
     },
     "execution_count": 461,
     "metadata": {},
     "output_type": "execute_result"
    }
   ],
   "source": [
    "fake.internet_explorer()"
   ]
  },
  {
   "cell_type": "code",
   "execution_count": 462,
   "metadata": {},
   "outputs": [
    {
     "data": {
      "text/plain": [
       "'263-00-4204'"
      ]
     },
     "execution_count": 462,
     "metadata": {},
     "output_type": "execute_result"
    }
   ],
   "source": [
    "fake.invalid_ssn()"
   ]
  },
  {
   "cell_type": "code",
   "execution_count": 463,
   "metadata": {},
   "outputs": [
    {
     "data": {
      "text/plain": [
       "'iPhone; CPU iPhone OS 12_4_8 like Mac OS X'"
      ]
     },
     "execution_count": 463,
     "metadata": {},
     "output_type": "execute_result"
    }
   ],
   "source": [
    "fake.ios_platform_token()"
   ]
  },
  {
   "cell_type": "code",
   "execution_count": 464,
   "metadata": {},
   "outputs": [
    {
     "data": {
      "text/plain": [
       "'114.103.104.139'"
      ]
     },
     "execution_count": 464,
     "metadata": {},
     "output_type": "execute_result"
    }
   ],
   "source": [
    "fake.ipv4()"
   ]
  },
  {
   "cell_type": "code",
   "execution_count": 465,
   "metadata": {},
   "outputs": [
    {
     "data": {
      "text/plain": [
       "'c'"
      ]
     },
     "execution_count": 465,
     "metadata": {},
     "output_type": "execute_result"
    }
   ],
   "source": [
    "fake.ipv4_network_class()"
   ]
  },
  {
   "cell_type": "code",
   "execution_count": 470,
   "metadata": {},
   "outputs": [
    {
     "data": {
      "text/plain": [
       "'10.109.122.58'"
      ]
     },
     "execution_count": 470,
     "metadata": {},
     "output_type": "execute_result"
    }
   ],
   "source": [
    "fake.ipv4_private()"
   ]
  },
  {
   "cell_type": "code",
   "execution_count": 471,
   "metadata": {},
   "outputs": [
    {
     "data": {
      "text/plain": [
       "'212.11.30.83'"
      ]
     },
     "execution_count": 471,
     "metadata": {},
     "output_type": "execute_result"
    }
   ],
   "source": [
    "fake.ipv4_public()"
   ]
  },
  {
   "cell_type": "code",
   "execution_count": 472,
   "metadata": {},
   "outputs": [
    {
     "data": {
      "text/plain": [
       "'684a:e84b:e029:74c6:3820:1405:3816:f960'"
      ]
     },
     "execution_count": 472,
     "metadata": {},
     "output_type": "execute_result"
    }
   ],
   "source": [
    "fake.ipv6()"
   ]
  },
  {
   "cell_type": "code",
   "execution_count": 473,
   "metadata": {},
   "outputs": [
    {
     "data": {
      "text/plain": [
       "'1-80675-985-3'"
      ]
     },
     "execution_count": 473,
     "metadata": {},
     "output_type": "execute_result"
    },
    {
     "name": "stdout",
     "output_type": "stream",
     "text": [
      "\u001b[0;31mSignature:\u001b[0m \u001b[0mfake\u001b[0m\u001b[0;34m.\u001b[0m\u001b[0misbn10\u001b[0m\u001b[0;34m(\u001b[0m\u001b[0mseparator\u001b[0m\u001b[0;34m:\u001b[0m \u001b[0mstr\u001b[0m \u001b[0;34m=\u001b[0m \u001b[0;34m'-'\u001b[0m\u001b[0;34m)\u001b[0m \u001b[0;34m->\u001b[0m \u001b[0mstr\u001b[0m\u001b[0;34m\u001b[0m\u001b[0;34m\u001b[0m\u001b[0m\n",
      "\u001b[0;31mDocstring:\u001b[0m <no docstring>\n",
      "\u001b[0;31mFile:\u001b[0m      ~/.local/share/virtualenvs/generador_datos_sinteticos-Nir3Ushe/lib/python3.8/site-packages/faker/providers/isbn/__init__.py\n",
      "\u001b[0;31mType:\u001b[0m      method"
     ]
    }
   ],
   "source": [
    "?fake.isbn10\n",
    "\n",
    "fake.isbn10()"
   ]
  },
  {
   "cell_type": "code",
   "execution_count": 474,
   "metadata": {},
   "outputs": [
    {
     "data": {
      "text/plain": [
       "'978-0-626-37063-3'"
      ]
     },
     "execution_count": 474,
     "metadata": {},
     "output_type": "execute_result"
    }
   ],
   "source": [
    "fake.isbn13()"
   ]
  },
  {
   "cell_type": "code",
   "execution_count": 475,
   "metadata": {},
   "outputs": [
    {
     "data": {
      "text/plain": [
       "'2014-02-11T01:54:13'"
      ]
     },
     "execution_count": 475,
     "metadata": {},
     "output_type": "execute_result"
    }
   ],
   "source": [
    "fake.iso8601()"
   ]
  },
  {
   "cell_type": "code",
   "execution_count": 478,
   "metadata": {},
   "outputs": [
    {
     "data": {
      "text/plain": [
       "<faker.generator.Generator at 0x7f89d8347940>"
      ]
     },
     "execution_count": 478,
     "metadata": {},
     "output_type": "execute_result"
    }
   ],
   "source": [
    "fake.items()[0][1]"
   ]
  },
  {
   "cell_type": "code",
   "execution_count": 479,
   "metadata": {},
   "outputs": [
    {
     "data": {
      "text/plain": [
       "'949-79-8928'"
      ]
     },
     "execution_count": 479,
     "metadata": {},
     "output_type": "execute_result"
    }
   ],
   "source": [
    "fake.itin()"
   ]
  },
  {
   "cell_type": "code",
   "execution_count": 503,
   "metadata": {},
   "outputs": [
    {
     "data": {
      "text/plain": [
       "'Personal de pompas fúnebres y embalsamador'"
      ]
     },
     "execution_count": 503,
     "metadata": {},
     "output_type": "execute_result"
    }
   ],
   "source": [
    "fake.job()"
   ]
  },
  {
   "cell_type": "code",
   "execution_count": 504,
   "metadata": {},
   "outputs": [
    {
     "data": {
      "text/plain": [
       "'[{\"name\": \"Marcos del Mosquera\", \"residency\": \"Vial de Luis Carvajal 16\\\\nSevilla, 45359\"}, {\"name\": \"N\\\\u00e9lida Perea Machado\", \"residency\": \"Camino R\\\\u00f3mulo Caro 71 Puerta 0 \\\\nTarragona, 40750\"}, {\"name\": \"Chema Barrios-Moraleda\", \"residency\": \"Ca\\\\u00f1ada de Mohamed Somoza 31\\\\nGuadalajara, 18679\"}, {\"name\": \"Perla Aramburu Roma\", \"residency\": \"Ronda Bego\\\\u00f1a Ferrando 30\\\\nNavarra, 43477\"}, {\"name\": \"Salvador Revilla Fuertes\", \"residency\": \"Vial de Teodoro Gimeno 27\\\\nCeuta, 09763\"}, {\"name\": \"Abril Castillo \\\\u00c1vila\", \"residency\": \"Alameda de Florencia Serna 66 Puerta 3 \\\\nM\\\\u00e1laga, 15557\"}, {\"name\": \"Bernardo Sebasti\\\\u00e1n\", \"residency\": \"Calle Adoraci\\\\u00f3n Borrell 998 Apt. 59 \\\\nLleida, 44468\"}, {\"name\": \"Jenaro Varela-Cort\\\\u00e9s\", \"residency\": \"Avenida de Tatiana Romeu 78 Apt. 94 \\\\nC\\\\u00f3rdoba, 27020\"}, {\"name\": \"Seve Gonzalo Pelayo Estrada\", \"residency\": \"Vial de Modesta Castro 55 Apt. 26 \\\\nHuelva, 51740\"}, {\"name\": \"Julie Jurado Pereira\", \"residency\": \"Pasaje de Cesar Pol 572 Puerta 4 \\\\nGranada, 06645\"}]'"
      ]
     },
     "execution_count": 504,
     "metadata": {},
     "output_type": "execute_result"
    }
   ],
   "source": [
    "fake.json()"
   ]
  },
  {
   "cell_type": "code",
   "execution_count": 505,
   "metadata": {},
   "outputs": [],
   "source": [
    "import json"
   ]
  },
  {
   "cell_type": "code",
   "execution_count": 507,
   "metadata": {},
   "outputs": [
    {
     "data": {
      "text/plain": [
       "[{'name': 'Adelaida Tena-Guerrero',\n",
       "  'residency': 'Vial de Florencia Baena 695 Puerta 4 \\nPontevedra, 17417'},\n",
       " {'name': 'Ruben Morera Aliaga',\n",
       "  'residency': 'Acceso de Emilia Lumbreras 1 Piso 2 \\nCórdoba, 27965'},\n",
       " {'name': 'Fernanda Coronado Polo',\n",
       "  'residency': 'Vial Mariana Moles 6\\nValladolid, 01506'},\n",
       " {'name': 'Maura Bustos Royo',\n",
       "  'residency': 'Glorieta Nicodemo Caro 799 Puerta 4 \\nTarragona, 19284'},\n",
       " {'name': 'Marisol Coronado Barbero',\n",
       "  'residency': 'Paseo de Yésica Rocamora 55\\nCáceres, 08597'},\n",
       " {'name': 'Julia Palomares Castejón',\n",
       "  'residency': 'Ronda Carmelo Pont 858\\nSegovia, 12106'},\n",
       " {'name': 'Octavio Sarmiento Bermúdez',\n",
       "  'residency': 'Paseo Herminio Roma 1\\nLeón, 47871'},\n",
       " {'name': 'Anunciación del Lobato',\n",
       "  'residency': 'Urbanización de Rico Verdú 460 Apt. 49 \\nTarragona, 26248'},\n",
       " {'name': 'Efraín Gregorio Riquelme España',\n",
       "  'residency': 'Avenida Moreno Gonzalo 87\\nLa Rioja, 13430'},\n",
       " {'name': 'Germán Roldan Valdés',\n",
       "  'residency': 'Avenida Rafa Vergara 11\\nLa Rioja, 33243'}]"
      ]
     },
     "execution_count": 507,
     "metadata": {},
     "output_type": "execute_result"
    },
    {
     "name": "stdout",
     "output_type": "stream",
     "text": [
      "\u001b[0;31mSignature:\u001b[0m\n",
      "\u001b[0mfake\u001b[0m\u001b[0;34m.\u001b[0m\u001b[0mjson\u001b[0m\u001b[0;34m(\u001b[0m\u001b[0;34m\u001b[0m\n",
      "\u001b[0;34m\u001b[0m    \u001b[0mdata_columns\u001b[0m\u001b[0;34m:\u001b[0m \u001b[0mUnion\u001b[0m\u001b[0;34m[\u001b[0m\u001b[0mList\u001b[0m\u001b[0;34m,\u001b[0m \u001b[0mNoneType\u001b[0m\u001b[0;34m]\u001b[0m \u001b[0;34m=\u001b[0m \u001b[0;32mNone\u001b[0m\u001b[0;34m,\u001b[0m\u001b[0;34m\u001b[0m\n",
      "\u001b[0;34m\u001b[0m    \u001b[0mnum_rows\u001b[0m\u001b[0;34m:\u001b[0m \u001b[0mint\u001b[0m \u001b[0;34m=\u001b[0m \u001b[0;36m10\u001b[0m\u001b[0;34m,\u001b[0m\u001b[0;34m\u001b[0m\n",
      "\u001b[0;34m\u001b[0m    \u001b[0mindent\u001b[0m\u001b[0;34m:\u001b[0m \u001b[0mUnion\u001b[0m\u001b[0;34m[\u001b[0m\u001b[0mint\u001b[0m\u001b[0;34m,\u001b[0m \u001b[0mNoneType\u001b[0m\u001b[0;34m]\u001b[0m \u001b[0;34m=\u001b[0m \u001b[0;32mNone\u001b[0m\u001b[0;34m,\u001b[0m\u001b[0;34m\u001b[0m\n",
      "\u001b[0;34m\u001b[0m    \u001b[0mcls\u001b[0m\u001b[0;34m:\u001b[0m \u001b[0mUnion\u001b[0m\u001b[0;34m[\u001b[0m\u001b[0mType\u001b[0m\u001b[0;34m[\u001b[0m\u001b[0mjson\u001b[0m\u001b[0;34m.\u001b[0m\u001b[0mencoder\u001b[0m\u001b[0;34m.\u001b[0m\u001b[0mJSONEncoder\u001b[0m\u001b[0;34m]\u001b[0m\u001b[0;34m,\u001b[0m \u001b[0mNoneType\u001b[0m\u001b[0;34m]\u001b[0m \u001b[0;34m=\u001b[0m \u001b[0;32mNone\u001b[0m\u001b[0;34m,\u001b[0m\u001b[0;34m\u001b[0m\n",
      "\u001b[0;34m\u001b[0m\u001b[0;34m)\u001b[0m \u001b[0;34m->\u001b[0m \u001b[0mstr\u001b[0m\u001b[0;34m\u001b[0m\u001b[0;34m\u001b[0m\u001b[0m\n",
      "\u001b[0;31mDocstring:\u001b[0m\n",
      "Generate random JSON structure values.\n",
      "\n",
      "Using a dictionary or list of records that is passed as ``data_columns``,\n",
      "define the structure that is used to build JSON structures.  For complex\n",
      "data structures it is recommended to use the dictionary format.\n",
      "\n",
      "Data Column Dictionary format:\n",
      "    {'key name': 'definition'}\n",
      "\n",
      "The definition can be 'provider', 'provider:argument_group', tokenized\n",
      "'string {{ provider:argument_group }}' that is passed to the python\n",
      "provider method pystr_format() for generation, or a fixed '@word'.\n",
      "Using Lists, Tuples, and Dicts as a definition for structure.\n",
      "\n",
      "Example:\n",
      "    fake.set_arguments('top_half', {'min_value': 50, 'max_value': 100})\n",
      "    fake.json(data_columns={'Name': 'name', 'Score': 'pyint:top_half'})\n",
      "\n",
      "Data Column List format:\n",
      "    [('key name', 'definition', {'arguments'})]\n",
      "\n",
      "With the list format the definition can be a list of records, to create\n",
      "a list within the structure data.  For literal entries within the list,\n",
      "set the 'field_name' to None.\n",
      "\n",
      ":param data_columns: specification for the data structure\n",
      ":type data_columns: dict\n",
      ":param num_rows: number of rows the returned\n",
      ":type num_rows: int\n",
      ":param indent: number of spaces to indent the fields\n",
      ":type indent: int\n",
      ":param cls: optional json encoder to use for non-standard objects such as datetimes\n",
      ":type cls: json.JSONEncoder\n",
      ":return: Serialized JSON data\n",
      ":rtype: str\n",
      "\n",
      ":sample: data_columns={'Spec': '@1.0.1', 'ID': 'pyint',\n",
      "        'Details': {'Name': 'name', 'Address': 'address'}}, num_rows=2\n",
      ":sample: data_columns={'Candidates': ['name', 'name', 'name']},\n",
      "        num_rows=1\n",
      ":sample: data_columns=[('Name', 'name'), ('Points', 'pyint',\n",
      "        {'min_value': 50, 'max_value': 100})], num_rows=1\n",
      "\u001b[0;31mFile:\u001b[0m      ~/.local/share/virtualenvs/generador_datos_sinteticos-Nir3Ushe/lib/python3.8/site-packages/faker/providers/misc/__init__.py\n",
      "\u001b[0;31mType:\u001b[0m      method"
     ]
    }
   ],
   "source": [
    "?fake.json\n",
    "\n",
    "json.loads(fake.json())"
   ]
  },
  {
   "cell_type": "code",
   "execution_count": 508,
   "metadata": {},
   "outputs": [
    {
     "data": {
      "text/plain": [
       "b'[{\"name\": \"Elo\\\\u00edsa Alem\\\\u00e1n Zaragoza\", \"residency\": \"Rambla Evelia Palomares 68 Puerta 5 \\\\nAlmer\\\\u00eda, 10578\"}, {\"name\": \"Reyna del R\\\\u00edo\", \"residency\": \"Acceso Natalia Vall\\\\u00e9s 41\\\\nCantabria, 12502\"}, {\"name\": \"Nico \\\\u00c1lvarez-Nogu\\\\u00e9s\", \"residency\": \"Camino Olegario Araujo 596 Piso 0 \\\\nC\\\\u00e1ceres, 16045\"}, {\"name\": \"Andr\\\\u00e9s Castro-Coloma\", \"residency\": \"Alameda C\\\\u00e9sar Ca\\\\u00f1izares 16\\\\nValencia, 04322\"}, {\"name\": \"Herberto Valent\\\\u00edn Villalobos\", \"residency\": \"Via Gervasio Tirado 3\\\\nValladolid, 02940\"}, {\"name\": \"Candelario Rubio Parra\", \"residency\": \"Ronda de Cristina Mateo 20\\\\nLe\\\\u00f3n, 10366\"}, {\"name\": \"Estela Octavia Miranda Terr\\\\u00f3n\", \"residency\": \"Glorieta de Estela Diez 80 Puerta 5 \\\\nGirona, 15060\"}, {\"name\": \"Manu Menendez-Criado\", \"residency\": \"Pasadizo Rodolfo Verdugo 1 Piso 3 \\\\n\\\\u00c1vila, 19505\"}, {\"name\": \"Purificaci\\\\u00f3n del Pe\\\\u00f1a\", \"residency\": \"Vial de Blas Cabo 831 Puerta 5 \\\\nM\\\\u00e1laga, 49378\"}, {\"name\": \"Lupe Riba Frutos\", \"residency\": \"Alameda Mar G\\\\u00e1mez 33 Piso 9 \\\\nGranada, 18743\"}]'"
      ]
     },
     "execution_count": 508,
     "metadata": {},
     "output_type": "execute_result"
    }
   ],
   "source": [
    "fake.json_bytes()"
   ]
  },
  {
   "cell_type": "code",
   "execution_count": 510,
   "metadata": {},
   "outputs": [
    {
     "data": {
      "text/plain": [
       "'brx'"
      ]
     },
     "execution_count": 510,
     "metadata": {},
     "output_type": "execute_result"
    },
    {
     "name": "stdout",
     "output_type": "stream",
     "text": [
      "\u001b[0;31mSignature:\u001b[0m \u001b[0mfake\u001b[0m\u001b[0;34m.\u001b[0m\u001b[0mlanguage_code\u001b[0m\u001b[0;34m(\u001b[0m\u001b[0;34m)\u001b[0m \u001b[0;34m->\u001b[0m \u001b[0mstr\u001b[0m\u001b[0;34m\u001b[0m\u001b[0;34m\u001b[0m\u001b[0m\n",
      "\u001b[0;31mDocstring:\u001b[0m Generate a random i18n language code (e.g. en).\n",
      "\u001b[0;31mFile:\u001b[0m      ~/.local/share/virtualenvs/generador_datos_sinteticos-Nir3Ushe/lib/python3.8/site-packages/faker/providers/__init__.py\n",
      "\u001b[0;31mType:\u001b[0m      method"
     ]
    }
   ],
   "source": [
    "?fake.language_code\n",
    "\n",
    "fake.language_code()"
   ]
  },
  {
   "cell_type": "code",
   "execution_count": 511,
   "metadata": {},
   "outputs": [
    {
     "data": {
      "text/plain": [
       "'PSC 3023, Box 8972'"
      ]
     },
     "execution_count": 511,
     "metadata": {},
     "output_type": "execute_result"
    }
   ],
   "source": [
    "fake.military_apo()"
   ]
  },
  {
   "cell_type": "code",
   "execution_count": 512,
   "metadata": {},
   "outputs": [
    {
     "data": {
      "text/plain": [
       "'Gordon'"
      ]
     },
     "execution_count": 512,
     "metadata": {},
     "output_type": "execute_result"
    }
   ],
   "source": [
    "fake.last_name()"
   ]
  },
  {
   "cell_type": "code",
   "execution_count": 513,
   "metadata": {},
   "outputs": [
    {
     "data": {
      "text/plain": [
       "'Alsina'"
      ]
     },
     "execution_count": 513,
     "metadata": {},
     "output_type": "execute_result"
    }
   ],
   "source": [
    "fake.last_name_female()"
   ]
  },
  {
   "cell_type": "code",
   "execution_count": 514,
   "metadata": {},
   "outputs": [
    {
     "data": {
      "text/plain": [
       "'Dyer'"
      ]
     },
     "execution_count": 514,
     "metadata": {},
     "output_type": "execute_result"
    }
   ],
   "source": [
    "fake.last_name_male()"
   ]
  },
  {
   "cell_type": "code",
   "execution_count": 515,
   "metadata": {},
   "outputs": [
    {
     "data": {
      "text/plain": [
       "'Reed'"
      ]
     },
     "execution_count": 515,
     "metadata": {},
     "output_type": "execute_result"
    }
   ],
   "source": [
    "fake.last_name_nonbinary()"
   ]
  },
  {
   "cell_type": "code",
   "execution_count": 516,
   "metadata": {},
   "outputs": [
    {
     "data": {
      "text/plain": [
       "Decimal('-0.574759')"
      ]
     },
     "execution_count": 516,
     "metadata": {},
     "output_type": "execute_result"
    },
    {
     "name": "stdout",
     "output_type": "stream",
     "text": [
      "\u001b[0;31mSignature:\u001b[0m \u001b[0mfake\u001b[0m\u001b[0;34m.\u001b[0m\u001b[0mlatitude\u001b[0m\u001b[0;34m(\u001b[0m\u001b[0;34m)\u001b[0m \u001b[0;34m->\u001b[0m \u001b[0mdecimal\u001b[0m\u001b[0;34m.\u001b[0m\u001b[0mDecimal\u001b[0m\u001b[0;34m\u001b[0m\u001b[0;34m\u001b[0m\u001b[0m\n",
      "\u001b[0;31mDocstring:\u001b[0m <no docstring>\n",
      "\u001b[0;31mFile:\u001b[0m      ~/.local/share/virtualenvs/generador_datos_sinteticos-Nir3Ushe/lib/python3.8/site-packages/faker/providers/geo/__init__.py\n",
      "\u001b[0;31mType:\u001b[0m      method"
     ]
    }
   ],
   "source": [
    "?fake.latitude\n",
    "\n",
    "fake.latitude()"
   ]
  },
  {
   "cell_type": "code",
   "execution_count": 517,
   "metadata": {},
   "outputs": [
    {
     "data": {
      "text/plain": [
       "(Decimal('-27.1318695'), Decimal('-55.529552'))"
      ]
     },
     "execution_count": 517,
     "metadata": {},
     "output_type": "execute_result"
    },
    {
     "name": "stdout",
     "output_type": "stream",
     "text": [
      "\u001b[0;31mSignature:\u001b[0m \u001b[0mfake\u001b[0m\u001b[0;34m.\u001b[0m\u001b[0mlatlng\u001b[0m\u001b[0;34m(\u001b[0m\u001b[0;34m)\u001b[0m \u001b[0;34m->\u001b[0m \u001b[0mTuple\u001b[0m\u001b[0;34m[\u001b[0m\u001b[0mdecimal\u001b[0m\u001b[0;34m.\u001b[0m\u001b[0mDecimal\u001b[0m\u001b[0;34m,\u001b[0m \u001b[0mdecimal\u001b[0m\u001b[0;34m.\u001b[0m\u001b[0mDecimal\u001b[0m\u001b[0;34m]\u001b[0m\u001b[0;34m\u001b[0m\u001b[0;34m\u001b[0m\u001b[0m\n",
      "\u001b[0;31mDocstring:\u001b[0m <no docstring>\n",
      "\u001b[0;31mFile:\u001b[0m      ~/.local/share/virtualenvs/generador_datos_sinteticos-Nir3Ushe/lib/python3.8/site-packages/faker/providers/geo/__init__.py\n",
      "\u001b[0;31mType:\u001b[0m      method"
     ]
    }
   ],
   "source": [
    "?fake.latlng\n",
    "\n",
    "fake.latlng()"
   ]
  },
  {
   "cell_type": "code",
   "execution_count": 519,
   "metadata": {},
   "outputs": [
    {
     "data": {
      "text/plain": [
       "'vKkd'"
      ]
     },
     "execution_count": 519,
     "metadata": {},
     "output_type": "execute_result"
    },
    {
     "name": "stdout",
     "output_type": "stream",
     "text": [
      "\u001b[0;31mSignature:\u001b[0m\n",
      "\u001b[0mfake\u001b[0m\u001b[0;34m.\u001b[0m\u001b[0mlexify\u001b[0m\u001b[0;34m(\u001b[0m\u001b[0;34m\u001b[0m\n",
      "\u001b[0;34m\u001b[0m    \u001b[0mtext\u001b[0m\u001b[0;34m:\u001b[0m \u001b[0mstr\u001b[0m \u001b[0;34m=\u001b[0m \u001b[0;34m'????'\u001b[0m\u001b[0;34m,\u001b[0m\u001b[0;34m\u001b[0m\n",
      "\u001b[0;34m\u001b[0m    \u001b[0mletters\u001b[0m\u001b[0;34m:\u001b[0m \u001b[0mstr\u001b[0m \u001b[0;34m=\u001b[0m \u001b[0;34m'abcdefghijklmnopqrstuvwxyzABCDEFGHIJKLMNOPQRSTUVWXYZ'\u001b[0m\u001b[0;34m,\u001b[0m\u001b[0;34m\u001b[0m\n",
      "\u001b[0;34m\u001b[0m\u001b[0;34m)\u001b[0m \u001b[0;34m->\u001b[0m \u001b[0mstr\u001b[0m\u001b[0;34m\u001b[0m\u001b[0;34m\u001b[0m\u001b[0m\n",
      "\u001b[0;31mDocstring:\u001b[0m\n",
      "Generate a string with each question mark ('?') in ``text``\n",
      "replaced with a random character from ``letters``.\n",
      "\n",
      "By default, ``letters`` contains all ASCII letters, uppercase and lowercase.\n",
      "\n",
      ":sample: text='Random Identifier: ??????????'\n",
      ":sample: text='Random Identifier: ??????????', letters='ABCDE'\n",
      "\u001b[0;31mFile:\u001b[0m      ~/.local/share/virtualenvs/generador_datos_sinteticos-Nir3Ushe/lib/python3.8/site-packages/faker/providers/__init__.py\n",
      "\u001b[0;31mType:\u001b[0m      method"
     ]
    }
   ],
   "source": [
    "?fake.lexify\n",
    "\n",
    "fake.lexify()"
   ]
  },
  {
   "cell_type": "code",
   "execution_count": 520,
   "metadata": {},
   "outputs": [
    {
     "data": {
      "text/plain": [
       "'433694'"
      ]
     },
     "execution_count": 520,
     "metadata": {},
     "output_type": "execute_result"
    },
    {
     "name": "stdout",
     "output_type": "stream",
     "text": [
      "\u001b[0;31mSignature:\u001b[0m \u001b[0mfake\u001b[0m\u001b[0;34m.\u001b[0m\u001b[0mlicense_plate\u001b[0m\u001b[0;34m(\u001b[0m\u001b[0;34m)\u001b[0m \u001b[0;34m->\u001b[0m \u001b[0mstr\u001b[0m\u001b[0;34m\u001b[0m\u001b[0;34m\u001b[0m\u001b[0m\n",
      "\u001b[0;31mDocstring:\u001b[0m\n",
      "Generate a license plate.\n",
      "\n",
      "This method randomly chooses (50/50) between |license_plate_unified|\n",
      "or |license_plate_by_province| to generate the result.\n",
      "\u001b[0;31mFile:\u001b[0m      ~/.local/share/virtualenvs/generador_datos_sinteticos-Nir3Ushe/lib/python3.8/site-packages/faker/providers/automotive/es_ES/__init__.py\n",
      "\u001b[0;31mType:\u001b[0m      method"
     ]
    }
   ],
   "source": [
    "?fake.license_plate\n",
    "\n",
    "fake.license_plate()"
   ]
  },
  {
   "cell_type": "code",
   "execution_count": 521,
   "metadata": {},
   "outputs": [
    {
     "data": {
      "text/plain": [
       "'IB 4687 JJ'"
      ]
     },
     "execution_count": 521,
     "metadata": {},
     "output_type": "execute_result"
    },
    {
     "name": "stdout",
     "output_type": "stream",
     "text": [
      "\u001b[0;31mSignature:\u001b[0m\n",
      "\u001b[0mfake\u001b[0m\u001b[0;34m.\u001b[0m\u001b[0mlicense_plate_by_province\u001b[0m\u001b[0;34m(\u001b[0m\u001b[0;34m\u001b[0m\n",
      "\u001b[0;34m\u001b[0m    \u001b[0mprovince_prefix\u001b[0m\u001b[0;34m:\u001b[0m \u001b[0mUnion\u001b[0m\u001b[0;34m[\u001b[0m\u001b[0mstr\u001b[0m\u001b[0;34m,\u001b[0m \u001b[0mNoneType\u001b[0m\u001b[0;34m]\u001b[0m \u001b[0;34m=\u001b[0m \u001b[0;32mNone\u001b[0m\u001b[0;34m,\u001b[0m\u001b[0;34m\u001b[0m\n",
      "\u001b[0;34m\u001b[0m\u001b[0;34m)\u001b[0m \u001b[0;34m->\u001b[0m \u001b[0mstr\u001b[0m\u001b[0;34m\u001b[0m\u001b[0;34m\u001b[0m\u001b[0m\n",
      "\u001b[0;31mDocstring:\u001b[0m\n",
      "Generate a provincial license plate.\n",
      "\n",
      "If a value for ``province_prefix`` is provided, the value will be used\n",
      "as the prefix regardless of validity. If ``None``, then a valid prefix\n",
      "will be selected at random.\n",
      "\u001b[0;31mFile:\u001b[0m      ~/.local/share/virtualenvs/generador_datos_sinteticos-Nir3Ushe/lib/python3.8/site-packages/faker/providers/automotive/es_ES/__init__.py\n",
      "\u001b[0;31mType:\u001b[0m      method"
     ]
    }
   ],
   "source": [
    "?fake.license_plate_by_province\n",
    "\n",
    "fake.license_plate_by_province()"
   ]
  },
  {
   "cell_type": "code",
   "execution_count": 522,
   "metadata": {},
   "outputs": [
    {
     "data": {
      "text/plain": [
       "'2843 ZDM'"
      ]
     },
     "execution_count": 522,
     "metadata": {},
     "output_type": "execute_result"
    },
    {
     "name": "stdout",
     "output_type": "stream",
     "text": [
      "\u001b[0;31mSignature:\u001b[0m \u001b[0mfake\u001b[0m\u001b[0;34m.\u001b[0m\u001b[0mlicense_plate_unified\u001b[0m\u001b[0;34m(\u001b[0m\u001b[0;34m)\u001b[0m \u001b[0;34m->\u001b[0m \u001b[0mstr\u001b[0m\u001b[0;34m\u001b[0m\u001b[0;34m\u001b[0m\u001b[0m\n",
      "\u001b[0;31mDocstring:\u001b[0m Generate a unified license plate.\n",
      "\u001b[0;31mFile:\u001b[0m      ~/.local/share/virtualenvs/generador_datos_sinteticos-Nir3Ushe/lib/python3.8/site-packages/faker/providers/automotive/es_ES/__init__.py\n",
      "\u001b[0;31mType:\u001b[0m      method"
     ]
    }
   ],
   "source": [
    "?fake.license_plate_unified\n",
    "\n",
    "fake.license_plate_unified()"
   ]
  },
  {
   "cell_type": "code",
   "execution_count": 523,
   "metadata": {},
   "outputs": [
    {
     "data": {
      "text/plain": [
       "'X11; Linux i686'"
      ]
     },
     "execution_count": 523,
     "metadata": {},
     "output_type": "execute_result"
    },
    {
     "name": "stdout",
     "output_type": "stream",
     "text": [
      "\u001b[0;31mSignature:\u001b[0m \u001b[0mfake\u001b[0m\u001b[0;34m.\u001b[0m\u001b[0mlinux_platform_token\u001b[0m\u001b[0;34m(\u001b[0m\u001b[0;34m)\u001b[0m \u001b[0;34m->\u001b[0m \u001b[0mstr\u001b[0m\u001b[0;34m\u001b[0m\u001b[0;34m\u001b[0m\u001b[0m\n",
      "\u001b[0;31mDocstring:\u001b[0m Generate a Linux platform token used in user agent strings.\n",
      "\u001b[0;31mFile:\u001b[0m      ~/.local/share/virtualenvs/generador_datos_sinteticos-Nir3Ushe/lib/python3.8/site-packages/faker/providers/user_agent/__init__.py\n",
      "\u001b[0;31mType:\u001b[0m      method"
     ]
    }
   ],
   "source": [
    "?fake.linux_platform_token\n",
    "\n",
    "fake.linux_platform_token()"
   ]
  },
  {
   "cell_type": "code",
   "execution_count": 524,
   "metadata": {},
   "outputs": [
    {
     "data": {
      "text/plain": [
       "'x86_64'"
      ]
     },
     "execution_count": 524,
     "metadata": {},
     "output_type": "execute_result"
    },
    {
     "name": "stdout",
     "output_type": "stream",
     "text": [
      "\u001b[0;31mSignature:\u001b[0m \u001b[0mfake\u001b[0m\u001b[0;34m.\u001b[0m\u001b[0mlinux_processor\u001b[0m\u001b[0;34m(\u001b[0m\u001b[0;34m)\u001b[0m \u001b[0;34m->\u001b[0m \u001b[0mstr\u001b[0m\u001b[0;34m\u001b[0m\u001b[0;34m\u001b[0m\u001b[0m\n",
      "\u001b[0;31mDocstring:\u001b[0m Generate a Linux processor token used in user agent strings.\n",
      "\u001b[0;31mFile:\u001b[0m      ~/.local/share/virtualenvs/generador_datos_sinteticos-Nir3Ushe/lib/python3.8/site-packages/faker/providers/user_agent/__init__.py\n",
      "\u001b[0;31mType:\u001b[0m      method"
     ]
    }
   ],
   "source": [
    "?fake.linux_processor\n",
    "\n",
    "fake.linux_processor()"
   ]
  },
  {
   "cell_type": "code",
   "execution_count": 561,
   "metadata": {},
   "outputs": [
    {
     "data": {
      "text/plain": [
       "('10.15031', '-73.9614', 'El Copey', 'CO', 'America/Bogota')"
      ]
     },
     "execution_count": 561,
     "metadata": {},
     "output_type": "execute_result"
    },
    {
     "name": "stdout",
     "output_type": "stream",
     "text": [
      "\u001b[0;31mSignature:\u001b[0m \u001b[0mfake\u001b[0m\u001b[0;34m.\u001b[0m\u001b[0mlocal_latlng\u001b[0m\u001b[0;34m(\u001b[0m\u001b[0mcountry_code\u001b[0m\u001b[0;34m:\u001b[0m \u001b[0mstr\u001b[0m \u001b[0;34m=\u001b[0m \u001b[0;34m'US'\u001b[0m\u001b[0;34m,\u001b[0m \u001b[0mcoords_only\u001b[0m\u001b[0;34m:\u001b[0m \u001b[0mbool\u001b[0m \u001b[0;34m=\u001b[0m \u001b[0;32mFalse\u001b[0m\u001b[0;34m)\u001b[0m \u001b[0;34m->\u001b[0m \u001b[0mUnion\u001b[0m\u001b[0;34m[\u001b[0m\u001b[0mTuple\u001b[0m\u001b[0;34m[\u001b[0m\u001b[0mstr\u001b[0m\u001b[0;34m,\u001b[0m \u001b[0;34m...\u001b[0m\u001b[0;34m]\u001b[0m\u001b[0;34m,\u001b[0m \u001b[0mNoneType\u001b[0m\u001b[0;34m]\u001b[0m\u001b[0;34m\u001b[0m\u001b[0;34m\u001b[0m\u001b[0m\n",
      "\u001b[0;31mDocstring:\u001b[0m\n",
      "Returns a location known to exist on land in a country specified by `country_code`.\n",
      "Defaults to 'en_US'. See the `land_coords` list for available locations/countries.\n",
      "\u001b[0;31mFile:\u001b[0m      ~/.local/share/virtualenvs/generador_datos_sinteticos-Nir3Ushe/lib/python3.8/site-packages/faker/providers/geo/__init__.py\n",
      "\u001b[0;31mType:\u001b[0m      method"
     ]
    }
   ],
   "source": [
    "?fake.local_latlng\n",
    "\n",
    "fake.local_latlng(country_code=\"CO\")"
   ]
  },
  {
   "cell_type": "code",
   "execution_count": 563,
   "metadata": {},
   "outputs": [
    {
     "data": {
      "text/plain": [
       "'ak_GH'"
      ]
     },
     "execution_count": 563,
     "metadata": {},
     "output_type": "execute_result"
    },
    {
     "name": "stdout",
     "output_type": "stream",
     "text": [
      "\u001b[0;31mSignature:\u001b[0m \u001b[0mfake\u001b[0m\u001b[0;34m.\u001b[0m\u001b[0mlocale\u001b[0m\u001b[0;34m(\u001b[0m\u001b[0;34m)\u001b[0m \u001b[0;34m->\u001b[0m \u001b[0mstr\u001b[0m\u001b[0;34m\u001b[0m\u001b[0;34m\u001b[0m\u001b[0m\n",
      "\u001b[0;31mDocstring:\u001b[0m Generate a random underscored i18n locale code (e.g. en_US).\n",
      "\u001b[0;31mFile:\u001b[0m      ~/.local/share/virtualenvs/generador_datos_sinteticos-Nir3Ushe/lib/python3.8/site-packages/faker/providers/__init__.py\n",
      "\u001b[0;31mType:\u001b[0m      method"
     ]
    }
   ],
   "source": [
    "?fake.locale\n",
    "\n",
    "fake.locale()"
   ]
  },
  {
   "cell_type": "code",
   "execution_count": 566,
   "metadata": {},
   "outputs": [
    {
     "data": {
      "text/plain": [
       "['es_ES', 'en_US']"
      ]
     },
     "execution_count": 566,
     "metadata": {},
     "output_type": "execute_result"
    },
    {
     "name": "stdout",
     "output_type": "stream",
     "text": [
      "\u001b[0;31mType:\u001b[0m        property\n",
      "\u001b[0;31mString form:\u001b[0m <property object at 0x7f89e29704f0>\n",
      "\u001b[0;31mDocstring:\u001b[0m   <no docstring>"
     ]
    }
   ],
   "source": [
    "?fake.locales\n",
    "\n",
    "fake.locales"
   ]
  },
  {
   "cell_type": "code",
   "execution_count": 569,
   "metadata": {},
   "outputs": [
    {
     "data": {
      "text/plain": [
       "'04898092'"
      ]
     },
     "execution_count": 569,
     "metadata": {},
     "output_type": "execute_result"
    },
    {
     "name": "stdout",
     "output_type": "stream",
     "text": [
      "\u001b[0;31mSignature:\u001b[0m \u001b[0mfake\u001b[0m\u001b[0;34m.\u001b[0m\u001b[0mlocalized_ean\u001b[0m\u001b[0;34m(\u001b[0m\u001b[0mlength\u001b[0m\u001b[0;34m:\u001b[0m \u001b[0mint\u001b[0m \u001b[0;34m=\u001b[0m \u001b[0;36m13\u001b[0m\u001b[0;34m)\u001b[0m \u001b[0;34m->\u001b[0m \u001b[0mstr\u001b[0m\u001b[0;34m\u001b[0m\u001b[0;34m\u001b[0m\u001b[0m\n",
      "\u001b[0;31mDocstring:\u001b[0m\n",
      "Generate a localized EAN barcode of the specified ``length``.\n",
      "\n",
      "The value of ``length`` can only be ``8`` or ``13`` (default) which will\n",
      "create an EAN-8 or an EAN-13 barcode respectively.\n",
      "\n",
      "This method uses the standard barcode provider's |ean| under the hood\n",
      "with the ``prefixes`` argument explicitly set to ``local_prefixes`` of\n",
      "a localized barcode provider implementation.\n",
      "\n",
      ":sample:\n",
      ":sample: length=13\n",
      ":sample: length=8\n",
      "\u001b[0;31mFile:\u001b[0m      ~/.local/share/virtualenvs/generador_datos_sinteticos-Nir3Ushe/lib/python3.8/site-packages/faker/providers/barcode/__init__.py\n",
      "\u001b[0;31mType:\u001b[0m      method"
     ]
    }
   ],
   "source": [
    "?fake.localized_ean\n",
    "\n",
    "fake.localized_ean(length=8)"
   ]
  },
  {
   "cell_type": "code",
   "execution_count": 570,
   "metadata": {},
   "outputs": [
    {
     "data": {
      "text/plain": [
       "'0640208078625'"
      ]
     },
     "execution_count": 570,
     "metadata": {},
     "output_type": "execute_result"
    },
    {
     "name": "stdout",
     "output_type": "stream",
     "text": [
      "\u001b[0;31mSignature:\u001b[0m \u001b[0mfake\u001b[0m\u001b[0;34m.\u001b[0m\u001b[0mlocalized_ean13\u001b[0m\u001b[0;34m(\u001b[0m\u001b[0;34m)\u001b[0m \u001b[0;34m->\u001b[0m \u001b[0mstr\u001b[0m\u001b[0;34m\u001b[0m\u001b[0;34m\u001b[0m\u001b[0m\n",
      "\u001b[0;31mDocstring:\u001b[0m\n",
      "Generate a localized EAN-13 barcode.\n",
      "\n",
      "This method uses |localized_ean| under the hood with the ``length``\n",
      "argument explicitly set to ``13``.\n",
      "\u001b[0;31mFile:\u001b[0m      ~/.local/share/virtualenvs/generador_datos_sinteticos-Nir3Ushe/lib/python3.8/site-packages/faker/providers/barcode/__init__.py\n",
      "\u001b[0;31mType:\u001b[0m      method"
     ]
    }
   ],
   "source": [
    "?fake.localized_ean13\n",
    "\n",
    "fake.localized_ean13()"
   ]
  },
  {
   "cell_type": "code",
   "execution_count": 571,
   "metadata": {},
   "outputs": [
    {
     "data": {
      "text/plain": [
       "'84862549'"
      ]
     },
     "execution_count": 571,
     "metadata": {},
     "output_type": "execute_result"
    },
    {
     "name": "stdout",
     "output_type": "stream",
     "text": [
      "\u001b[0;31mSignature:\u001b[0m \u001b[0mfake\u001b[0m\u001b[0;34m.\u001b[0m\u001b[0mlocalized_ean8\u001b[0m\u001b[0;34m(\u001b[0m\u001b[0;34m)\u001b[0m \u001b[0;34m->\u001b[0m \u001b[0mstr\u001b[0m\u001b[0;34m\u001b[0m\u001b[0;34m\u001b[0m\u001b[0m\n",
      "\u001b[0;31mDocstring:\u001b[0m\n",
      "Generate a localized EAN-8 barcode.\n",
      "\n",
      "This method uses |localized_ean| under the hood with the ``length``\n",
      "argument explicitly set to ``8``.\n",
      "\u001b[0;31mFile:\u001b[0m      ~/.local/share/virtualenvs/generador_datos_sinteticos-Nir3Ushe/lib/python3.8/site-packages/faker/providers/barcode/__init__.py\n",
      "\u001b[0;31mType:\u001b[0m      method"
     ]
    }
   ],
   "source": [
    "?fake.localized_ean8\n",
    "\n",
    "fake.localized_ean8()"
   ]
  },
  {
   "cell_type": "code",
   "execution_count": 572,
   "metadata": {},
   "outputs": [
    {
     "name": "stdout",
     "output_type": "stream",
     "text": [
      "Object `fake.localization_on_land` not found.\n"
     ]
    },
    {
     "ename": "AttributeError",
     "evalue": "No generator object has attribute 'localization_on_land'",
     "output_type": "error",
     "traceback": [
      "\u001b[0;31m---------------------------------------------------------------------------\u001b[0m",
      "\u001b[0;31mAttributeError\u001b[0m                            Traceback (most recent call last)",
      "Cell \u001b[0;32mIn[572], line 3\u001b[0m\n\u001b[1;32m      1\u001b[0m get_ipython()\u001b[39m.\u001b[39mrun_line_magic(\u001b[39m'\u001b[39m\u001b[39mpinfo\u001b[39m\u001b[39m'\u001b[39m, \u001b[39m'\u001b[39m\u001b[39mfake.localization_on_land\u001b[39m\u001b[39m'\u001b[39m)\n\u001b[0;32m----> 3\u001b[0m fake\u001b[39m.\u001b[39;49mlocalization_on_land()\n",
      "File \u001b[0;32m~/.local/share/virtualenvs/generador_datos_sinteticos-Nir3Ushe/lib/python3.8/site-packages/faker/proxy.py:119\u001b[0m, in \u001b[0;36mFaker.__getattr__\u001b[0;34m(self, attr)\u001b[0m\n\u001b[1;32m    117\u001b[0m     \u001b[39mraise\u001b[39;00m \u001b[39mAttributeError\u001b[39;00m(msg)\n\u001b[1;32m    118\u001b[0m \u001b[39melse\u001b[39;00m:\n\u001b[0;32m--> 119\u001b[0m     factory \u001b[39m=\u001b[39m \u001b[39mself\u001b[39;49m\u001b[39m.\u001b[39;49m_select_factory(attr)\n\u001b[1;32m    120\u001b[0m     \u001b[39mreturn\u001b[39;00m \u001b[39mgetattr\u001b[39m(factory, attr)\n",
      "File \u001b[0;32m~/.local/share/virtualenvs/generador_datos_sinteticos-Nir3Ushe/lib/python3.8/site-packages/faker/proxy.py:152\u001b[0m, in \u001b[0;36mFaker._select_factory\u001b[0;34m(self, method_name)\u001b[0m\n\u001b[1;32m    150\u001b[0m \u001b[39mif\u001b[39;00m \u001b[39mlen\u001b[39m(factories) \u001b[39m==\u001b[39m \u001b[39m0\u001b[39m:\n\u001b[1;32m    151\u001b[0m     msg \u001b[39m=\u001b[39m \u001b[39mf\u001b[39m\u001b[39m\"\u001b[39m\u001b[39mNo generator object has attribute \u001b[39m\u001b[39m{\u001b[39;00mmethod_name\u001b[39m!r}\u001b[39;00m\u001b[39m\"\u001b[39m\n\u001b[0;32m--> 152\u001b[0m     \u001b[39mraise\u001b[39;00m \u001b[39mAttributeError\u001b[39;00m(msg)\n\u001b[1;32m    153\u001b[0m \u001b[39melif\u001b[39;00m \u001b[39mlen\u001b[39m(factories) \u001b[39m==\u001b[39m \u001b[39m1\u001b[39m:\n\u001b[1;32m    154\u001b[0m     \u001b[39mreturn\u001b[39;00m factories[\u001b[39m0\u001b[39m]\n",
      "\u001b[0;31mAttributeError\u001b[0m: No generator object has attribute 'localization_on_land'"
     ]
    }
   ],
   "source": [
    "?fake.localization_on_land\n",
    "\n",
    "fake.localization_on_land()"
   ]
  },
  {
   "cell_type": "code",
   "execution_count": 573,
   "metadata": {},
   "outputs": [
    {
     "data": {
      "text/plain": [
       "Decimal('103.206807')"
      ]
     },
     "execution_count": 573,
     "metadata": {},
     "output_type": "execute_result"
    },
    {
     "name": "stdout",
     "output_type": "stream",
     "text": [
      "\u001b[0;31mSignature:\u001b[0m \u001b[0mfake\u001b[0m\u001b[0;34m.\u001b[0m\u001b[0mlongitude\u001b[0m\u001b[0;34m(\u001b[0m\u001b[0;34m)\u001b[0m \u001b[0;34m->\u001b[0m \u001b[0mdecimal\u001b[0m\u001b[0;34m.\u001b[0m\u001b[0mDecimal\u001b[0m\u001b[0;34m\u001b[0m\u001b[0;34m\u001b[0m\u001b[0m\n",
      "\u001b[0;31mDocstring:\u001b[0m <no docstring>\n",
      "\u001b[0;31mFile:\u001b[0m      ~/.local/share/virtualenvs/generador_datos_sinteticos-Nir3Ushe/lib/python3.8/site-packages/faker/providers/geo/__init__.py\n",
      "\u001b[0;31mType:\u001b[0m      method"
     ]
    }
   ],
   "source": [
    "?fake.longitude\n",
    "\n",
    "fake.longitude()"
   ]
  },
  {
   "cell_type": "code",
   "execution_count": 574,
   "metadata": {},
   "outputs": [
    {
     "data": {
      "text/plain": [
       "'fb:a8:12:c2:7b:74'"
      ]
     },
     "execution_count": 574,
     "metadata": {},
     "output_type": "execute_result"
    },
    {
     "name": "stdout",
     "output_type": "stream",
     "text": [
      "\u001b[0;31mSignature:\u001b[0m \u001b[0mfake\u001b[0m\u001b[0;34m.\u001b[0m\u001b[0mmac_address\u001b[0m\u001b[0;34m(\u001b[0m\u001b[0;34m)\u001b[0m \u001b[0;34m->\u001b[0m \u001b[0mstr\u001b[0m\u001b[0;34m\u001b[0m\u001b[0;34m\u001b[0m\u001b[0m\n",
      "\u001b[0;31mDocstring:\u001b[0m <no docstring>\n",
      "\u001b[0;31mFile:\u001b[0m      ~/.local/share/virtualenvs/generador_datos_sinteticos-Nir3Ushe/lib/python3.8/site-packages/faker/providers/internet/__init__.py\n",
      "\u001b[0;31mType:\u001b[0m      method"
     ]
    }
   ],
   "source": [
    "?fake.mac_address\n",
    "\n",
    "fake.mac_address()"
   ]
  },
  {
   "cell_type": "code",
   "execution_count": 575,
   "metadata": {},
   "outputs": [
    {
     "data": {
      "text/plain": [
       "'Macintosh; U; PPC Mac OS X 10_7_5'"
      ]
     },
     "execution_count": 575,
     "metadata": {},
     "output_type": "execute_result"
    },
    {
     "name": "stdout",
     "output_type": "stream",
     "text": [
      "\u001b[0;31mSignature:\u001b[0m \u001b[0mfake\u001b[0m\u001b[0;34m.\u001b[0m\u001b[0mmac_platform_token\u001b[0m\u001b[0;34m(\u001b[0m\u001b[0;34m)\u001b[0m \u001b[0;34m->\u001b[0m \u001b[0mstr\u001b[0m\u001b[0;34m\u001b[0m\u001b[0;34m\u001b[0m\u001b[0m\n",
      "\u001b[0;31mDocstring:\u001b[0m Generate a MacOS platform token used in user agent strings.\n",
      "\u001b[0;31mFile:\u001b[0m      ~/.local/share/virtualenvs/generador_datos_sinteticos-Nir3Ushe/lib/python3.8/site-packages/faker/providers/user_agent/__init__.py\n",
      "\u001b[0;31mType:\u001b[0m      method"
     ]
    }
   ],
   "source": [
    "?fake.mac_platform_token\n",
    "\n",
    "fake.mac_platform_token()"
   ]
  },
  {
   "cell_type": "code",
   "execution_count": 576,
   "metadata": {},
   "outputs": [
    {
     "data": {
      "text/plain": [
       "'PPC'"
      ]
     },
     "execution_count": 576,
     "metadata": {},
     "output_type": "execute_result"
    },
    {
     "name": "stdout",
     "output_type": "stream",
     "text": [
      "\u001b[0;31mSignature:\u001b[0m \u001b[0mfake\u001b[0m\u001b[0;34m.\u001b[0m\u001b[0mmac_processor\u001b[0m\u001b[0;34m(\u001b[0m\u001b[0;34m)\u001b[0m \u001b[0;34m->\u001b[0m \u001b[0mstr\u001b[0m\u001b[0;34m\u001b[0m\u001b[0;34m\u001b[0m\u001b[0m\n",
      "\u001b[0;31mDocstring:\u001b[0m Generate a MacOS processor token used in user agent strings.\n",
      "\u001b[0;31mFile:\u001b[0m      ~/.local/share/virtualenvs/generador_datos_sinteticos-Nir3Ushe/lib/python3.8/site-packages/faker/providers/user_agent/__init__.py\n",
      "\u001b[0;31mType:\u001b[0m      method"
     ]
    }
   ],
   "source": [
    "?fake.mac_processor\n",
    "\n",
    "fake.mac_processor()"
   ]
  },
  {
   "cell_type": "code",
   "execution_count": 577,
   "metadata": {},
   "outputs": [
    {
     "data": {
      "text/plain": [
       "'98b0e4f326d3c533b2ea6200ef046aa9'"
      ]
     },
     "execution_count": 577,
     "metadata": {},
     "output_type": "execute_result"
    },
    {
     "name": "stdout",
     "output_type": "stream",
     "text": [
      "\u001b[0;31mSignature:\u001b[0m \u001b[0mfake\u001b[0m\u001b[0;34m.\u001b[0m\u001b[0mmd5\u001b[0m\u001b[0;34m(\u001b[0m\u001b[0mraw_output\u001b[0m\u001b[0;34m:\u001b[0m \u001b[0mbool\u001b[0m \u001b[0;34m=\u001b[0m \u001b[0;32mFalse\u001b[0m\u001b[0;34m)\u001b[0m \u001b[0;34m->\u001b[0m \u001b[0mUnion\u001b[0m\u001b[0;34m[\u001b[0m\u001b[0mbytes\u001b[0m\u001b[0;34m,\u001b[0m \u001b[0mstr\u001b[0m\u001b[0;34m]\u001b[0m\u001b[0;34m\u001b[0m\u001b[0;34m\u001b[0m\u001b[0m\n",
      "\u001b[0;31mDocstring:\u001b[0m\n",
      "Generate a random MD5 hash.\n",
      "\n",
      "If ``raw_output`` is ``False`` (default), a hexadecimal string representation of the MD5 hash\n",
      "will be returned. If ``True``, a ``bytes`` object representation will be returned instead.\n",
      "\n",
      ":sample: raw_output=False\n",
      ":sample: raw_output=True\n",
      "\u001b[0;31mFile:\u001b[0m      ~/.local/share/virtualenvs/generador_datos_sinteticos-Nir3Ushe/lib/python3.8/site-packages/faker/providers/misc/__init__.py\n",
      "\u001b[0;31mType:\u001b[0m      method"
     ]
    }
   ],
   "source": [
    "?fake.md5\n",
    "\n",
    "fake.md5()"
   ]
  },
  {
   "cell_type": "code",
   "execution_count": 606,
   "metadata": {},
   "outputs": [
    {
     "data": {
      "text/plain": [
       "'+34921172193'"
      ]
     },
     "execution_count": 606,
     "metadata": {},
     "output_type": "execute_result"
    },
    {
     "name": "stdout",
     "output_type": "stream",
     "text": [
      "\u001b[0;31mSignature:\u001b[0m \u001b[0mfake\u001b[0m\u001b[0;34m.\u001b[0m\u001b[0mphone_number\u001b[0m\u001b[0;34m(\u001b[0m\u001b[0;34m)\u001b[0m \u001b[0;34m->\u001b[0m \u001b[0mstr\u001b[0m\u001b[0;34m\u001b[0m\u001b[0;34m\u001b[0m\u001b[0m\n",
      "\u001b[0;31mDocstring:\u001b[0m <no docstring>\n",
      "\u001b[0;31mFile:\u001b[0m      ~/.local/share/virtualenvs/generador_datos_sinteticos-Nir3Ushe/lib/python3.8/site-packages/faker/providers/phone_number/__init__.py\n",
      "\u001b[0;31mType:\u001b[0m      method"
     ]
    }
   ],
   "source": [
    "?fake.phone_number\n",
    "\n",
    "fake.phone_number()"
   ]
  },
  {
   "cell_type": "code",
   "execution_count": 607,
   "metadata": {},
   "outputs": [
    {
     "data": {
      "text/plain": [
       "'Unit 9321 Box 0277'"
      ]
     },
     "execution_count": 607,
     "metadata": {},
     "output_type": "execute_result"
    },
    {
     "name": "stdout",
     "output_type": "stream",
     "text": [
      "\u001b[0;31mSignature:\u001b[0m \u001b[0mfake\u001b[0m\u001b[0;34m.\u001b[0m\u001b[0mmilitary_dpo\u001b[0m\u001b[0;34m(\u001b[0m\u001b[0;34m)\u001b[0m \u001b[0;34m->\u001b[0m \u001b[0mstr\u001b[0m\u001b[0;34m\u001b[0m\u001b[0;34m\u001b[0m\u001b[0m\n",
      "\u001b[0;31mDocstring:\u001b[0m :example: 'Unit 3333 Box 9342'\n",
      "\u001b[0;31mFile:\u001b[0m      ~/.local/share/virtualenvs/generador_datos_sinteticos-Nir3Ushe/lib/python3.8/site-packages/faker/providers/address/en_US/__init__.py\n",
      "\u001b[0;31mType:\u001b[0m      method"
     ]
    }
   ],
   "source": [
    "?fake.military_dpo\n",
    "\n",
    "fake.military_dpo()"
   ]
  },
  {
   "cell_type": "code",
   "execution_count": 652,
   "metadata": {},
   "outputs": [],
   "source": [
    "TEXT: str = \"\"\"\n",
    "name\n",
    "address\n",
    "text\n",
    "administrative_unit\n",
    "am_pm\n",
    "android_platform_token\n",
    "ascii_company_email\n",
    "ascii_email\n",
    "ascii_free_email\n",
    "ascii_safe_email\n",
    "autonomous_community\n",
    "bank_country\n",
    "bban\n",
    "binary\n",
    "boolean\n",
    "bothify\n",
    "bs\n",
    "building_number\n",
    "catch_phrase\n",
    "century\n",
    "chrome\n",
    "cif\n",
    "city\n",
    "city_prefix\n",
    "city_suffix\n",
    "date\n",
    "color\n",
    "color_name\n",
    "company\n",
    "company_email\n",
    "company_suffix\n",
    "coordinate\n",
    "country\n",
    "country_calling_code\n",
    "country_code\n",
    "credit_card_expire\n",
    "credit_card_full\n",
    "credit_card_number\n",
    "credit_card_provider\n",
    "credit_card_security_code\n",
    "cryptocurrency\n",
    "cryptocurrency_code\n",
    "cryptocurrency_name\n",
    "currency\n",
    "currency_code\n",
    "currency_name\n",
    "currency_symbol\n",
    "currency_country\n",
    "currency_country_code\n",
    "ean\n",
    "date_between(start_date=datetime(2019, 1, 1), end_date='today')\n",
    "date_between_dates(date_start=datetime(2019, 1, 1), date_end=datetime.today())\n",
    "date_object\n",
    "date_of_birth\n",
    "date_this_century\n",
    "date_this_decade\n",
    "date_this_month\n",
    "date_this_year\n",
    "date_time\n",
    "date_time_ad\n",
    "date_time_between(start_date=datetime(2019, 1, 1), end_date=datetime.now())\n",
    "date_time_between_dates(datetime_start=datetime(2019, 1, 1), datetime_end=datetime.now())\n",
    "date_time_this_century\n",
    "date_time_this_decade\n",
    "date_time_this_month\n",
    "date_time_this_year\n",
    "day_of_month\n",
    "day_of_week\n",
    "del_arguments\n",
    "dga\n",
    "doi\n",
    "domain_name\n",
    "domain_word\n",
    "hex_color\n",
    "ean13\n",
    "ean8\n",
    "ein\n",
    "email\n",
    "file_extension\n",
    "file_name(extension='csv')\n",
    "file_path(depth=4, absolute=True, extension='csv')\n",
    "firefox\n",
    "first_name\n",
    "first_name_female\n",
    "first_name_male\n",
    "first_name_nonbinary\n",
    "free_email\n",
    "free_email_domain\n",
    "future_date(end_date=timedelta(days=365))\n",
    "future_datetime(end_date=timedelta(days=365))\n",
    "language_name\n",
    "hexify\n",
    "hostname(levels=3)\n",
    "http_method\n",
    "iana_id\n",
    "iban\n",
    "image_url\n",
    "internet_explorer\n",
    "invalid_ssn\n",
    "ios_platform_token\n",
    "ipv4\n",
    "ipv4_network_class\n",
    "ipv4_private\n",
    "ipv4_public\n",
    "ipv6\n",
    "isbn10\n",
    "isbn13\n",
    "iso8601\n",
    "itin\n",
    "job\n",
    "language_code\n",
    "military_apo\n",
    "last_name\n",
    "last_name_female\n",
    "last_name_male\n",
    "last_name_nonbinary\n",
    "latitude\n",
    "latlng\n",
    "lexify\n",
    "license_plate\n",
    "license_plate_by_province\n",
    "license_plate_unified\n",
    "linux_platform_token\n",
    "linux_processor\n",
    "local_latlng(country_code=\"CO\")\n",
    "locale\n",
    "localized_ean13\n",
    "localized_ean8\n",
    "longitude\n",
    "mac_address\n",
    "mac_platform_token\n",
    "mac_processor\n",
    "md5\n",
    "phone_number\n",
    "military_dpo\n",
    "military_ship\n",
    "military_state\n",
    "mime_type\n",
    "month\n",
    "month_name\n",
    "msisdn\n",
    "name\n",
    "name_female\n",
    "name_male\n",
    "name_nonbinary\n",
    "nic_handle\n",
    "nic_handles\n",
    "nie\n",
    "nif\n",
    "null_boolean\n",
    "numerify\n",
    "opera\n",
    "paragraph\n",
    "paragraphs\n",
    "parse\n",
    "password\n",
    "past_date\n",
    "past_datetime\n",
    "pystr_format\n",
    "port_number\n",
    "postalcode\n",
    "postalcode_in_state\n",
    "postalcode_plus4\n",
    "postcode\n",
    "postcode_in_state\n",
    "prefix\n",
    "prefix_female\n",
    "prefix_male\n",
    "prefix_nonbinary\n",
    "pricetag\n",
    "profile\n",
    "provider\n",
    "providers\n",
    "psv\n",
    "pybool\n",
    "pydecimal\n",
    "pydict\n",
    "pyfloat\n",
    "pyint\n",
    "pyiterable\n",
    "pylist\n",
    "pyset\n",
    "pystr\n",
    "safe_color_name\n",
    "pystruct\n",
    "pytimezone\n",
    "pytuple\n",
    "random\n",
    "random_choices\n",
    "random_digit\n",
    "random_digit_not_null\n",
    "random_digit_not_null_or_empty\n",
    "random_digit_or_empty\n",
    "random_element\n",
    "random_elements\n",
    "random_int\n",
    "random_letter\n",
    "random_letters\n",
    "random_lowercase_letter\n",
    "random_number\n",
    "random_sample\n",
    "random_uppercase_letter\n",
    "randomize_nb_elements\n",
    "region\n",
    "rgb_color\n",
    "rgb_css_color\n",
    "ripe_id\n",
    "safari\n",
    "suffix_female\n",
    "safe_domain_name\n",
    "safe_email\n",
    "safe_hex_color\n",
    "secondary_address\n",
    "seed\n",
    "seed_instance\n",
    "seed_locale\n",
    "sentence\n",
    "sentences\n",
    "set_arguments\n",
    "set_formatter\n",
    "sha1\n",
    "sha256\n",
    "simple_profile\n",
    "slug\n",
    "ssn\n",
    "state\n",
    "state_abbr\n",
    "state_name\n",
    "street_address\n",
    "street_name\n",
    "street_prefix\n",
    "street_suffix\n",
    "suffix\n",
    "uri_path\n",
    "suffix_male\n",
    "suffix_nonbinary\n",
    "swift\n",
    "swift11\n",
    "swift8\n",
    "tar\n",
    "text\n",
    "texts\n",
    "time\n",
    "time_delta\n",
    "time_object\n",
    "time_series\n",
    "timezone\n",
    "tld\n",
    "tsv\n",
    "unique\n",
    "unix_device\n",
    "unix_partition\n",
    "unix_time\n",
    "upc_a\n",
    "upc_e\n",
    "uri\n",
    "uri_extension\n",
    "uri_page\n",
    "url\n",
    "user_agent\n",
    "user_name\n",
    "uuid4\n",
    "vat_id\n",
    "weights\n",
    "windiws_platform_token\n",
    "word\n",
    "words\n",
    "year\n",
    "zip\n",
    "zipcode\n",
    "zipcode_in_state\n",
    "zipcode_plus4\n",
    "\"\"\""
   ]
  },
  {
   "cell_type": "code",
   "execution_count": 710,
   "metadata": {},
   "outputs": [
    {
     "name": "stdout",
     "output_type": "stream",
     "text": [
      "['address', 'administrative_unit', 'am_pm', 'android_platform_token', 'ascii_company_email', 'ascii_email', 'ascii_free_email', 'ascii_safe_email', 'autonomous_community', 'bank_country', 'bban', 'binary', 'boolean', 'bothify', 'bs', 'building_number', 'catch_phrase', 'century', 'chrome', 'cif', 'city', 'city_prefix', 'city_suffix', 'color', 'color_name', 'company', 'company_email', 'company_suffix', 'coordinate', 'country', 'country_calling_code', 'country_code', 'credit_card_expire', 'credit_card_full', 'credit_card_number', 'credit_card_provider', 'credit_card_security_code', 'cryptocurrency', 'cryptocurrency_code', 'cryptocurrency_name', 'currency', 'currency_code', 'currency_country', 'currency_country_code', 'currency_name', 'currency_symbol', 'date', \"date_between(start_date=datetime(2019, 1, 1), end_date='today')\", 'date_between_dates(date_start=datetime(2019, 1, 1), date_end=datetime.today())', 'date_object', 'date_of_birth', 'date_this_century', 'date_this_decade', 'date_this_month', 'date_this_year', 'date_time', 'date_time_ad', 'date_time_between(start_date=datetime(2019, 1, 1), end_date=datetime.now())', 'date_time_between_dates(datetime_start=datetime(2019, 1, 1), datetime_end=datetime.now())', 'date_time_this_century', 'date_time_this_decade', 'date_time_this_month', 'date_time_this_year', 'day_of_month', 'day_of_week', 'del_arguments', 'dga', 'doi', 'domain_name', 'domain_word', 'ean', 'ean13', 'ean8', 'ein', 'email', 'file_extension', \"file_name(extension='csv')\", \"file_path(depth=4, absolute=True, extension='csv')\", 'firefox', 'first_name', 'first_name_female', 'first_name_male', 'first_name_nonbinary', 'free_email', 'free_email_domain', 'future_date(end_date=timedelta(days=365))', 'future_datetime(end_date=timedelta(days=365))', 'hex_color', 'hexify', 'hostname(levels=3)', 'http_method', 'iana_id', 'iban', 'image_url', 'internet_explorer', 'invalid_ssn', 'ios_platform_token', 'ipv4', 'ipv4_network_class', 'ipv4_private', 'ipv4_public', 'ipv6', 'isbn10', 'isbn13', 'iso8601', 'itin', 'job', 'language_code', 'language_name', 'last_name', 'last_name_female', 'last_name_male', 'last_name_nonbinary', 'latitude', 'latlng', 'lexify', 'license_plate', 'license_plate_by_province', 'license_plate_unified', 'linux_platform_token', 'linux_processor', 'local_latlng(country_code=\"CO\")', 'locale', 'localized_ean13', 'localized_ean8', 'longitude', 'mac_address', 'mac_platform_token', 'mac_processor', 'md5', 'military_apo', 'military_dpo', 'military_ship', 'military_state', 'mime_type', 'month', 'month_name', 'msisdn', 'name', 'name', 'name_female', 'name_male', 'name_nonbinary', 'nic_handle', 'nic_handles', 'nie', 'nif', 'null_boolean', 'numerify', 'opera', 'paragraph', 'paragraphs', 'parse', 'password', 'past_date', 'past_datetime', 'phone_number', 'port_number', 'postalcode', 'postalcode_in_state', 'postalcode_plus4', 'postcode', 'postcode_in_state', 'prefix', 'prefix_female', 'prefix_male', 'prefix_nonbinary', 'pricetag', 'profile', 'provider', 'providers', 'psv', 'pybool', 'pydecimal', 'pydict', 'pyfloat', 'pyint', 'pyiterable', 'pylist', 'pyset', 'pystr', 'pystr_format', 'pystruct', 'pytimezone', 'pytuple', 'random', 'random_choices', 'random_digit', 'random_digit_not_null', 'random_digit_not_null_or_empty', 'random_digit_or_empty', 'random_element', 'random_elements', 'random_int', 'random_letter', 'random_letters', 'random_lowercase_letter', 'random_number', 'random_sample', 'random_uppercase_letter', 'randomize_nb_elements', 'region', 'rgb_color', 'rgb_css_color', 'ripe_id', 'safari', 'safe_color_name', 'safe_domain_name', 'safe_email', 'safe_hex_color', 'secondary_address', 'seed', 'seed_instance', 'seed_locale', 'sentence', 'sentences', 'set_arguments', 'set_formatter', 'sha1', 'sha256', 'simple_profile', 'slug', 'ssn', 'state', 'state_abbr', 'state_name', 'street_address', 'street_name', 'street_prefix', 'street_suffix', 'suffix', 'suffix_female', 'suffix_male', 'suffix_nonbinary', 'swift', 'swift11', 'swift8', 'tar', 'text', 'text', 'texts', 'time', 'time_delta', 'time_object', 'time_series', 'timezone', 'tld', 'tsv', 'unique', 'unix_device', 'unix_partition', 'unix_time', 'upc_a', 'upc_e', 'uri', 'uri_extension', 'uri_page', 'uri_path', 'url', 'user_agent', 'user_name', 'uuid4', 'vat_id', 'weights', 'windiws_platform_token', 'word', 'words', 'year', 'zip', 'zipcode', 'zipcode_in_state', 'zipcode_plus4']\n"
     ]
    }
   ],
   "source": [
    "import pandas as pd\n",
    "\n",
    "from faker import Faker\n",
    "# fake = Faker(['es_ES', 'en_US'])\n",
    "fake = Faker('es_ES')\n",
    "\n",
    "import os\n",
    "import json\n",
    "from numpyencoder import NumpyEncoder\n",
    "from datetime import datetime\n",
    "\n",
    "DATE: str = datetime.now().strftime(\"%Y%m%d\")\n",
    "MAIN_PATH: str = \"/home/ubuntu/workspace/fsalinas/generador_datos_sinteticos\"\n",
    "DATA_PATH: str = os.path.join(MAIN_PATH, f\"data/fake01/{DATE}\")\n",
    "\n",
    "# HEADERS = ['name', 'address', 'cryptocurrency', 'credit_card_number', 'credit_card_expire', 'country', 'city', 'chrome']\n",
    "# OMIT = list(set([\"city_prefix\", \"currency_country\", \"currency_country_code\", \"del_arguments\", \"ein\", \"autonomous_community\", \"invalid_ssn\",\n",
    "#         \"cif\", \"itin\", \"military_apo\", \"military_dpo\", \"doi\", \"license_plate_by_province\", \"military_ship\", \"military_state\",\n",
    "#         \"license_plate_unified\", \"nie\", \"nif\", \"parse\", \"provider\", \"postalcode\", \"postalcode_in_state\", \"postalcode_plus4\",\n",
    "#         \"postcode_in_state\"]))\n",
    "\n",
    "# HEADERS = [z for z in [y for y in [x for x in TEXT.split(\"\\n\") if x] if y not in OMIT] if \"(\" not in z]\n",
    "HEADERS = [x for x in TEXT.split(\"\\n\") if x]\n",
    "HEADERS.sort()\n",
    "\n",
    "print(HEADERS)\n",
    "\n",
    "FINAL_HEADERS = ['first_name_female', 'last_name_female', 'address', 'ascii_free_email', 'ascii_company_email', 'city', 'company', 'company_email',\n",
    "                'credit_card_number', 'credit_card_expire', 'credit_card_security_code', 'credit_card_provider', 'currency', 'currency_code',\n",
    "                \"date\", \"date_of_birth\", \"date_time\", \"day_of_week\", \"hostname\", \"image_url\", \"ipv4\", \"ipv6\", \"job\", \"latlng\", \"nif\", \"password\",\n",
    "                \"phone_number\", \"pricetag\", \"profile\", \"pyfloat\", \"pyint\", \"random_digit_not_null\", \"random_int\", \"region\", \"rgb_color\", \"secondary_address\",\n",
    "                \"state_name\", \"swift\", \"text\", \"timezone\", \"url\", \"user_agent\", \"user_name\"]\n",
    "DATA_COLUMNS = ['{{'+x+'}}' for x in FINAL_HEADERS]\n",
    "\n",
    "fake_data = fake.csv(\n",
    "    header=FINAL_HEADERS,\n",
    "    data_columns=DATA_COLUMNS,\n",
    "    num_rows=10,\n",
    "    include_row_ids=True\n",
    "    )\n",
    "\n",
    "os.makedirs(DATA_PATH, exist_ok=True)\n",
    "\n",
    "FILE_PATH: str = os.path.join(DATA_PATH, 'fake02.csv')\n",
    "\n",
    "with open(FILE_PATH, 'w') as f:\n",
    "    f.write(fake_data if os.path.exists(FILE_PATH) else fake_data[1:])\n",
    "\n",
    "JSON_FORMAT = json.loads(df.query(\"ID == '1'\").to_json(orient='records'))\n",
    "\n",
    "with open(os.path.join(DATA_PATH, 'fake02.json'), 'w') as f:\n",
    "    json.dump(JSON_FORMAT, f, indent=4, ensure_ascii=False, sort_keys=True, default=str, separators=(',', ': '), cls=NumpyEncoder)\n",
    "\n",
    "df = pd.read_csv(FILE_PATH, dtype=str)\n",
    "# df.info()\n",
    "# df.head().T\n",
    "KAFKA_MESSAGE = f\"{JSON_FORMAT}\".encode('utf-8')\n",
    "# KAFKA_MESSAGE"
   ]
  },
  {
   "cell_type": "code",
   "execution_count": 696,
   "metadata": {},
   "outputs": [],
   "source": [
    "JSON_FORMAT = json.loads(df.query(\"ID == '1'\").to_json(orient='records'))\n",
    "\n",
    "with open(os.path.join(DATA_PATH, 'fake02.json'), 'w') as f:\n",
    "    json.dump(JSON_FORMAT, f, indent=4, ensure_ascii=False)"
   ]
  },
  {
   "cell_type": "code",
   "execution_count": 698,
   "metadata": {},
   "outputs": [
    {
     "data": {
      "text/plain": [
       "{'ID': '1',\n",
       " 'first_name_female': 'Marina',\n",
       " 'last_name_female': 'Arregui',\n",
       " 'address': 'Glorieta de Marciano Cabrera 55\\nNavarra, 34570',\n",
       " 'ascii_free_email': 'izquierdoemigdiohotmail.com',\n",
       " 'ascii_company_email': 'chuy571benavent-canovas.com',\n",
       " 'city': 'Santa Cruz de Tenerife',\n",
       " 'company': 'Herrera-Rueda',\n",
       " 'company_email': 'ramonmoreno2bustos.es',\n",
       " 'credit_card_number': '6554619411141900',\n",
       " 'credit_card_expire': '09/29',\n",
       " 'credit_card_security_code': '389',\n",
       " 'credit_card_provider': 'JCB 15 digit',\n",
       " 'currency': \"('TRY', 'Lira turca')\",\n",
       " 'currency_code': 'TVD',\n",
       " 'date': '1984-10-19',\n",
       " 'date_of_birth': '1974-03-24',\n",
       " 'date_time': '2019-03-24 11:40:31',\n",
       " 'day_of_week': 'viernes',\n",
       " 'hostname': 'web-22.barragan.es',\n",
       " 'image_url': 'https://dummyimage.com/641x62',\n",
       " 'ipv4': '48.72.200.134',\n",
       " 'ipv6': '61e:a259:130b:7213:30de:1ee5:3056:5896',\n",
       " 'job': 'Operador de máquinas para fabricar cemento y otros productos minerales',\n",
       " 'latlng': \"(Decimal('-85.3351725'), Decimal('24.223396'))\",\n",
       " 'nif': '50986815R',\n",
       " 'password': 'd6CDS6+2_K',\n",
       " 'phone_number': '+34 883 68 90 15',\n",
       " 'pricetag': '4,89\\xa0€',\n",
       " 'profile': \"{'job': 'Modisto', 'company': 'Becerra-Alfaro', 'ssn': '219-84-8425', 'residence': 'Acceso de Reina Roman 103 Puerta 9 \\\\nSegovia, 04387', 'current_location': (Decimal('78.921868'), Decimal('-100.293796')), 'blood_group': 'O-', 'website': ['http://izquierdo.com/', 'http://www.ribas-munoz.com/'], 'username': 'lourdes26', 'name': 'Sabina Acuña Villalba', 'sex': 'F', 'address': 'C. de José Luis Luís 170 Piso 9 \\\\nÁvila, 30544', 'mail': 'almansabaltasaryahoo.com', 'birthdate': datetime.date(1942, 3, 25)}\",\n",
       " 'pyfloat': '-784330288.132093',\n",
       " 'pyint': '4321',\n",
       " 'random_digit_not_null': '2',\n",
       " 'random_int': '5421',\n",
       " 'region': 'Comunitat Valenciana',\n",
       " 'rgb_color': '159,199,79',\n",
       " 'secondary_address': 'Apt. 70',\n",
       " 'state_name': 'Las Palmas',\n",
       " 'swift': 'UZXEESD9MDO',\n",
       " 'text': 'Est iusto cupiditate placeat dolores. Dolorem doloribus inventore facere voluptate rerum.\\nSit quas totam. Libero est eius esse magni quos impedit.\\nUllam rerum nostrum. A at sit at.',\n",
       " 'timezone': 'Europe/Tallinn',\n",
       " 'url': 'https://escalona.es/',\n",
       " 'user_agent': 'Mozilla/5.0 (compatible; MSIE 5.0; Windows NT 4.0; Trident/4.0)',\n",
       " 'user_name': 'folchefrain'}"
      ]
     },
     "execution_count": 698,
     "metadata": {},
     "output_type": "execute_result"
    }
   ],
   "source": [
    "JSON_FORMAT[0]"
   ]
  }
 ],
 "metadata": {
  "kernelspec": {
   "display_name": "generador_datos_sinteticos-Nir3Ushe",
   "language": "python",
   "name": "python3"
  },
  "language_info": {
   "codemirror_mode": {
    "name": "ipython",
    "version": 3
   },
   "file_extension": ".py",
   "mimetype": "text/x-python",
   "name": "python",
   "nbconvert_exporter": "python",
   "pygments_lexer": "ipython3",
   "version": "3.8.10"
  },
  "orig_nbformat": 4,
  "vscode": {
   "interpreter": {
    "hash": "9d722eabd0a3d98b789312024abc085e9cffd7a9ec729d87257a3629761920b9"
   }
  }
 },
 "nbformat": 4,
 "nbformat_minor": 2
}
